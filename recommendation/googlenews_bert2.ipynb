{
 "cells": [
  {
   "cell_type": "code",
   "execution_count": 1,
   "metadata": {},
   "outputs": [],
   "source": [
    "import pandas as pd"
   ]
  },
  {
   "cell_type": "code",
   "execution_count": 2,
   "metadata": {},
   "outputs": [],
   "source": [
    "df = pd.read_csv('vaccine_preprocessed_3.csv', sep='|')"
   ]
  },
  {
   "cell_type": "code",
   "execution_count": 3,
   "metadata": {},
   "outputs": [
    {
     "data": {
      "text/html": [
       "<div>\n",
       "<style scoped>\n",
       "    .dataframe tbody tr th:only-of-type {\n",
       "        vertical-align: middle;\n",
       "    }\n",
       "\n",
       "    .dataframe tbody tr th {\n",
       "        vertical-align: top;\n",
       "    }\n",
       "\n",
       "    .dataframe thead th {\n",
       "        text-align: right;\n",
       "    }\n",
       "</style>\n",
       "<table border=\"1\" class=\"dataframe\">\n",
       "  <thead>\n",
       "    <tr style=\"text-align: right;\">\n",
       "      <th></th>\n",
       "      <th>item_id</th>\n",
       "      <th>category</th>\n",
       "      <th>title</th>\n",
       "      <th>content</th>\n",
       "      <th>sentiment</th>\n",
       "      <th>summary</th>\n",
       "      <th>top_key_freq</th>\n",
       "      <th>tokens</th>\n",
       "      <th>tokens_v2</th>\n",
       "      <th>entities</th>\n",
       "      <th>token_pos</th>\n",
       "      <th>link</th>\n",
       "    </tr>\n",
       "  </thead>\n",
       "  <tbody>\n",
       "    <tr>\n",
       "      <th>0</th>\n",
       "      <td>1</td>\n",
       "      <td>AZ</td>\n",
       "      <td>澎湖確診數升 兒童疫苗接種率已逾7成</td>\n",
       "      <td>澎湖COVID-19（2019冠狀病毒疾病）確診數攀升，澎湖縣政府今天公布新增182例，還有...</td>\n",
       "      <td>0.0</td>\n",
       "      <td>['澎湖5至11歲兒童疫苗接種種率已逾7成', '澎湖縣政府今天公布新增182例確診案例',...</td>\n",
       "      <td>[('澎湖', 5), ('疫苗', 5), ('接種', 4), ('確診', 3), (...</td>\n",
       "      <td>['澎湖', 'COVID-19', '（', '2019', '冠狀', '病毒', '疾...</td>\n",
       "      <td>['澎湖', '冠狀', '病毒', '疾病', '確診數', '澎湖縣', '政府', '...</td>\n",
       "      <td>[NerToken(word='澎湖', ner='GPE', idx=(0, 2)), N...</td>\n",
       "      <td>[('澎湖', 'Nc'), ('COVID-19', 'FW'), ('（', 'PARE...</td>\n",
       "      <td>https://news.google.com/articles/CBMiMmh0dHBzO...</td>\n",
       "    </tr>\n",
       "  </tbody>\n",
       "</table>\n",
       "</div>"
      ],
      "text/plain": [
       "   item_id category               title  \\\n",
       "0        1       AZ  澎湖確診數升 兒童疫苗接種率已逾7成   \n",
       "\n",
       "                                             content  sentiment  \\\n",
       "0  澎湖COVID-19（2019冠狀病毒疾病）確診數攀升，澎湖縣政府今天公布新增182例，還有...        0.0   \n",
       "\n",
       "                                             summary  \\\n",
       "0  ['澎湖5至11歲兒童疫苗接種種率已逾7成', '澎湖縣政府今天公布新增182例確診案例',...   \n",
       "\n",
       "                                        top_key_freq  \\\n",
       "0  [('澎湖', 5), ('疫苗', 5), ('接種', 4), ('確診', 3), (...   \n",
       "\n",
       "                                              tokens  \\\n",
       "0  ['澎湖', 'COVID-19', '（', '2019', '冠狀', '病毒', '疾...   \n",
       "\n",
       "                                           tokens_v2  \\\n",
       "0  ['澎湖', '冠狀', '病毒', '疾病', '確診數', '澎湖縣', '政府', '...   \n",
       "\n",
       "                                            entities  \\\n",
       "0  [NerToken(word='澎湖', ner='GPE', idx=(0, 2)), N...   \n",
       "\n",
       "                                           token_pos  \\\n",
       "0  [('澎湖', 'Nc'), ('COVID-19', 'FW'), ('（', 'PARE...   \n",
       "\n",
       "                                                link  \n",
       "0  https://news.google.com/articles/CBMiMmh0dHBzO...  "
      ]
     },
     "execution_count": 3,
     "metadata": {},
     "output_type": "execute_result"
    }
   ],
   "source": [
    "df.head(1)"
   ]
  },
  {
   "cell_type": "code",
   "execution_count": null,
   "metadata": {},
   "outputs": [],
   "source": []
  },
  {
   "cell_type": "code",
   "execution_count": 4,
   "metadata": {},
   "outputs": [],
   "source": [
    "#-- Given a category, get the latest news\n",
    "def get_userkeyword_cate_latest_news(cate, user_keywords):\n",
    "    # get the last news (the latest news)\n",
    "    # df_cate = df_cate.tail(10)  # Only 10 pieces\n",
    "    # only return 10 news\n",
    "    # proceed filtering: news category\n",
    "    # and or 條件\n",
    "\n",
    "    \n",
    "    # (2) proceed filtering: news category\n",
    "    # 新聞類別條件\n",
    "    # category condition\n",
    "    condition = (df.category == cate) \n",
    "    \n",
    "    # (3) query keywords condition使用者輸入關鍵字條件and\n",
    "    # 若未輸入關鍵字，結果是true，因為\"\" in text 不管text字串內容為何，運算結果為True\n",
    "    condition = condition & df.content.apply(lambda text: all(\n",
    "            (qk in text) for qk in user_keywords))  # 寫法:all()\n",
    "    \n",
    "    \n",
    "    # condiction is a list of True or False boolean value\n",
    "    df_query = df[condition]\n",
    "\n",
    "    print(df_query.shape)\n",
    "\n",
    "    # 隨機挑選4篇\n",
    "    if len(df_query) >= 4:\n",
    "        df_query = df_query.sample(4) # Sample only 4 pieces 若文章數不足會報錯!\n",
    "    else:\n",
    "        df_query = df_query.tail(4) # Only latest 4 pieces\n",
    "    \n",
    "    items = []\n",
    "    for i in range( len(df_query)):\n",
    "        item_id = df_query.iloc[i].item_id    \n",
    "        title = df_query.iloc[i].title\n",
    "        content = df_query.iloc[i].content\n",
    "        category = df_query.iloc[i].category\n",
    "        link = df_query.iloc[i].link\n",
    "\n",
    "        news_info = {\n",
    "            \"item_id\": item_id, \n",
    "            \"category\": category, \n",
    "            \"title\": title,\n",
    "            \"content\": content, \n",
    "            \"link\": link,\n",
    "        }\n",
    "\n",
    "        items.append(news_info)\n",
    "    return items"
   ]
  },
  {
   "cell_type": "code",
   "execution_count": 5,
   "metadata": {},
   "outputs": [
    {
     "name": "stdout",
     "output_type": "stream",
     "text": [
      "(73, 12)\n"
     ]
    },
    {
     "data": {
      "text/plain": [
       "[{'item_id': 184,\n",
       "  'category': 'AZ',\n",
       "  'title': '談BNT、AZ疫苗副作用比較 醫：打完一周就別胡思亂想',\n",
       "  'content': '疫苗混打議題討論許久，中央流行疫情指揮中心指揮官陳時中昨終於宣布開放混打「AZ＋mRNA疫苗」，但以第一至三類人為優先。根據統計，目前已有551萬人打完首劑AZ，但只有30.7萬人打完第二劑，剩餘的520萬人中有70萬人屬於一至三類族群，為可優先混打的人，其他人則須再等等。根據指揮中心公布的數據統計，目前大概有551萬人已經打了第一劑AZ疫苗，但僅30.7萬人打完第二劑AZ，剩餘約520萬人還沒有接種第二劑的疫苗，其中僅70萬人屬於第一類至第三類公費疫苗接種對象，可以優先混打「AZ＋mRNA疫苗」。陳時中昨在記者會上表示，經過專家會議討論，認為「AZ+mRNA疫苗的混打可行」而這部分會由第一類至第三類的人員做起，其中染疫風險較高的第一線醫護人員可以優先施打，其他人的部分則會看疫苗供應的狀況，再做決定。國外許多國家因為疫苗到貨不穩定，與先前AZ爆出罕見副作用血栓的緣故，早早就開始實施疫苗混打的措施，我國也有許多醫師針對此事發文討論。其中萬芳醫院精神科醫師潘建志就曾發文分享，目前最有效的混打組合是先打「腺病毒載體疫苗（AZ或嬌生）」，接著再打「mRNA疫苗（BNT或莫德納）」。而胸腔科醫師蘇一峰也曾在臉書上引述《自然醫學期刊（Nature Medicine）》的研究指出，單用AZ疫苗抗體弱、T細胞免疫強；單用mRNA疫苗抗體強、T細胞免疫弱；而混打則可以抗體與T細胞免疫兩樣都強。決策有膽識 醫護將混打AZ＋莫德納 醫：台灣當防疫先鋒疫苗混打太晚來 醫嘆：最後只爽到二類官員陳時中堅稱「3＋11」不是疫情破口 范雲回應了',\n",
       "  'link': 'https://news.google.com/articles/CAIiEOeXzOs2yUVRv5ZgpXuGAZwqGQgEKhAIACoHCAowk7j0CjCY4qIDMMKL4gY?uo=CAUiPWh0dHBzOi8vd3d3LmNoaW5hdGltZXMuY29tL3JlYWx0aW1lbmV3cy8yMDIxMDcwNjAwNTg4Ni0yNjA0MDXSAQA&hl=zh-TW&gl=TW&ceid=TW%3Azh-Hant'},\n",
       " {'item_id': 118,\n",
       "  'category': 'AZ',\n",
       "  'title': '印度惹怒全球最大疫苗生產商 AZ產量直接砍半',\n",
       "  'content': '第八輪AZ疫苗今上午10點起開放預約，符合資格者有2類人，分別是18至22歲年輕人可預約接種第一劑，以及打完第一劑AZ滿10周的民眾，可以預約打第二劑。這波疫苗預計在9月15日至9月23日開打。第八輪疫苗還是打AZ，這波預約接種的時間為9月10日10時至9月12日12時止。符合資格的對象可以分為2大類別，在7月19日前登記意願的18至22歲年輕人，可以登錄平台預約打第一劑疫苗；以及在9月10日以前，已經打完第一劑AZ滿10周以上的民眾，則可以預約接種第二劑。第八輪AZ今10點開放民眾預約。（圖／指揮中心提供）指揮中心補充說，這次開放給第一劑打完10周以上的民眾，包括65歲以上長者、洗腎患者及機構對象等。為了避免數位落差的問題，將請地方衛生局也幫忙安排未在平台預約者打疫苗，並將需求量批次上傳到平台上。根據指揮中心統計，第八輪符合預約資格民眾共約113萬人，其中有78萬5239人可打到第2劑、35萬212人可接種第1劑。只要是符合這波疫苗接種資格的人，即便沒有收到簡訊通知，還是可嘗試在平台預約看看，符合資格者就能約，反之若不符合，系統就會自動擋掉。文章來源：預約打疫苗按這29歲打完AZ沒發燒 過來人笑：24小時開始搖滾AZ今10點開搶 4種人不適合打 常見7QA一次看莫德納第2劑明開打 陳時中：75歲以上長者優先',\n",
       "  'link': 'https://news.google.com/articles/CAIiEOqseDJ2sWuSKgRu9BCDLgoqGQgEKhAIACoHCAowk7j0CjCY4qIDMJK44gY?uo=CAUiPWh0dHBzOi8vd3d3LmNoaW5hdGltZXMuY29tL3JlYWx0aW1lbmV3cy8yMDIxMTIwODAwNTM4Ny0yNjA0MDjSAQA&hl=zh-TW&gl=TW&ceid=TW%3Azh-Hant'},\n",
       " {'item_id': 75,\n",
       "  'category': 'AZ',\n",
       "  'title': 'AZ疫苗混打莫德納 陳時中：試驗計劃核可中',\n",
       "  'content': '各國陸續展開武漢肺炎疫苗混打人體試驗，多數以AZ疫苗、BNT疫苗混打為主，台灣目前僅有AZ疫苗及莫德納疫苗，指揮中心指揮官陳時中今天透露，相關混打試驗計畫正核可中。國際陸續開放混打武漢肺炎（2019冠狀病毒疾病，COVID-19）疫苗，國內多名醫師不斷呼籲，指揮中心應盡快研議疫苗混打，但衛福部傳染病防治諮詢會預防接種組（ACIP ）以國際混打疫苗資料，缺乏接種AZ疫苗後，接種莫德納疫苗相關資料為由，20日否決AZ、莫德納疫苗混打提議。中研院生醫所兼任研究員何美鄉昨天在談話節目中建議，台灣可以自己建立AZ疫苗混打莫德納疫苗的數據，今天下午指揮中心記者會中，有媒體問陳時中對此看法，陳時中首度鬆口，透露AZ疫苗混打莫德納疫苗相關試驗計畫正核可中。',\n",
       "  'link': 'https://news.google.com/articles/CBMiN2h0dHBzOi8vd3d3LmNuYS5jb20udHcvbmV3cy9maXJzdG5ld3MvMjAyMTA2MzAwMTk4LmFzcHjSATtodHRwczovL3d3dy5jbmEuY29tLnR3L2FtcC9uZXdzL2ZpcnN0bmV3cy8yMDIxMDYzMDAxOTguYXNweA?hl=zh-TW&gl=TW&ceid=TW%3Azh-Hant'},\n",
       " {'item_id': 47,\n",
       "  'category': 'AZ',\n",
       "  'title': '北市大安區2人疑接種過期AZ疫苗 衛生局澄清：診所批號傳錯',\n",
       "  'content': '無黨籍台北市議員林穎孟接獲陳情，住大安區夫妻疑接種過期AZ疫苗，陳情人4日預約、8日施打，事後查詢發現，疫苗在3日到期。北市衛生局今天說，是診所上傳時選擇錯誤批號。無黨籍北市議員林穎孟今天在市議會開記者會表示，接獲陳情，住在大安區的市民疑接種過期阿斯特捷利康（AZ）疫苗，陳情人是一對約50多歲夫妻，得知可接種疫苗後，10月4日上網預約，8日至大安區醫院施打疫苗。林穎孟說，陳情人事後透過中央系統查詢發現，接種的疫苗在3日到期，疫苗批號為K004C。她表示，陳情人接種疫苗是日本送給台灣的疫苗，9月7日到貨、18日中央發送給台北市衛生局，衛生局當天撥發給醫療院所，23日再撥發給此家中心診所醫院。林穎孟說，北市府曾向市民保證，不會讓疫苗放到過期，卻發生民眾疑施打到期疫苗，衛生局應徹查發生原因，若是醫院資料誤植，衛生局應對外說明，並主動聯繫市民。北市府衛生局事後隨即對議員質疑開記者會，衛生局長黃世傑表示，此批AZ疫苗是日本贈送給台灣，台北市共獲1500瓶，提供給教育局等專案接種疫苗，此批疫苗效期到10月3日，2日確認醫療院所都接種完畢。黃世傑說，10月12日接獲衛生福利部通知，有民眾疑接種3日到期疫苗，調閱資料發現，是此間院所承辦人員，上傳錯誤疫苗批號，讓民眾誤認為接種3日到期疫苗，此醫院未存放及提供過期疫苗，已進行行政指導。衛生局疾病管制科長張惠美補充，民眾10月8日接種疫苗是另一批號，至於出現錯誤狀況，是因診所工作人員上傳疫苗接種紀錄時，選擇錯誤批號，並非貼錯或打錯疫苗批號。',\n",
       "  'link': 'https://news.google.com/articles/CBMiN2h0dHBzOi8vd3d3LmNuYS5jb20udHcvbmV3cy9maXJzdG5ld3MvMjAyMTEwMTMwMDkxLmFzcHjSATtodHRwczovL3d3dy5jbmEuY29tLnR3L2FtcC9uZXdzL2ZpcnN0bmV3cy8yMDIxMTAxMzAwOTEuYXNweA?hl=zh-TW&gl=TW&ceid=TW%3Azh-Hant'}]"
      ]
     },
     "execution_count": 5,
     "metadata": {},
     "output_type": "execute_result"
    }
   ],
   "source": [
    "cate='AZ'\n",
    "user_keywords='陳時中'\n",
    "get_userkeyword_cate_latest_news(cate, user_keywords)"
   ]
  },
  {
   "cell_type": "code",
   "execution_count": 6,
   "metadata": {},
   "outputs": [
    {
     "name": "stdout",
     "output_type": "stream",
     "text": [
      "(200, 12)\n"
     ]
    },
    {
     "data": {
      "text/plain": [
       "[{'item_id': 4,\n",
       "  'category': 'AZ',\n",
       "  'title': 'AZ疫苗發明人警告 下一場大流行可能更致命',\n",
       "  'content': 'AZ疫苗研發團隊領導人兼牛津大學教授吉伯特坦言，面對COVID-19變種病毒Omicron，現有疫苗預防感染的效力可能降低；她也警告，下場大流行恐將更加致命。「英國廣播公司新聞網」（BBC News）與「衛報」（the Guardian）報導，吉伯特（Sarah Gilbert）在李察丁布比講座（Richard Dimbleby Lecture）中指出，儘管極具破壞力的COVID-19（2019冠狀病毒疾病）疫情已肆虐2年，導致逾2.65億人染疫、500多萬人喪命，但「這不會是病毒最後一次威脅人類的生命安全與生計」。事實上，「下一場大流行恐怕更糟，屆時傳染力可能更強或更致命，甚至是兩者兼具。」吉伯特表示，「我們不能在經歷過這一切後，又發現巨額經濟損失導致我們沒有足夠資金來準備應對下一次的大流行。正如我們會投資軍隊、情報和外交來應對戰爭，我們也必須投資人員、研究、生產和與相關機構，以抵禦大流行。」吉伯特坦言，新變種病毒Omicron包含已知會增加病毒傳染力的突變，且源自疫苗接種或先前感染生成的抗體在預防Omicron方面可能不那麼有效。她也不忘強調，儘管在預防Omicron感染上，疫苗效果可能會減低，但「這不代表疫苗預防重症和死亡的能力也會下降。」她呼籲，「在我們（對Omicron）了解更多前，應該保持謹慎，並採取相應措施，減緩這種新變種的傳播速度。」據報導，目前Omicron變異株已蔓延全球30多國，英國也已累計246起相關病例，促使當局重新祭出入境限制。然而，專家認為，現在採取這類措施猶如當馬逃脫後才關起馬廄門欄，恐為時已晚。英國今天通報新增4萬3992起COVID-19確診病例，其中86人感染Omicron，還有54人在確診28天內死亡。',\n",
       "  'link': 'https://news.google.com/articles/CBMiN2h0dHBzOi8vd3d3LmNuYS5jb20udHcvbmV3cy9maXJzdG5ld3MvMjAyMTEyMDYwMjkxLmFzcHjSATtodHRwczovL3d3dy5jbmEuY29tLnR3L2FtcC9uZXdzL2ZpcnN0bmV3cy8yMDIxMTIwNjAyOTEuYXNweA?hl=zh-TW&gl=TW&ceid=TW%3Azh-Hant'},\n",
       " {'item_id': 174,\n",
       "  'category': 'AZ',\n",
       "  'title': '清大學霸正妹失言「家人打到日本AZ疫苗」愛莉莎莎爭議再＋1',\n",
       "  'content': '國內昨（20日）新增一名23歲女性接種疫苗後死亡個案，為目前接種後死亡之最年輕個案。中央流行疫情指揮中心發言人莊人祥表示，該個案無慢性病史，於接種第1劑AZ疫苗後19天發生，經司法相驗有雙側肺水腫及右心室擴張。莊人祥說明，昨新增119件疫苗接種後不良事件，包括47件非嚴不良事件、12件死亡，以及60件其他疑似嚴重不良事件；死亡事件分為為8例接種AZ、3例接種莫德納、1例接種BNT。AZ疫苗接種後死亡3例年齡介於23至89歲，於接種後4日至83日發生；莫德納接種後死亡3例年齡為70歲至80歲間，為接種後6日至25日發生；BNT接種後死亡1例，年齡為45歲，為接種後3日發生。其中AZ接種後死亡個案包括一名23歲女性。莊人祥說明，該個案無慢性病史，於9月10日接種第1劑AZ疫苗，接種後無不適症狀，9月29日被家人發現無呼吸心跳，10月7日經司法相驗有雙側肺水腫及右心室擴張，衛生局會協助申請預防接種受害救濟（VICP）。另外，昨（20日）共接種31萬劑，以AZ和BNT居多，分別為17.7萬劑及12.7萬劑；目前國內累計接種2092萬995劑，人口涵蓋率65.00％，劑次人口比89.29％。美專家同意5至11歲童接種輝瑞疫苗 最快這天啟動《龍與雀斑公主》全台賣破1800萬 細田守曝創作靈感源自5歲愛女11／8起 打高端無法入境美國',\n",
       "  'link': 'https://news.google.com/articles/CBMiPWh0dHBzOi8vd3d3LmNoaW5hdGltZXMuY29tL3JlYWx0aW1lbmV3cy8yMDIxMDYwODAwMTQyMi0yNjA0MDTSAUFodHRwczovL3d3dy5jaGluYXRpbWVzLmNvbS9hbXAvcmVhbHRpbWVuZXdzLzIwMjEwNjA4MDAxNDIyLTI2MDQwNA?hl=zh-TW&gl=TW&ceid=TW%3Azh-Hant'},\n",
       " {'item_id': 115,\n",
       "  'category': 'AZ',\n",
       "  'title': 'AZ疫苗研發者悲情預告 Delta病毒使全球「不可能」實現群體免疫',\n",
       "  'content': '根據世界衛生組織（WHO）最新統計，全球目前累積至今已有63億劑新冠肺炎疫苗被接種，其中究竟哪一款疫苗最受歡迎呢？根據最新統計，輝瑞（Pfizer）與德國BioNTech生技公司合作研發的疫苗，當前全球累積銷量衝上第一。《華爾街日報》（WSJ）根據杜克大學（Duke University）全球健康創新中心（Global Health Innovation Center）統計，全球各國至今已累計購買了35億劑輝瑞/BNT疫苗，讓它的銷量整比第二名的阿斯特捷利康（AstraZeneca，AZ）疫苗多出10億劑，其受歡迎的程度不言可喻。根據輝瑞的說法，當前他們已經向全球130多個國家，出貨超過16億劑輝瑞/BNT疫苗。報導引述各國官員與分析師的看法指出，輝瑞/BNT疫苗之所以受歡迎，是因為針對新冠病毒的Delta變異株保護力高，再加上不會引發令人憂慮的血栓問題。會引發血栓問題，影響到了嬌生（Johnson & Johnson）疫苗、AZ疫苗的接種率。除了這些原因，輝瑞/BNT疫苗也被發現，隨著時間過去，抗議在體內減少（保護力降低）的情況，不會像中國大陸的國產疫苗那麼嚴重。也不會像俄羅斯衛星-V（Sputnik V）疫苗一樣，有供應量受限的問題。報導指出，為了引進受歡迎的輝瑞/BNT疫苗，甚至有國家進行修法。阿根廷正面臨嚴重的新冠肺炎疫情，但等不到衛星-V疫苗供貨，再加上民眾對於BNT疫苗相當狂熱，當局還修改疫苗法的疏失用語（若施打疫苗造成任何傷害，疫苗廠商得承擔法律責任），目的就是為了盡快引進BNT疫苗。此外，阿根廷政府還有配套，設立了基金來專門賠償因為接種BNT疫苗而出事的民眾。除了阿根廷之外，巴西衛生部前官員Wanderson de Oliveira則表示，「跟其他疫苗比起來，BNT疫苗的效果更好」、「大家都想拿到最好的疫苗」，展現了對於BNT疫苗的熱愛。巴西也是全球疫情相當嚴重的國家之一，報導指出巴西方面今年提高了BNT疫苗的使用量，並降低使用中國國產疫苗。而似乎隨著疫苗變得更夯，輝瑞藥廠似乎也正在逐步提升疫苗的價格。一位以色列衛生部官員曾在去年12月指出，他們購買BNT疫苗一劑的價格是62美元。這價格未經證實，但比其他國家貴了不少。先前輝瑞針對歐盟國家提供BNT疫苗價格是一劑18美元，如今據了解已提高志至23美元。做為參考，永齡基金會、慈濟、台積電購買並贈送給台灣政府所用的BNT疫苗，加上冷鏈的保存費用，每劑費用平均在32~35美元左右。輝瑞/BNT疫苗是目前唯一取得美國食品與藥物管理局（FDA）藥證的新冠肺炎疫苗，12歲以上民眾皆可施打。當前輝瑞已向FDA申請針對5~11歲族群的緊急使用授權（EUA）。文章來源：Pfizer-BioNTech Covid-19 Vaccine Is World’s Preferred Shot俄媒：新型衛星Light單劑型疫苗對Delta病毒保護力可達70％輝瑞向FDA提交5至11歲兒童之初步數據 將申請EUA沒那麼快！德國官員預估BNT兒童疫苗2022年Q1上市/BNT疫苗',\n",
       "  'link': 'https://news.google.com/articles/CAIiEEHyeknbLlRNj9TZebn-RCgqGQgEKhAIACoHCAowk7j0CjCY4qIDMKXQvgY?uo=CAUiPWh0dHBzOi8vd3d3LmNoaW5hdGltZXMuY29tL3JlYWx0aW1lbmV3cy8yMDIxMDkwNzAwNTIxNC0yNjA0MDjSAQA&hl=zh-TW&gl=TW&ceid=TW%3Azh-Hant'},\n",
       " {'item_id': 171,\n",
       "  'category': 'AZ',\n",
       "  'title': '屏東88名長者錯打AZ疫苗 東港安泰醫院：每人發5千元慰問金',\n",
       "  'content': '台南一名50歲男子日前接種AZ疫苗，沒有發生特別不舒服副作用，反而意外回春，天天「升旗」且性慾也增加，時間大概持續一個月，讓老婆嚇到說不出話。根據《自由健康網》報導，台南一名50歲公務員因施打AZ疫苗，接種後卻出現驚人反應，意外重振雄風，且性慾也比以往強烈，每天一早醒來就處於晨勃狀態，讓妻子每次看到都嚇壞。50歲男子這種狀態維持了一個月後，才逐漸回歸平常，妻子也鬆了一口氣。男子的異常狀態也被朋友調侃是優良反應，笑說這副作用比藍色小藥丸還猛，根本就是打到「AV疫苗」。台南奇美醫學中心則指出，目前並無資料顯示，男性打完AZ疫苗後會有回春狀態，也沒有任何臨床資料可以證明兩者關聯性。奇美感染科主治醫師蘇柏安提醒，男性升旗的時間太久，恐會造成下體壞死，甚至還有性慾異常的現象發生，應主動就醫尋求協助，來找出異常狀態的主要的問題。《中時新聞網》之前也曾報導「打完AZ勃起10小時！泌尿科醫曝超慘下場」，一名60多歲男子也是打完AZ疫苗後，異常勃起10個小時，泌尿科醫師程威銘指出，長時間勃起並不正常，超過4個小時，未來可能產生陽痿問題。打莫德納掉髮不停 日本帥男慘變火雲邪神：100天後會全禿打BNT後尿失禁？女大生崩潰「內褲濕了一片」名導演胃癌病逝！50歲以上男性好發 害怕做胃鏡醫師給建議',\n",
       "  'link': 'https://news.google.com/articles/CAIiEAXXXWAGK1f5nltZGH9nE-IqGQgEKhAIACoHCAowk7j0CjCY4qIDMKXQvgY?uo=CAUiPWh0dHBzOi8vd3d3LmNoaW5hdGltZXMuY29tL3JlYWx0aW1lbmV3cy8yMDIxMTEwNDAwMzc3NS0yNjA0MDXSAQA&hl=zh-TW&gl=TW&ceid=TW%3Azh-Hant'}]"
      ]
     },
     "execution_count": 6,
     "metadata": {},
     "output_type": "execute_result"
    }
   ],
   "source": [
    "cate='AZ'\n",
    "user_keywords=[] # 未輸入關鍵字\n",
    "get_userkeyword_cate_latest_news(cate, user_keywords)"
   ]
  },
  {
   "cell_type": "code",
   "execution_count": 8,
   "metadata": {},
   "outputs": [
    {
     "data": {
      "text/plain": [
       "0      False\n",
       "1      False\n",
       "2      False\n",
       "3      False\n",
       "4       True\n",
       "       ...  \n",
       "791    False\n",
       "792    False\n",
       "793     True\n",
       "794    False\n",
       "795     True\n",
       "Name: content, Length: 796, dtype: bool"
      ]
     },
     "execution_count": 8,
     "metadata": {},
     "output_type": "execute_result"
    }
   ],
   "source": [
    "user_keywords=['疫苗','陳時中']\n",
    "df.content.apply(lambda text: all((qk in text) for qk in user_keywords))"
   ]
  },
  {
   "cell_type": "code",
   "execution_count": 9,
   "metadata": {},
   "outputs": [
    {
     "data": {
      "text/plain": [
       "0      True\n",
       "1      True\n",
       "2      True\n",
       "3      True\n",
       "4      True\n",
       "       ... \n",
       "791    True\n",
       "792    True\n",
       "793    True\n",
       "794    True\n",
       "795    True\n",
       "Name: content, Length: 796, dtype: bool"
      ]
     },
     "execution_count": 9,
     "metadata": {},
     "output_type": "execute_result"
    }
   ],
   "source": [
    "user_keywords=[]\n",
    "df.content.apply(lambda text: all((qk in text) for qk in user_keywords))"
   ]
  },
  {
   "cell_type": "code",
   "execution_count": 10,
   "metadata": {},
   "outputs": [
    {
     "data": {
      "text/plain": [
       "True"
      ]
     },
     "execution_count": 10,
     "metadata": {},
     "output_type": "execute_result"
    }
   ],
   "source": [
    "text='This is a sentence.'\n",
    "\"\" in text"
   ]
  },
  {
   "cell_type": "code",
   "execution_count": 11,
   "metadata": {},
   "outputs": [],
   "source": [
    "itemid = 16"
   ]
  },
  {
   "cell_type": "code",
   "execution_count": 12,
   "metadata": {},
   "outputs": [
    {
     "data": {
      "text/html": [
       "<div>\n",
       "<style scoped>\n",
       "    .dataframe tbody tr th:only-of-type {\n",
       "        vertical-align: middle;\n",
       "    }\n",
       "\n",
       "    .dataframe tbody tr th {\n",
       "        vertical-align: top;\n",
       "    }\n",
       "\n",
       "    .dataframe thead th {\n",
       "        text-align: right;\n",
       "    }\n",
       "</style>\n",
       "<table border=\"1\" class=\"dataframe\">\n",
       "  <thead>\n",
       "    <tr style=\"text-align: right;\">\n",
       "      <th></th>\n",
       "      <th>item_id</th>\n",
       "      <th>category</th>\n",
       "      <th>title</th>\n",
       "      <th>content</th>\n",
       "      <th>sentiment</th>\n",
       "      <th>summary</th>\n",
       "      <th>top_key_freq</th>\n",
       "      <th>tokens</th>\n",
       "      <th>tokens_v2</th>\n",
       "      <th>entities</th>\n",
       "      <th>token_pos</th>\n",
       "      <th>link</th>\n",
       "    </tr>\n",
       "  </thead>\n",
       "  <tbody>\n",
       "    <tr>\n",
       "      <th>15</th>\n",
       "      <td>16</td>\n",
       "      <td>AZ</td>\n",
       "      <td>開放醫療院所免預約接種 AZ隔8週、BNT隔4週可打第2劑</td>\n",
       "      <td>COVID-19疫苗充足，指揮中心今天宣布，醫療院所可提供未於疫苗平台預約及有需求者接種第1...</td>\n",
       "      <td>0.0</td>\n",
       "      <td>['醫療院所可提供未於疫苗平台預約及有需求者接種第1、2劑AZ或BNT疫苗', 'COVID...</td>\n",
       "      <td>[('疫苗', 19), ('接種', 13), ('莊人祥', 3), ('開放', 3)...</td>\n",
       "      <td>['COVID-19', '疫苗', '充足', '，', '指揮', '中心', '今天'...</td>\n",
       "      <td>['疫苗', '指揮', '中心', '醫療院所', '疫苗', '平台', '預約', '...</td>\n",
       "      <td>[NerToken(word='今天', ner='DATE', idx=(17, 19))...</td>\n",
       "      <td>[('COVID-19', 'FW'), ('疫苗', 'Na'), ('充足', 'VH'...</td>\n",
       "      <td>https://news.google.com/articles/CBMiN2h0dHBzO...</td>\n",
       "    </tr>\n",
       "  </tbody>\n",
       "</table>\n",
       "</div>"
      ],
      "text/plain": [
       "    item_id category                          title  \\\n",
       "15       16       AZ  開放醫療院所免預約接種 AZ隔8週、BNT隔4週可打第2劑   \n",
       "\n",
       "                                              content  sentiment  \\\n",
       "15  COVID-19疫苗充足，指揮中心今天宣布，醫療院所可提供未於疫苗平台預約及有需求者接種第1...        0.0   \n",
       "\n",
       "                                              summary  \\\n",
       "15  ['醫療院所可提供未於疫苗平台預約及有需求者接種第1、2劑AZ或BNT疫苗', 'COVID...   \n",
       "\n",
       "                                         top_key_freq  \\\n",
       "15  [('疫苗', 19), ('接種', 13), ('莊人祥', 3), ('開放', 3)...   \n",
       "\n",
       "                                               tokens  \\\n",
       "15  ['COVID-19', '疫苗', '充足', '，', '指揮', '中心', '今天'...   \n",
       "\n",
       "                                            tokens_v2  \\\n",
       "15  ['疫苗', '指揮', '中心', '醫療院所', '疫苗', '平台', '預約', '...   \n",
       "\n",
       "                                             entities  \\\n",
       "15  [NerToken(word='今天', ner='DATE', idx=(17, 19))...   \n",
       "\n",
       "                                            token_pos  \\\n",
       "15  [('COVID-19', 'FW'), ('疫苗', 'Na'), ('充足', 'VH'...   \n",
       "\n",
       "                                                 link  \n",
       "15  https://news.google.com/articles/CBMiN2h0dHBzO...  "
      ]
     },
     "execution_count": 12,
     "metadata": {},
     "output_type": "execute_result"
    }
   ],
   "source": [
    "df.loc[df.item_id == itemid]"
   ]
  },
  {
   "cell_type": "code",
   "execution_count": 31,
   "metadata": {},
   "outputs": [],
   "source": [
    "# -- Given a item_id, get document information\n",
    "def get_news_content(item_id):\n",
    "    df_item = df[df.item_id == item_id]\n",
    "    title = df_item.iloc[0].title   \n",
    "    content = df_item.iloc[0].content\n",
    "    category = df_item.iloc[0].category\n",
    "    link = df_item.iloc[0].link\n",
    "   \n",
    "    news_info = {\n",
    "        \"item_id\": item_id,\n",
    "        \"category\": category,\n",
    "        \"title\": title,\n",
    "        \"content\": content,\n",
    "        \"link\": link,\n",
    "    }\n",
    "    \n",
    "    return news_info"
   ]
  },
  {
   "cell_type": "code",
   "execution_count": 32,
   "metadata": {},
   "outputs": [
    {
     "data": {
      "text/plain": [
       "{'item_id': 796,\n",
       " 'category': '高端',\n",
       " 'title': '賴清德出訪接觸者陸續傳確診 柯P：打高端不見得沒效 但密醫上法庭必敗',\n",
       " 'content': '陳時中確診！最新身體狀況曝\\u3000陳宗彥暫代指揮官訂閱影音：中時新聞網中央流行疫情指揮中心指揮官陳時中今天確診，震驚全台，而他打的三劑疫苗組合也引發外界好奇，根據陳時中之前的公開說明，他前兩劑打AZ，第三劑追加劑打高端，而根據長庚醫院3月17日公布的國內首份追加劑接種成效研究，前2劑打AZ的人， 第三劑打莫德納中和抗體上升倍數最高，BNT次之，高端最低。身為防疫最高指揮的陳時中今快篩陽確診，引發民眾關注，根據指揮中心最新統計，今年1月截至5月中旬，完整接種3劑者已有近40萬人確診，突破性感染率為3.03%，大部分都是感染Omicron。陳時中確診前已打滿三劑疫苗，第一劑AZ是去年3月22日在台大醫院接種，之後第二劑也是打AZ，今年2月為了鼓勵民眾接種第三劑，陳時中選擇打國產高端疫苗，接種日期為2月24日，距離染疫已近4個月時間。林口長庚醫院3月17日發表全國首份「新冠疫苗追加劑接種研究成果」，發現不管打哪一種廠牌的疫苗當追加劑，皆可有效提升受試者體內抗體生成，對抗Omicron變種病毒，但中和抗體濃度則各有差異。長庚研究結果顯示，前兩劑打AZ者，施打完第3劑後的第28天，中和抗體上升倍數以莫德納全量47.7倍最多，莫德納半量39.8倍次之，BNT是32.2倍，高端最低，僅12.7倍。陳時中今天確診消息曝光後，在PTT上引起討論，「不是說疫情穩定了，穩到自己中」，但也有人表示「天然的第四劑，加油！」、「恭喜得到無敵星星」。陳時中確診 最新身體狀況曝 陳宗彥暫代指揮官全台飆284萬確診 疫情緊繃？醫PO一張照：台北已感受不到下一株變種比BA.5更可怕！前台大醫估「真的敵人進來時間」',\n",
       " 'link': 'https://news.google.com/articles/CAIiEKyuOudQMm38kGaUHm4Lq1EqGQgEKhAIACoHCAowk7j0CjCY4qIDMMKL4gY?uo=CAUiPWh0dHBzOi8vd3d3LmNoaW5hdGltZXMuY29tL3JlYWx0aW1lbmV3cy8yMDIyMDIwNDAwMDk0Ni0yNjA0MDXSAQA&hl=zh-TW&gl=TW&ceid=TW%3Azh-Hant'}"
      ]
     },
     "execution_count": 32,
     "metadata": {},
     "output_type": "execute_result"
    }
   ],
   "source": [
    "get_news_content(796)"
   ]
  },
  {
   "cell_type": "code",
   "execution_count": null,
   "metadata": {},
   "outputs": [],
   "source": []
  },
  {
   "cell_type": "code",
   "execution_count": 17,
   "metadata": {},
   "outputs": [],
   "source": [
    "from operator import itemgetter\n",
    "import pandas as pd\n",
    "import numpy as np"
   ]
  },
  {
   "cell_type": "code",
   "execution_count": 18,
   "metadata": {},
   "outputs": [],
   "source": [
    "news_sim_martrix = np.load('news_sim_martrix.npy')"
   ]
  },
  {
   "cell_type": "code",
   "execution_count": 19,
   "metadata": {},
   "outputs": [],
   "source": [
    "item_id2idx={}\n",
    "idx2item_id={}\n",
    "for id, i in df.item_id.items():\n",
    "    item_id2idx[i] = id\n",
    "    idx2item_id[id] = i"
   ]
  },
  {
   "cell_type": "code",
   "execution_count": 20,
   "metadata": {},
   "outputs": [],
   "source": [
    "item_id = 20\n",
    "topk=3\n",
    "sim_dict = {}\n",
    "idx = item_id2idx[item_id]\n",
    "for i, value in enumerate(news_sim_martrix[idx]):\n",
    "    sim_dict[i]=value\n",
    "similar_items = sorted(sim_dict.items(), key= itemgetter(1), reverse=True)[1:topk+1] # topk+1 多取一筆 有包含本身這一筆"
   ]
  },
  {
   "cell_type": "code",
   "execution_count": 21,
   "metadata": {},
   "outputs": [
    {
     "data": {
      "text/plain": [
       "[(612, 0.96254265), (259, 0.96223617), (225, 0.9619293)]"
      ]
     },
     "execution_count": 21,
     "metadata": {},
     "output_type": "execute_result"
    }
   ],
   "source": [
    "similar_items"
   ]
  },
  {
   "cell_type": "code",
   "execution_count": null,
   "metadata": {},
   "outputs": [],
   "source": []
  },
  {
   "cell_type": "code",
   "execution_count": 23,
   "metadata": {},
   "outputs": [],
   "source": [
    "items = []\n",
    "for idx, score in similar_items:\n",
    "    item = df.iloc[idx]\n",
    "    item_id = item.item_id\n",
    "    title = item.title\n",
    "    content = item.content\n",
    "    category = item.category\n",
    "    link = item.link\n",
    "\n",
    "    score = round(score, 2)\n",
    "    news_info = {\n",
    "        \"category\": category, \n",
    "        \"title\": title, \n",
    "        \"link\": link,\n",
    "        \"item_id\": item_id, \n",
    "        'score': score, \n",
    "        }\n",
    "    items.append(news_info)"
   ]
  },
  {
   "cell_type": "code",
   "execution_count": 188,
   "metadata": {},
   "outputs": [
    {
     "data": {
      "text/plain": [
       "[{'category': '高端',\n",
       "  'title': '7歲童遭診所誤打成人BNT 莊人祥：持續觀察評估',\n",
       "  'link': 'https://news.google.com/articles/CBMiMmh0dHBzOi8vd3d3LmNuYS5jb20udHcvbmV3cy9haGVsLzIwMjIwNTI3MDE3NC5hc3B40gE2aHR0cHM6Ly93d3cuY25hLmNvbS50dy9hbXAvbmV3cy9haGVsLzIwMjIwNTI3MDE3NC5hc3B4?hl=zh-TW&gl=TW&ceid=TW%3Azh-Hant',\n",
       "  'item_id': 613,\n",
       "  'score': 0.96},\n",
       " {'category': 'BNT',\n",
       "  'title': '青少年續打第2劑BNT疫苗 專家建議間隔12週以上',\n",
       "  'link': 'https://news.google.com/articles/CBMiN2h0dHBzOi8vd3d3LmNuYS5jb20udHcvbmV3cy9maXJzdG5ld3MvMjAyMTExMjkwMTY4LmFzcHjSATtodHRwczovL3d3dy5jbmEuY29tLnR3L2FtcC9uZXdzL2ZpcnN0bmV3cy8yMDIxMTEyOTAxNjguYXNweA?hl=zh-TW&gl=TW&ceid=TW%3Azh-Hant',\n",
       "  'item_id': 260,\n",
       "  'score': 0.96},\n",
       " {'category': 'BNT',\n",
       "  'title': 'BNT成人疫苗約185.7萬劑抵台 供青少年追加接種[影]',\n",
       "  'link': 'https://news.google.com/articles/CBMiMmh0dHBzOi8vd3d3LmNuYS5jb20udHcvbmV3cy9haGVsLzIwMjIwNTA5MDAwOC5hc3B40gE2aHR0cHM6Ly93d3cuY25hLmNvbS50dy9hbXAvbmV3cy9haGVsLzIwMjIwNTA5MDAwOC5hc3B4?hl=zh-TW&gl=TW&ceid=TW%3Azh-Hant',\n",
       "  'item_id': 226,\n",
       "  'score': 0.96}]"
      ]
     },
     "execution_count": 188,
     "metadata": {},
     "output_type": "execute_result"
    }
   ],
   "source": [
    "items"
   ]
  },
  {
   "cell_type": "code",
   "execution_count": null,
   "metadata": {},
   "outputs": [],
   "source": []
  },
  {
   "cell_type": "code",
   "execution_count": 24,
   "metadata": {},
   "outputs": [],
   "source": [
    "#-- Given item_id, get three similar article information\n",
    "def get_topk_similar_articles(item_id):\n",
    "\n",
    "    ## Find topk similar articles\n",
    "    topk=3\n",
    "    sim_dict = {}\n",
    "    idx = item_id2idx[item_id]\n",
    "    for i, value in enumerate(news_sim_martrix[idx]):\n",
    "        sim_dict[i]=value\n",
    "    similar_items = sorted(sim_dict.items(), key= itemgetter(1), reverse=True)[1:topk+1] # topk+1 多取一筆 有包含本身這一筆\n",
    "\n",
    "    ## Get article information to display\n",
    "    items = []\n",
    "    for idx, score in similar_items:\n",
    "        item = df.iloc[idx]\n",
    "        item_id = item.item_id\n",
    "        title = item.title\n",
    "        content = item.content\n",
    "        category = item.category\n",
    "        link = item.link\n",
    "\n",
    "        score = round(score, 2)\n",
    "        news_info = {\n",
    "            \"category\": category, \n",
    "            \"title\": title, \n",
    "            \"link\": link,\n",
    "            \"item_id\": item_id, \n",
    "            'score': score, \n",
    "            }\n",
    "        items.append(news_info)\n",
    "\n",
    "    return items"
   ]
  },
  {
   "cell_type": "code",
   "execution_count": 26,
   "metadata": {},
   "outputs": [
    {
     "data": {
      "text/plain": [
       "[{'category': '高端',\n",
       "  'title': '日本未採認高端疫苗 吳釗燮與泉裕泰協商',\n",
       "  'link': 'https://news.google.com/articles/CBMiMmh0dHBzOi8vd3d3LmNuYS5jb20udHcvbmV3cy9haXBsLzIwMjIwNTAyMDEwOC5hc3B40gE2aHR0cHM6Ly93d3cuY25hLmNvbS50dy9hbXAvbmV3cy9haXBsLzIwMjIwNTAyMDEwOC5hc3B4?hl=zh-TW&gl=TW&ceid=TW%3Azh-Hant',\n",
       "  'item_id': 617,\n",
       "  'score': 0.99},\n",
       " {'category': '高端',\n",
       "  'title': '高端COVID-19疫苗第3期試驗 獲歐盟EMA核准進行',\n",
       "  'link': 'https://news.google.com/articles/CBMiN2h0dHBzOi8vd3d3LmNuYS5jb20udHcvbmV3cy9maXJzdG5ld3MvMjAyMTA5MjIwMzA0LmFzcHjSATtodHRwczovL3d3dy5jbmEuY29tLnR3L2FtcC9uZXdzL2ZpcnN0bmV3cy8yMDIxMDkyMjAzMDQuYXNweA?hl=zh-TW&gl=TW&ceid=TW%3Azh-Hant',\n",
       "  'item_id': 652,\n",
       "  'score': 0.99},\n",
       " {'category': 'BNT',\n",
       "  'title': 'BNT疫苗開打前 逾10道準備程序教學影片上線[影]',\n",
       "  'link': 'https://news.google.com/articles/CBMiMmh0dHBzOi8vd3d3LmNuYS5jb20udHcvbmV3cy9haGVsLzIwMjEwOTIxMDE5NC5hc3B40gE2aHR0cHM6Ly93d3cuY25hLmNvbS50dy9hbXAvbmV3cy9haGVsLzIwMjEwOTIxMDE5NC5hc3B4?hl=zh-TW&gl=TW&ceid=TW%3Azh-Hant',\n",
       "  'item_id': 230,\n",
       "  'score': 0.99}]"
      ]
     },
     "execution_count": 26,
     "metadata": {},
     "output_type": "execute_result"
    }
   ],
   "source": [
    "item_id = 10\n",
    "get_topk_similar_articles(item_id)"
   ]
  },
  {
   "cell_type": "code",
   "execution_count": null,
   "metadata": {},
   "outputs": [],
   "source": []
  },
  {
   "cell_type": "markdown",
   "metadata": {},
   "source": [
    "## Django function"
   ]
  },
  {
   "cell_type": "code",
   "execution_count": null,
   "metadata": {},
   "outputs": [],
   "source": [
    "from django.shortcuts import render\n",
    "from django.http import JsonResponse\n",
    "import pandas as pd\n",
    "from django.views.decorators.csrf import csrf_exempt\n",
    "\n",
    "from operator import itemgetter\n",
    "import numpy as np\n",
    "from datetime import datetime, timedelta\n",
    "\n",
    "\n",
    "# (2) Load news data--approach 2\n",
    "def load_df_data_v1():\n",
    "    \n",
    "    global df # global variable\n",
    "    df = pd.read_csv('app_news_rcmd_bert/dataset/cna_news_200_preprocessed.csv',sep='|')\n",
    "    global news_sim_martrix\n",
    "    news_sim_martrix = np.load('app_news_rcmd_bert/dataset/news_sim_martrix.npy')\n",
    "    global item_id2idx\n",
    "    item_id2idx={}\n",
    "\n",
    "    for id, i in df.item_id.items():\n",
    "        item_id2idx[i] = id\n",
    "\n",
    "# call load data function when starting server\n",
    "load_df_data_v1()\n",
    "\n",
    "\n",
    "#-- home page\n",
    "def home(request):\n",
    "    return render(request, \"app_news_rcmd_bert/home.html\")\n",
    "\n",
    "#-- API: input category\n",
    "@csrf_exempt\n",
    "def api_query_keyword_cate_news(request):\n",
    "    cate = request.POST['category']\n",
    "    user_keywords = request.POST['input_keywords']\n",
    "    user_keywords = user_keywords.split()\n",
    "    response = get_userkeyword_cate_latest_news(cate, user_keywords)\n",
    "    return JsonResponse({\"latest_news\": response})\n",
    "\n",
    "#-- API: input news_id, and then get news information\n",
    "@csrf_exempt\n",
    "def api_news_content(request):\n",
    "    item_id = request.POST['item_id']\n",
    "    content = get_news_content(item_id)\n",
    "    related = get_topk_similar_articles(item_id)\n",
    "    # print(related)\n",
    "    return JsonResponse({\"news_content\": content, \"related_news\": related})\n",
    "\n",
    "\n",
    "#-- Given a category, get the latest news\n",
    "def get_userkeyword_cate_latest_news(cate, user_keywords):\n",
    "    # get the last news (the latest news)\n",
    "    # df_cate = df_cate.tail(10)  # Only 10 pieces\n",
    "    # only return 10 news\n",
    "    # proceed filtering: news category\n",
    "    # and or 條件\n",
    "\n",
    "    # (2) proceed filtering: news category\n",
    "    # 新聞類別條件\n",
    "    # category condition\n",
    "    condition = (df.categories == cate) \n",
    "    \n",
    "    # (3) query keywords condition使用者輸入關鍵字條件and\n",
    "    # 若未輸入關鍵字，結果是true，因為\"\" in text 不管text字串內容為何，運算結果為True\n",
    "    condition = condition & df.contents.apply(lambda text: all(\n",
    "            (qk in text) for qk in user_keywords))  # 寫法:all()\n",
    "    \n",
    "    \n",
    "    # condiction is a list of True or False boolean value\n",
    "    df_query = df[condition]\n",
    "\n",
    "    # 隨機挑選4篇\n",
    "    if len(df_query) >= 4:\n",
    "        df_query = df_query.sample(4) # Sample only 4 pieces 若文章數不足會報錯!\n",
    "    else:\n",
    "        df_query = df_query.tail(4) # Only latest 4 pieces\n",
    "    \n",
    "    items = []\n",
    "    for i in range( len(df_query)):\n",
    "        item_id = df_query.iloc[i].item_id    \n",
    "        title = df_query.iloc[i].titles\n",
    "        content = df_query.iloc[i].contents\n",
    "        category = df_query.iloc[i].categories\n",
    "        link = df_query.iloc[i].urls\n",
    "\n",
    "        news_info = {\n",
    "            \"item_id\": item_id, \n",
    "            \"category\": category, \n",
    "            \"title\": title,\n",
    "            \"content\": content, \n",
    "            \"link\": link,\n",
    "        }\n",
    "\n",
    "        items.append(news_info)\n",
    "    return items\n",
    "\n",
    "# -- Given a item_id, get document information\n",
    "def get_news_content(item_id):\n",
    "    df_item = df[df.item_id == item_id]\n",
    "    title = df_item.iloc[0].titles   \n",
    "    content = df_item.iloc[0].contents\n",
    "    category = df_item.iloc[0].categories\n",
    "    link = df_item.iloc[0].urls\n",
    "    \n",
    "    news_info = {\n",
    "        \"item_id\": item_id,\n",
    "        \"category\": category,\n",
    "        \"title\": title,\n",
    "        \"content\": content,\n",
    "        \"link\": link,\n",
    "    }\n",
    "\n",
    "    return news_info\n",
    "\n",
    "#-- Given item_id, get three similar article information\n",
    "def get_topk_similar_articles(item_id):\n",
    "\n",
    "    ## Find topk similar articles\n",
    "    topk=2\n",
    "    sim_dict = {}\n",
    "    idx = item_id2idx[item_id]\n",
    "    for i, value in enumerate(news_sim_martrix[idx]):\n",
    "        sim_dict[i]=value\n",
    "    similar_items = sorted(sim_dict.items(), key= itemgetter(1), reverse=True)[1:topk+1] # topk+1 多取一筆 有包含本身這一筆\n",
    "\n",
    "    ## Get article information to display\n",
    "    items = []\n",
    "    for idx, score in similar_items:\n",
    "        item = df.iloc[idx]\n",
    "        item_id = item.item_id\n",
    "        title = item.titles\n",
    "        content = item.contents\n",
    "        category = item.categories\n",
    "        link = item.urls\n",
    "\n",
    "        score = round(float(score), 2)\n",
    "        news_info = {\n",
    "            \"category\": category, \n",
    "            \"title\": title, \n",
    "            \"link\": link,\n",
    "            \"id\": item_id, \n",
    "            'score': score, \n",
    "            }\n",
    "        items.append(news_info)\n",
    "\n",
    "    return items\n",
    "\n",
    "print(\"app Bert based news recommendation was loaded!\")\n"
   ]
  }
 ],
 "metadata": {
  "kernelspec": {
   "display_name": "Python 3.8.12 ('ai23')",
   "language": "python",
   "name": "python3"
  },
  "language_info": {
   "codemirror_mode": {
    "name": "ipython",
    "version": 3
   },
   "file_extension": ".py",
   "mimetype": "text/x-python",
   "name": "python",
   "nbconvert_exporter": "python",
   "pygments_lexer": "ipython3",
   "version": "3.8.12"
  },
  "orig_nbformat": 4,
  "vscode": {
   "interpreter": {
    "hash": "2524f329b5609d74e66f331aeb181c6a96d56433d7d7e2bf478ea5bf8e2b1439"
   }
  }
 },
 "nbformat": 4,
 "nbformat_minor": 2
}
