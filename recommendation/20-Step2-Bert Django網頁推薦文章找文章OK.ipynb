{
 "cells": [
  {
   "cell_type": "markdown",
   "metadata": {},
   "source": [
    "# How to find similar documents based on the similarity matrix?\n",
    "\n"
   ]
  },
  {
   "cell_type": "markdown",
   "metadata": {},
   "source": [
    "# Read news dataset"
   ]
  },
  {
   "cell_type": "code",
   "execution_count": 1,
   "metadata": {},
   "outputs": [],
   "source": [
    "import pandas as pd\n",
    "from datetime import datetime, timedelta"
   ]
  },
  {
   "cell_type": "code",
   "execution_count": 2,
   "metadata": {},
   "outputs": [],
   "source": [
    "df = pd.read_csv('vaccine_preprocessed_2.csv', sep='|')"
   ]
  },
  {
   "cell_type": "code",
   "execution_count": 3,
   "metadata": {},
   "outputs": [
    {
     "data": {
      "text/html": [
       "<div>\n",
       "<style scoped>\n",
       "    .dataframe tbody tr th:only-of-type {\n",
       "        vertical-align: middle;\n",
       "    }\n",
       "\n",
       "    .dataframe tbody tr th {\n",
       "        vertical-align: top;\n",
       "    }\n",
       "\n",
       "    .dataframe thead th {\n",
       "        text-align: right;\n",
       "    }\n",
       "</style>\n",
       "<table border=\"1\" class=\"dataframe\">\n",
       "  <thead>\n",
       "    <tr style=\"text-align: right;\">\n",
       "      <th></th>\n",
       "      <th>item_id</th>\n",
       "      <th>categories</th>\n",
       "      <th>titles</th>\n",
       "      <th>contents</th>\n",
       "      <th>sentiment</th>\n",
       "      <th>summary</th>\n",
       "      <th>top_key_freq</th>\n",
       "      <th>tokens</th>\n",
       "      <th>tokens_v2</th>\n",
       "      <th>entities</th>\n",
       "      <th>token_pos</th>\n",
       "      <th>urls</th>\n",
       "    </tr>\n",
       "  </thead>\n",
       "  <tbody>\n",
       "    <tr>\n",
       "      <th>0</th>\n",
       "      <td>1</td>\n",
       "      <td>AZ</td>\n",
       "      <td>澎湖確診數升 兒童疫苗接種率已逾7成</td>\n",
       "      <td>澎湖COVID-19（2019冠狀病毒疾病）確診數攀升，澎湖縣政府今天公布新增182例，還有...</td>\n",
       "      <td>0.0</td>\n",
       "      <td>['澎湖5至11歲兒童疫苗接種種率已逾7成', '澎湖縣政府今天公布新增182例確診案例',...</td>\n",
       "      <td>[('澎湖', 5), ('疫苗', 5), ('接種', 4), ('確診', 3), (...</td>\n",
       "      <td>['澎湖', 'COVID-19', '（', '2019', '冠狀', '病毒', '疾...</td>\n",
       "      <td>['澎湖', '冠狀', '病毒', '疾病', '確診數', '澎湖縣', '政府', '...</td>\n",
       "      <td>[NerToken(word='澎湖', ner='GPE', idx=(0, 2)), N...</td>\n",
       "      <td>[('澎湖', 'Nc'), ('COVID-19', 'FW'), ('（', 'PARE...</td>\n",
       "      <td>https://news.google.com/articles/CBMiMmh0dHBzO...</td>\n",
       "    </tr>\n",
       "  </tbody>\n",
       "</table>\n",
       "</div>"
      ],
      "text/plain": [
       "   item_id categories              titles  \\\n",
       "0        1         AZ  澎湖確診數升 兒童疫苗接種率已逾7成   \n",
       "\n",
       "                                            contents  sentiment  \\\n",
       "0  澎湖COVID-19（2019冠狀病毒疾病）確診數攀升，澎湖縣政府今天公布新增182例，還有...        0.0   \n",
       "\n",
       "                                             summary  \\\n",
       "0  ['澎湖5至11歲兒童疫苗接種種率已逾7成', '澎湖縣政府今天公布新增182例確診案例',...   \n",
       "\n",
       "                                        top_key_freq  \\\n",
       "0  [('澎湖', 5), ('疫苗', 5), ('接種', 4), ('確診', 3), (...   \n",
       "\n",
       "                                              tokens  \\\n",
       "0  ['澎湖', 'COVID-19', '（', '2019', '冠狀', '病毒', '疾...   \n",
       "\n",
       "                                           tokens_v2  \\\n",
       "0  ['澎湖', '冠狀', '病毒', '疾病', '確診數', '澎湖縣', '政府', '...   \n",
       "\n",
       "                                            entities  \\\n",
       "0  [NerToken(word='澎湖', ner='GPE', idx=(0, 2)), N...   \n",
       "\n",
       "                                           token_pos  \\\n",
       "0  [('澎湖', 'Nc'), ('COVID-19', 'FW'), ('（', 'PARE...   \n",
       "\n",
       "                                                urls  \n",
       "0  https://news.google.com/articles/CBMiMmh0dHBzO...  "
      ]
     },
     "execution_count": 3,
     "metadata": {},
     "output_type": "execute_result"
    }
   ],
   "source": [
    "df.head(1)"
   ]
  },
  {
   "cell_type": "markdown",
   "metadata": {},
   "source": [
    "# Step 1: Find articles by catagory or user keyword query"
   ]
  },
  {
   "cell_type": "code",
   "execution_count": 6,
   "metadata": {},
   "outputs": [],
   "source": [
    "#-- Given a category, get the latest news\n",
    "def get_userkeyword_cate_latest_news(cate, user_keywords):\n",
    "    # get the last news (the latest news)\n",
    "    # df_cate = df_cate.tail(10)  # Only 10 pieces\n",
    "    # only return 10 news\n",
    "    # proceed filtering: news category\n",
    "    # and or 條件\n",
    "\n",
    "    # end date: the date of the latest record of news\n",
    "    end_date = df.date.max()    \n",
    "    # start date 昨天新聞過濾\n",
    "    days = 1     \n",
    "    start_date_delta = (datetime.strptime(end_date, '%Y-%m-%d').date() - timedelta(days=days)).strftime('%Y-%m-%d')\n",
    "    start_date_min = df.date.min()\n",
    "    # set start_date as the larger one from the start_date_delta and start_date_min 開始時間選資料最早時間與周數:兩者較晚者\n",
    "    start_date = max(start_date_delta,   start_date_min)\n",
    "\n",
    "    # (1) proceed filtering: a duration of a period of time\n",
    "    # 期間條件\n",
    "    condition = (df.date >= start_date) & (df.date <= end_date) \n",
    "    \n",
    "    # (2) proceed filtering: news category\n",
    "    # 新聞類別條件\n",
    "    # category condition\n",
    "    condition = (df.category == cate) \n",
    "    \n",
    "    # (3) query keywords condition使用者輸入關鍵字條件and\n",
    "    # 若未輸入關鍵字，結果是true，因為\"\" in text 不管text字串內容為何，運算結果為True\n",
    "    condition = condition & df.content.apply(lambda text: all(\n",
    "            (qk in text) for qk in user_keywords))  # 寫法:all()\n",
    "    \n",
    "    \n",
    "    # condiction is a list of True or False boolean value\n",
    "    df_query = df[condition]\n",
    "\n",
    "    print(df_query.shape)\n",
    "\n",
    "    # 隨機挑選4篇\n",
    "    if len(df_query) >= 4:\n",
    "        df_query = df_query.sample(4) # Sample only 4 pieces 若文章數不足會報錯!\n",
    "    else:\n",
    "        df_query = df_query.tail(4) # Only latest 4 pieces\n",
    "    \n",
    "    items = []\n",
    "    for i in range( len(df_query)):\n",
    "        item_id = df_query.iloc[i].item_id    \n",
    "        title = df_query.iloc[i].title\n",
    "        content = df_query.iloc[i].content\n",
    "        category = df_query.iloc[i].category\n",
    "        link = df_query.iloc[i].link\n",
    "        photo_link = df_query.iloc[i].photo_link\n",
    "        # if photo_link value is NaN, replace it with empty string \n",
    "        if pd.isna(photo_link):\n",
    "            photo_link=\"\"\n",
    "\n",
    "        news_info = {\n",
    "            \"item_id\": item_id, \n",
    "            \"category\": category, \n",
    "            \"title\": title,\n",
    "            \"content\": content, \n",
    "            \"link\": link,\n",
    "            \"photo_link\": photo_link\n",
    "        }\n",
    "\n",
    "        items.append(news_info)\n",
    "    return items"
   ]
  },
  {
   "cell_type": "code",
   "execution_count": 7,
   "metadata": {},
   "outputs": [
    {
     "name": "stdout",
     "output_type": "stream",
     "text": [
      "(3, 14)\n"
     ]
    },
    {
     "data": {
      "text/plain": [
       "[{'item_id': 'aipl_20220314_1',\n",
       "  'category': '政治',\n",
       "  'title': '外交部援烏物資已募4000箱 吳釗燮感謝捐贈民眾',\n",
       "  'content': '民眾捐贈烏克蘭的愛心物資持續湧入外交部，截至今天傍晚累計已收到約4000箱，外交部長吳釗燮中午親自到現場為協助整理物資的志工加油，並對捐贈民眾表達感謝。外交部晚間發布新聞稿指出，外交部從7日開始向民間募集捐贈烏克蘭難民的物資，獲得熱烈響應，親赴外交部捐贈物資的民眾約1730人，加上郵寄包裹，目前約已收到4000箱物資，品項以醫療口罩、毛毯、女性衛生用品、尿片、餅乾等為主，募集活動將持續到18日。外交部表示，為了感謝捐贈民眾，與在現場辛苦分類整理的志工、外交部人員，吳釗燮今天中午特別前往外交部西側門地下停車場視察，吳釗燮與在場的慈濟等民間慈善組織志工，以及其他自發到場幫忙的善心人士親切互動，對於也有烏克蘭旅台人士自願擔任義工在現場協助，吳釗燮特別致意慰問。根據外交部提供的照片，到場幫忙的烏克蘭志工是極為關心家鄉情勢的網紅佳娜。外交部再度提醒有意捐贈物資的民眾，捐贈物品請依照外交部網站所公布的清單為限，切勿捐贈或郵寄二手物品或衣物。送到外交部的捐贈物品務必為全新物品、未拆封包裝、有效期至少6個月以上，以免造成整理及後續轉運捐贈的困擾。募集截止時間是3月18日下午5時以前，民眾可以用面送或郵寄清單所列的20類物品及 14 類藥品至外交部。外交部除感謝熱心民眾踴躍捐贈援助烏克蘭人道物資外，也感謝許多志工義務幫忙、貢獻己力。外交部對各界人士奉獻時間與精神投入國際人道援助，表達最高的敬意。',\n",
       "  'link': 'https://www.cna.com.tw/news/aipl/202203140364.aspx',\n",
       "  'photo_link': 'https://imgcdn.cna.com.tw/www/WebPhotos/200/20220314/1024x768_20220314000190.jpg'},\n",
       " {'item_id': 'aipl_20220314_12',\n",
       "  'category': '政治',\n",
       "  'title': '賑濟烏克蘭善款 累計突破6億元',\n",
       "  'content': '財團法人賑災基金會今天表示，賑濟烏克蘭專戶開設到今天下午4時10分，累計收到善款已突破新台幣6億元。其中，收到紐約台灣商會捐入一筆3萬5703美元、折合新台幣約101萬元的捐款。俄烏戰事未歇，為協助烏克蘭難民，外交部2日透過財團法人賑災基金會開立烏克蘭捐款專戶。4月1日將截止捐款，其中線上多元支付刷卡服務將於4月1日中午12時關閉，超商及虛擬ATM付款則將於3月27日晚間11時59分先行關閉。基金會透過新聞稿指出，今天收到一筆3萬5703美元（折合新台幣約101萬元），是由紐約台灣商會（Taiwanese Chamber of Commerce of New York）捐入。紐約台灣商會創立於1976年，是北美歷史悠久的台商團體，致力於促進商業、回饋社區且支持台灣事務。這次捐款援助烏克蘭難民，顯示海外僑胞不分遠近的關心以及善意。基金會統計，其中實體帳戶統計新台幣4億7222萬元；透過挖貝線上多元支付平台則收到1億3788萬元，累計共6億1010萬元。目前捐款筆數達10萬筆。透過轉帳匯款帳戶比例為55%，線上多元支付比例為45%。基金會表示，目前已收得善款，已提撥1億元交外交部進行運用，交給波蘭政府指定的賑濟烏克蘭難民專責單位。基金會表示，常見問題已整理在官方網站上，其他最新消息及專戶明細則在網站烏克蘭援助專區中揭露。民眾可上網查詢閱覽，或撥打捐款諮詢專線（02）8912-7779等方式詢問。',\n",
       "  'link': 'https://www.cna.com.tw/news/aipl/202203140241.aspx',\n",
       "  'photo_link': 'https://imgcdn.cna.com.tw/www/webphotos/WebCover/420/20220314/1024x768_701023612981.jpg'},\n",
       " {'item_id': 'aipl_20220314_20',\n",
       "  'category': '政治',\n",
       "  'title': '徐國勇：個人贊成延長役期  花點時間讓國家永續安全',\n",
       "  'content': '烏克蘭情勢讓台灣4個月軍事訓練役的討論浮上檯面。內政部長徐國勇今天說，這牽涉國家兵役政策，應由國防部做相關檢討；但他個人贊成延長，如果花點時間讓國家可永續、安全，又算什麼。立法院內政委會今天邀徐國勇列席，進行業務報告並備詢。民進黨立委王美惠質詢時關注，現在義務役役期只有4個月，是否支持役期延長到一年？徐國勇答詢時說，這牽涉國家兵役政策，應由國防部做相關檢討。徐國勇表示，他以前光是在成功嶺暑訓以及預官訓練等，就已經7、8個月，「我個人是贊成（延長）」，但這要上面去討論，不是他個人可以決定；如果多花一點時間，國家可以永續、安全，讓國家能發展、存在，「一年、幾個月（役期）時間又算什麼？」王美惠指出，俄烏戰爭烏克蘭仍堅守國家，但卻有學者認為應修法，要求立委及政府官員在戰爭時不能落跑。她詢問，如果有一天如果台灣發生戰爭，部長該怎麼做？徐國勇說，他會堅守內政部崗位，因為內政部就有包括警察、消防、空勤等，他會在這裡指揮。王美惠也問，如果遭遇戰爭，軍中卻不夠人時，「相信部長你也會去吧？」徐國勇說，他有當兵，且是少尉預官退伍。',\n",
       "  'link': 'https://www.cna.com.tw/news/aipl/202203140174.aspx',\n",
       "  'photo_link': ''}]"
      ]
     },
     "execution_count": 7,
     "metadata": {},
     "output_type": "execute_result"
    }
   ],
   "source": [
    "cate='政治'\n",
    "user_keywords='烏克蘭'\n",
    "get_userkeyword_cate_latest_news(cate, user_keywords)"
   ]
  },
  {
   "cell_type": "code",
   "execution_count": 8,
   "metadata": {},
   "outputs": [
    {
     "name": "stdout",
     "output_type": "stream",
     "text": [
      "(20, 14)\n"
     ]
    },
    {
     "data": {
      "text/plain": [
       "[{'item_id': 'aipl_20220314_15',\n",
       "  'category': '政治',\n",
       "  'title': 'NCC前專委喬建中釀玉山森林大火 監院通過彈劾移送懲戒法院',\n",
       "  'content': '監察院今天說，NCC前專門委員喬建中帶團途經玉山國家公園，任由隊員違法就地砍伐、生火，釀森林大火，有損國家文官官箴及政府形象，監察院全數通過彈劾，移送懲戒法院審理。監察院透過新聞稿表示，國家通訊傳播委員會（NCC）前專門委員喬建中在民國110年5月15、16日帶團途經玉山國家公園杜鵑營地，任由隊員違法就地砍伐、取柴及生火，釀成延燒12天、近80公頃林地的重大森林火災。經監察委員葉宜津、蔡崇義、賴鼎銘調查相關事證後，認為喬建中利用假日從事登山活動，用火不慎，引發森林大火，雖屬非執行職務的違法行為，但身為通傳會法制人員，負責主管法規解釋與疑義並協助訴訟案件等，卻利用其法律智識規避刑責，而隱瞞就地取柴、違法生火等情，還辯稱是因踢倒爐火致災等言論，嚴重敗壞國家文官及政府形象，核有重大違失。經監察院彈劾審查會今天審查，全數通過彈劾，全案移送懲戒法院審理。彈劾理由指出，喬建中是具豐厚法律專業、法制與公關實務經驗的國家高階簡任文官，明知在國家公園內營火屬不法行為，非但不思遵守法律，行前主動提出杜鵑營地、南營地及大水窟等3營地生火可行性，且已知杜鵑營地離水源來回距離1.5公里，卻任由同行隊友攜帶鋸子，在杜鵑營地就地砍伐、取柴及生火，引發林火致災。監察院表示，喬建中在案發當天接受警方詢問時，隱瞞前晚在杜鵑營地生火事實，並辯稱是因5月16日凌晨2時準備早餐時，不慎踢倒爐火導致地火悶燒釀災，意圖規避森林法刑事責任，企圖以其法律智識誤導檢方及視聽大眾。經消防與林務機關鑑定及認定是砍伐樹枝生火致災而戳破謊言，有失國家高階文官品位，已損及政府及機關形象，顯已違反公務員誠實謹慎義務。監察院指出，喬建中在108年6月到110年6月的2年期間，向玉山國家公園管理處提出12次入園申請，其中11次都擔任登山隊領隊；105年7月到110年7月的5年期間，向警政署提出41次入山申請。110年4月間，獲邀隨同行政院政務委員踏勘玉山首登路線及八通關沿線山屋整建規劃案，足以證明喬建中深入山林頻繁且經驗豐富。監察院說，因喬建中任職於通傳會，更應知台灣山區通訊不良一向是山林救災救難的限制，卻背離其職能知識而違法用火，導致歷時12天、近80公頃的重大森林火災，難辭其咎。監委調查發現，喬建中曾在109年10月3日在巒大事業區第206林班內露營營火，已遭林務局南投林區管理處函送違反森林法查報書。據登山社群媒體截圖顯示，喬建中曾在102年到109年間，多次上傳並公開野炊生火照片，地點位於多加屯稜線西側、丹大溪、巒大溪、郡大溪等山林環境，並經監察院詢問坦承「是，那是我臉書文章」。凸顯喬建中生火成性，無視森林保護的責任。監察院指出，喬建中利用假日從事登山活動，引發森林大火，除涉犯森林法刑事責任，並已違反公務員服務法第5條誠實謹慎義務，有公務員懲戒法第2條第2款「非執行職務之違法行為」，嚴重影響政府信譽，有懲戒之必要。',\n",
       "  'link': 'https://www.cna.com.tw/news/aipl/202203145010.aspx',\n",
       "  'photo_link': 'https://imgcdn.cna.com.tw/www/webphotos/WebCover/420/20220314/1024x768_449062603344.jpg'},\n",
       " {'item_id': 'aipl_20220314_4',\n",
       "  'category': '政治',\n",
       "  'title': '游錫堃：無禁止反質詢規定  擇期協商討論入法可能',\n",
       "  'content': '針對近日行政院長蘇貞昌與國民黨立委蔣萬安的反質詢爭議，立法院長游錫堃今天透過幕僚告訴中央社記者，目前與立法院相關的法律，並無禁止反質詢的規定，也未違反議事規則。游錫堃表示，針對反質詢入法，目前已經有人提案，將擇期召開朝野黨團協商，討論入法的可能性。蔣萬安11日在立法院會質詢指蘇貞昌不敢承諾未來不缺電，蘇貞昌備詢時回應，故總統蔣經國和國民黨昔日承諾要反攻大陸，到現在都沒反攻大陸。雙方陣營連日來也是隔空言詞交鋒，戰火並未停歇，引發各界關注。國民黨立法院黨團不滿蘇貞昌及各部會首長列席立法院會備詢時屢次反質詢，將發文給游錫堃，要求召集朝野黨團協商，研商有關於行政官員到立院備詢卻反質詢的問題，並要求立法院長、副院長主持會議去若發現官員反質詢時，就應該要予以制止。對於立委依法質詢時，行政院官員是否可以反質詢；游錫堃今天透過幕僚告訴中央社記者時表示，目前與立法院相關的法律，並無禁止反質詢的規定，也並未違反議事規則。此外，如何才能禁止行政官員反質詢；游錫堃認為，立法院是合議制，要禁止反質詢，必須修法或由院會正式通過決議。游錫堃說，立法院與行政院都是憲政機關，立委與行政院官員應本相互尊重、理性溝通原則進行詢答，以符合社會的期待。立委也可研究質詢時如何攻守兼備，針對官員的反質詢在法尚無明文禁止情形下，進行「反反質詢」以求問政成效，監督政府施政。',\n",
       "  'link': 'https://www.cna.com.tw/news/aipl/202203140336.aspx',\n",
       "  'photo_link': ''},\n",
       " {'item_id': 'aipl_20220314_3',\n",
       "  'category': '政治',\n",
       "  'title': '法製幻象零附件取得不易 空軍：妥善率沒問題',\n",
       "  'content': '幻象戰機今天失事，所幸飛官成功跳傘，由於法國製造的幻象戰機向來存有零附件取得不易問題，外界關注妥善率。空軍今天表示，空軍對後勤要求從來沒區分，雖曾因疫情延遲零附件，但整體妥善率沒問題。新竹空軍基地1架幻象2000戰機（機號2017），上午在台東外海失事，所幸飛官黃重凱中校成功跳傘，經送醫院檢查後無大礙，軍方初步判斷為機械故障，但確切肇因仍待打撈機體、訪談飛官後才能釐清。空軍司令部下午舉行記者會，有媒體關切，由於幻象戰機為法國製造，但相對於國軍大部分均使用美造的軍事裝備，維修保養及零附件相對不易，是否會影響幻象戰機的戰演訓任務。空軍督察長柳惠千少將回應，幻象雖然是法國製，並以商售模式來台，但空軍對後勤的品質要求從來沒有區分，日前因為疫情影響導致一些零附件、器材運補遲了一點，但現在已恢復正軌，對於幻象機隊的整體妥善率供需沒有任何問題。另外，據傳空軍針對部分幻象戰機封存不飛，並將其封存的零附件暫時拆下供給其餘執行戰演訓任務的幻象。國防部官員告訴中央社記者，幻象戰機零附件取得不易，非如F-16戰機隊數量龐大且是美製配備，因此在此情況下，會以俗稱「拆拼」的方式借調已封存戰機零件，並供給飛行時數較少的幻象，以維持戰備能量。國防部智庫、國防安全研究院學者蘇紫雲接受中央社訪問時表示，幻象戰機的壽命雖然已到中壽期，但並不影響服役及戰備任務，雖然法國原廠對於幻象戰機的零附件存有報價過高等問題，但空軍也都有應對方式，以利進行全機隊管理，讓零附件供應無虞。',\n",
       "  'link': 'https://www.cna.com.tw/news/aipl/202203140341.aspx',\n",
       "  'photo_link': ''},\n",
       " {'item_id': 'aipl_20220314_12',\n",
       "  'category': '政治',\n",
       "  'title': '賑濟烏克蘭善款 累計突破6億元',\n",
       "  'content': '財團法人賑災基金會今天表示，賑濟烏克蘭專戶開設到今天下午4時10分，累計收到善款已突破新台幣6億元。其中，收到紐約台灣商會捐入一筆3萬5703美元、折合新台幣約101萬元的捐款。俄烏戰事未歇，為協助烏克蘭難民，外交部2日透過財團法人賑災基金會開立烏克蘭捐款專戶。4月1日將截止捐款，其中線上多元支付刷卡服務將於4月1日中午12時關閉，超商及虛擬ATM付款則將於3月27日晚間11時59分先行關閉。基金會透過新聞稿指出，今天收到一筆3萬5703美元（折合新台幣約101萬元），是由紐約台灣商會（Taiwanese Chamber of Commerce of New York）捐入。紐約台灣商會創立於1976年，是北美歷史悠久的台商團體，致力於促進商業、回饋社區且支持台灣事務。這次捐款援助烏克蘭難民，顯示海外僑胞不分遠近的關心以及善意。基金會統計，其中實體帳戶統計新台幣4億7222萬元；透過挖貝線上多元支付平台則收到1億3788萬元，累計共6億1010萬元。目前捐款筆數達10萬筆。透過轉帳匯款帳戶比例為55%，線上多元支付比例為45%。基金會表示，目前已收得善款，已提撥1億元交外交部進行運用，交給波蘭政府指定的賑濟烏克蘭難民專責單位。基金會表示，常見問題已整理在官方網站上，其他最新消息及專戶明細則在網站烏克蘭援助專區中揭露。民眾可上網查詢閱覽，或撥打捐款諮詢專線（02）8912-7779等方式詢問。',\n",
       "  'link': 'https://www.cna.com.tw/news/aipl/202203140241.aspx',\n",
       "  'photo_link': 'https://imgcdn.cna.com.tw/www/webphotos/WebCover/420/20220314/1024x768_701023612981.jpg'}]"
      ]
     },
     "execution_count": 8,
     "metadata": {},
     "output_type": "execute_result"
    }
   ],
   "source": [
    "cate='政治'\n",
    "user_keywords=[] # 未輸入關鍵字\n",
    "get_userkeyword_cate_latest_news(cate, user_keywords)"
   ]
  },
  {
   "cell_type": "code",
   "execution_count": 9,
   "metadata": {},
   "outputs": [
    {
     "data": {
      "text/plain": [
       "0       True\n",
       "1      False\n",
       "2      False\n",
       "3      False\n",
       "4      False\n",
       "       ...  \n",
       "208    False\n",
       "209    False\n",
       "210    False\n",
       "211    False\n",
       "212    False\n",
       "Name: content, Length: 213, dtype: bool"
      ]
     },
     "execution_count": 9,
     "metadata": {},
     "output_type": "execute_result"
    }
   ],
   "source": [
    "user_keywords=['烏克蘭','外交部']\n",
    "df.content.apply(lambda text: all((qk in text) for qk in user_keywords))"
   ]
  },
  {
   "cell_type": "code",
   "execution_count": 10,
   "metadata": {},
   "outputs": [
    {
     "data": {
      "text/plain": [
       "0      True\n",
       "1      True\n",
       "2      True\n",
       "3      True\n",
       "4      True\n",
       "       ... \n",
       "208    True\n",
       "209    True\n",
       "210    True\n",
       "211    True\n",
       "212    True\n",
       "Name: content, Length: 213, dtype: bool"
      ]
     },
     "execution_count": 10,
     "metadata": {},
     "output_type": "execute_result"
    }
   ],
   "source": [
    "user_keywords=[]\n",
    "df.content.apply(lambda text: all((qk in text) for qk in user_keywords))"
   ]
  },
  {
   "cell_type": "code",
   "execution_count": 11,
   "metadata": {},
   "outputs": [
    {
     "data": {
      "text/plain": [
       "True"
      ]
     },
     "execution_count": 11,
     "metadata": {},
     "output_type": "execute_result"
    }
   ],
   "source": [
    "text='This is a sentence.'\n",
    "\"\" in text"
   ]
  },
  {
   "cell_type": "markdown",
   "metadata": {},
   "source": [
    "# Step 2: Get news content for displaying on django website"
   ]
  },
  {
   "cell_type": "code",
   "execution_count": 12,
   "metadata": {},
   "outputs": [],
   "source": [
    "itemid = 'aipl_20220314_16'"
   ]
  },
  {
   "cell_type": "code",
   "execution_count": 13,
   "metadata": {},
   "outputs": [
    {
     "data": {
      "text/html": [
       "<div>\n",
       "<style scoped>\n",
       "    .dataframe tbody tr th:only-of-type {\n",
       "        vertical-align: middle;\n",
       "    }\n",
       "\n",
       "    .dataframe tbody tr th {\n",
       "        vertical-align: top;\n",
       "    }\n",
       "\n",
       "    .dataframe thead th {\n",
       "        text-align: right;\n",
       "    }\n",
       "</style>\n",
       "<table border=\"1\" class=\"dataframe\">\n",
       "  <thead>\n",
       "    <tr style=\"text-align: right;\">\n",
       "      <th></th>\n",
       "      <th>item_id</th>\n",
       "      <th>date</th>\n",
       "      <th>category</th>\n",
       "      <th>title</th>\n",
       "      <th>content</th>\n",
       "      <th>sentiment</th>\n",
       "      <th>summary</th>\n",
       "      <th>top_key_freq</th>\n",
       "      <th>tokens</th>\n",
       "      <th>tokens_v2</th>\n",
       "      <th>entities</th>\n",
       "      <th>token_pos</th>\n",
       "      <th>link</th>\n",
       "      <th>photo_link</th>\n",
       "    </tr>\n",
       "  </thead>\n",
       "  <tbody>\n",
       "    <tr>\n",
       "      <th>15</th>\n",
       "      <td>aipl_20220314_16</td>\n",
       "      <td>2022-03-14</td>\n",
       "      <td>政治</td>\n",
       "      <td>商總理事長：企業界盼5月開放國門、入境免隔離</td>\n",
       "      <td>全國商業總會理事長許舒博今天出席一場記者會時透露，工商團體日前拜會蔡總統，希望在疫情緩和下，...</td>\n",
       "      <td>0.0</td>\n",
       "      <td>['被問到全國工業總會爆發理事長王文淵與秘書長不合的茶壺風暴', '跳電不是用電不足的問題'...</td>\n",
       "      <td>[('許舒博', 7), ('台灣', 6), ('問題', 5), ('疫情', 4), ...</td>\n",
       "      <td>['全', '國', '商業', '總會', '理事長', '許舒博', '今天', '出席...</td>\n",
       "      <td>['商業', '總會', '理事長', '許舒博', '出席', '記者會', '工商', ...</td>\n",
       "      <td>[NerToken(word='許舒博', ner='PERSON', idx=(9, 12...</td>\n",
       "      <td>[('全', 'Neqa'), ('國', 'Nc'), ('商業', 'Na'), ('總...</td>\n",
       "      <td>https://www.cna.com.tw/news/aipl/202203140210....</td>\n",
       "      <td>https://imgcdn.cna.com.tw/www/WebPhotos/200/20...</td>\n",
       "    </tr>\n",
       "  </tbody>\n",
       "</table>\n",
       "</div>"
      ],
      "text/plain": [
       "             item_id        date category                   title  \\\n",
       "15  aipl_20220314_16  2022-03-14       政治  商總理事長：企業界盼5月開放國門、入境免隔離   \n",
       "\n",
       "                                              content  sentiment  \\\n",
       "15  全國商業總會理事長許舒博今天出席一場記者會時透露，工商團體日前拜會蔡總統，希望在疫情緩和下，...        0.0   \n",
       "\n",
       "                                              summary  \\\n",
       "15  ['被問到全國工業總會爆發理事長王文淵與秘書長不合的茶壺風暴', '跳電不是用電不足的問題'...   \n",
       "\n",
       "                                         top_key_freq  \\\n",
       "15  [('許舒博', 7), ('台灣', 6), ('問題', 5), ('疫情', 4), ...   \n",
       "\n",
       "                                               tokens  \\\n",
       "15  ['全', '國', '商業', '總會', '理事長', '許舒博', '今天', '出席...   \n",
       "\n",
       "                                            tokens_v2  \\\n",
       "15  ['商業', '總會', '理事長', '許舒博', '出席', '記者會', '工商', ...   \n",
       "\n",
       "                                             entities  \\\n",
       "15  [NerToken(word='許舒博', ner='PERSON', idx=(9, 12...   \n",
       "\n",
       "                                            token_pos  \\\n",
       "15  [('全', 'Neqa'), ('國', 'Nc'), ('商業', 'Na'), ('總...   \n",
       "\n",
       "                                                 link  \\\n",
       "15  https://www.cna.com.tw/news/aipl/202203140210....   \n",
       "\n",
       "                                           photo_link  \n",
       "15  https://imgcdn.cna.com.tw/www/WebPhotos/200/20...  "
      ]
     },
     "execution_count": 13,
     "metadata": {},
     "output_type": "execute_result"
    }
   ],
   "source": [
    "df.loc[df.item_id == itemid]"
   ]
  },
  {
   "cell_type": "markdown",
   "metadata": {},
   "source": [
    "## Define function: get_news_content()"
   ]
  },
  {
   "cell_type": "code",
   "execution_count": 14,
   "metadata": {},
   "outputs": [],
   "source": [
    "# -- Given a item_id, get document information\n",
    "def get_news_content(item_id):\n",
    "    df_item = df[df.item_id == item_id]\n",
    "    title = df_item.iloc[0].title   \n",
    "    content = df_item.iloc[0].content\n",
    "    category = df_item.iloc[0].category\n",
    "    link = df_item.iloc[0].link\n",
    "    date = df_item.iloc[0].date\n",
    "    photo_link = df_item.iloc[0].photo_link\n",
    "    # if photo_link value is NaN, replace it with empty string \n",
    "    if pd.isna(photo_link):\n",
    "        photo_link=''\n",
    "\n",
    "    news_info = {\n",
    "        \"item_id\": item_id,\n",
    "        \"category\": category,\n",
    "        \"title\": title,\n",
    "        \"content\": content,\n",
    "        \"link\": link,\n",
    "        \"date\": date,\n",
    "        \"photo_link\": photo_link\n",
    "    }\n",
    "\n",
    "    return news_info"
   ]
  },
  {
   "cell_type": "code",
   "execution_count": 15,
   "metadata": {},
   "outputs": [
    {
     "data": {
      "text/plain": [
       "{'item_id': 'aipl_20220314_16',\n",
       " 'category': '政治',\n",
       " 'title': '商總理事長：企業界盼5月開放國門、入境免隔離',\n",
       " 'content': '全國商業總會理事長許舒博今天出席一場記者會時透露，工商團體日前拜會蔡總統，希望在疫情緩和下，5月可以全面開放國門、返國免隔離；蔡總統對此相當重視，當場指示行政院副院長沈榮津將意見帶回去與院長蘇貞昌研議。被問到全國工業總會爆發理事長王文淵與秘書長不合的茶壺風暴，許舒博說，他對工總內部情形不瞭解，但商總體系健全，絕不會發生秘書長未經他同意，就把公文發出去的事；他也對追問的媒體打趣說，「大家放心，我不會請辭」。全國商業總會今天舉辦「第四屆品牌金箔獎」海外僑台商組徵件記者會。對於媒體詢問有關停電懲處事件看法，許舒博表示，他過去擔任立委，很瞭解台電，跳電不是用電不足的問題，但台灣電網很脆弱也是問題，政府應思考如何永備發電量，否則將來一樣會面對缺電、跳電問題。許舒博說，大家都不喜歡核電核能，但這次核三廠的備載電源還是掛上去，因為沒有其他可以掛；台灣遇到乾旱，水力發電就掛不下去，台灣河流短小湍急，應思考怎樣留住夏季雨量運用，不要讓雨水一下就流到海洋去。許舒博強調，工商企業界對用電較敏感，反映問題並無攻擊政府的意思，國家是一體的，大家應該一起承擔、一起走出去，不是誰說的就一定對；跳電不管是微幅或大面積都眾所不樂見，不能成為常態，有人為疏失該檢討，有機器設備問題就要汰換。許舒博表示，工商界日前跟蔡總統報告時，很多人都感嘆現在是「出得去、回不來」，因為外國不用隔離，回來關十天對企業就損失很大。許舒博說，疫情期間台灣製造業很好，由於台灣沒疫情、上工率高，外國大量請台灣工廠代工，讓製造業突飛猛進；現在各國都開放了，製造業就沒那麼好過，工商界希望政府能跟著國際腳步，調整疫情管制措施。',\n",
       " 'link': 'https://www.cna.com.tw/news/aipl/202203140210.aspx',\n",
       " 'date': '2022-03-14',\n",
       " 'photo_link': 'https://imgcdn.cna.com.tw/www/WebPhotos/200/20220314/1024x768_20220314000113.jpg'}"
      ]
     },
     "execution_count": 15,
     "metadata": {},
     "output_type": "execute_result"
    }
   ],
   "source": [
    "get_news_content(itemid)"
   ]
  },
  {
   "cell_type": "code",
   "execution_count": null,
   "metadata": {},
   "outputs": [],
   "source": []
  },
  {
   "cell_type": "code",
   "execution_count": null,
   "metadata": {},
   "outputs": [],
   "source": []
  },
  {
   "cell_type": "markdown",
   "metadata": {},
   "source": [
    "# Step 3: Given an item_id, find topk similar articles\n",
    "    Input: item_id (one of item_ids in the word2vec model)\n",
    "\n",
    "    Output: top n documents ranked by similarity\n",
    "\n",
    "    Using model.docvecs.most_similar([item_id])\n",
    "\n",
    "    (在訓練資料集內的)某篇文件與 哪幾篇最相似？相似度多少？"
   ]
  },
  {
   "cell_type": "markdown",
   "metadata": {},
   "source": [
    "## Prepare article index"
   ]
  },
  {
   "cell_type": "code",
   "execution_count": 16,
   "metadata": {},
   "outputs": [],
   "source": [
    "from operator import itemgetter\n",
    "import pandas as pd\n",
    "import numpy as np"
   ]
  },
  {
   "cell_type": "code",
   "execution_count": 17,
   "metadata": {},
   "outputs": [],
   "source": [
    "news_sim_martrix = np.load('news_sim_martrix.npy')"
   ]
  },
  {
   "cell_type": "code",
   "execution_count": 18,
   "metadata": {},
   "outputs": [],
   "source": [
    "item_id2idx={}\n",
    "idx2item_id={}\n",
    "for id, i in df.item_id.items():\n",
    "    item_id2idx[i] = id\n",
    "    idx2item_id[id] = i"
   ]
  },
  {
   "cell_type": "markdown",
   "metadata": {},
   "source": [
    "## Find topk similar articles"
   ]
  },
  {
   "cell_type": "code",
   "execution_count": 19,
   "metadata": {},
   "outputs": [],
   "source": [
    "item_id = 'acn_20220313_20'\n",
    "topk=3\n",
    "sim_dict = {}\n",
    "idx = item_id2idx[item_id]\n",
    "for i, value in enumerate(news_sim_martrix[idx]):\n",
    "    sim_dict[i]=value\n",
    "similar_items = sorted(sim_dict.items(), key= itemgetter(1), reverse=True)[1:topk+1] # topk+1 多取一筆 有包含本身這一筆\n"
   ]
  },
  {
   "cell_type": "code",
   "execution_count": 20,
   "metadata": {},
   "outputs": [
    {
     "data": {
      "text/plain": [
       "[(196, 0.97362715), (146, 0.9724167), (200, 0.9684948)]"
      ]
     },
     "execution_count": 20,
     "metadata": {},
     "output_type": "execute_result"
    }
   ],
   "source": [
    "similar_items"
   ]
  },
  {
   "cell_type": "markdown",
   "metadata": {},
   "source": [
    "## Get article information to display"
   ]
  },
  {
   "cell_type": "code",
   "execution_count": 21,
   "metadata": {},
   "outputs": [],
   "source": [
    "items = []\n",
    "for idx, score in similar_items:\n",
    "    item = df.iloc[idx]\n",
    "    item_id = item.item_id\n",
    "    title = item.title\n",
    "    content = item.content\n",
    "    category = item.category\n",
    "    link = item.link\n",
    "    photo_link = item.photo_link\n",
    "    # if photo_link value is NaN, replace it with empty string \n",
    "    if pd.isna(photo_link):\n",
    "        photo_link=''\n",
    "\n",
    "    score = round(score, 2)\n",
    "    news_info = {\n",
    "        \"category\": category, \n",
    "        \"title\": title, \n",
    "        \"link\": link,\n",
    "        \"id\": item_id, \n",
    "        'score': score, \n",
    "        \"photo_link\": photo_link\n",
    "        }\n",
    "    items.append(news_info)"
   ]
  },
  {
   "cell_type": "code",
   "execution_count": 22,
   "metadata": {},
   "outputs": [
    {
     "data": {
      "text/plain": [
       "[{'category': '兩岸',\n",
       "  'title': '美國立法地圖正確標示台灣  北京：停止掏空一中',\n",
       "  'link': 'https://www.cna.com.tw/news/acn/202203140294.aspx',\n",
       "  'id': 'acn_20220314_4',\n",
       "  'score': 0.97,\n",
       "  'photo_link': ''},\n",
       " {'category': '國際',\n",
       "  'title': '遭港府要求關站 英人權組織香港觀察誓言不會噤聲',\n",
       "  'link': 'https://www.cna.com.tw/news/aopl/202203140334.aspx',\n",
       "  'id': 'aopl_20220314_7',\n",
       "  'score': 0.97,\n",
       "  'photo_link': ''},\n",
       " {'category': '兩岸',\n",
       "  'title': '港府效忠學北京官腔官調  凸顯香港自治被剝奪',\n",
       "  'link': 'https://www.cna.com.tw/news/acn/202203140197.aspx',\n",
       "  'id': 'acn_20220314_8',\n",
       "  'score': 0.97,\n",
       "  'photo_link': 'https://imgcdn.cna.com.tw/www/webphotos/WebCover/420/20220314/3811x2858_389455461856.jpg'}]"
      ]
     },
     "execution_count": 22,
     "metadata": {},
     "output_type": "execute_result"
    }
   ],
   "source": [
    "items"
   ]
  },
  {
   "cell_type": "markdown",
   "metadata": {},
   "source": [
    "## Get topk similar articles based on a certain item_id"
   ]
  },
  {
   "cell_type": "code",
   "execution_count": 23,
   "metadata": {},
   "outputs": [],
   "source": [
    "#-- Given item_id, get three similar article information\n",
    "def get_topk_similar_articles(item_id):\n",
    "\n",
    "    ## Find topk similar articles\n",
    "    topk=3\n",
    "    sim_dict = {}\n",
    "    idx = item_id2idx[item_id]\n",
    "    for i, value in enumerate(news_sim_martrix[idx]):\n",
    "        sim_dict[i]=value\n",
    "    similar_items = sorted(sim_dict.items(), key= itemgetter(1), reverse=True)[1:topk+1] # topk+1 多取一筆 有包含本身這一筆\n",
    "\n",
    "    ## Get article information to display\n",
    "    items = []\n",
    "    for idx, score in similar_items:\n",
    "        item = df.iloc[idx]\n",
    "        item_id = item.item_id\n",
    "        title = item.title\n",
    "        content = item.content\n",
    "        category = item.category\n",
    "        link = item.link\n",
    "        photo_link = item.photo_link\n",
    "        # if photo_link value is NaN, replace it with empty string \n",
    "        if pd.isna(photo_link):\n",
    "            photo_link=''\n",
    "\n",
    "        score = round(score, 2)\n",
    "        news_info = {\n",
    "            \"category\": category, \n",
    "            \"title\": title, \n",
    "            \"link\": link,\n",
    "            \"id\": item_id, \n",
    "            'score': score, \n",
    "            \"photo_link\": photo_link\n",
    "            }\n",
    "        items.append(news_info)\n",
    "\n",
    "    return items"
   ]
  },
  {
   "cell_type": "code",
   "execution_count": 24,
   "metadata": {},
   "outputs": [
    {
     "data": {
      "text/plain": [
       "[{'category': '兩岸',\n",
       "  'title': '美國立法地圖正確標示台灣  北京：停止掏空一中',\n",
       "  'link': 'https://www.cna.com.tw/news/acn/202203140294.aspx',\n",
       "  'id': 'acn_20220314_4',\n",
       "  'score': 0.97,\n",
       "  'photo_link': ''},\n",
       " {'category': '國際',\n",
       "  'title': '遭港府要求關站 英人權組織香港觀察誓言不會噤聲',\n",
       "  'link': 'https://www.cna.com.tw/news/aopl/202203140334.aspx',\n",
       "  'id': 'aopl_20220314_7',\n",
       "  'score': 0.97,\n",
       "  'photo_link': ''},\n",
       " {'category': '兩岸',\n",
       "  'title': '港府效忠學北京官腔官調  凸顯香港自治被剝奪',\n",
       "  'link': 'https://www.cna.com.tw/news/acn/202203140197.aspx',\n",
       "  'id': 'acn_20220314_8',\n",
       "  'score': 0.97,\n",
       "  'photo_link': 'https://imgcdn.cna.com.tw/www/webphotos/WebCover/420/20220314/3811x2858_389455461856.jpg'}]"
      ]
     },
     "execution_count": 24,
     "metadata": {},
     "output_type": "execute_result"
    }
   ],
   "source": [
    "item_id = 'acn_20220313_20'\n",
    "get_topk_similar_articles(item_id)"
   ]
  },
  {
   "cell_type": "markdown",
   "metadata": {},
   "source": [
    "# Django views.py"
   ]
  },
  {
   "cell_type": "code",
   "execution_count": 25,
   "metadata": {},
   "outputs": [
    {
     "ename": "FileNotFoundError",
     "evalue": "[Errno 2] No such file or directory: 'app_news_rcmd_bert/dataset/cna_news_200_preprocessed.csv'",
     "output_type": "error",
     "traceback": [
      "\u001b[1;31m---------------------------------------------------------------------------\u001b[0m",
      "\u001b[1;31mFileNotFoundError\u001b[0m                         Traceback (most recent call last)",
      "\u001b[1;32mc:\\Users\\Chun-Ching\\Documents\\BigData\\w14-Bert similar news recommendation\\10-BERT similar news recommendation\\20-Step2-Bert Django網頁推薦文章找文章OK.ipynb Cell 36'\u001b[0m in \u001b[0;36m<cell line: 25>\u001b[1;34m()\u001b[0m\n\u001b[0;32m     <a href='vscode-notebook-cell:/c%3A/Users/Chun-Ching/Documents/BigData/w14-Bert%20similar%20news%20recommendation/10-BERT%20similar%20news%20recommendation/20-Step2-Bert%20Django%E7%B6%B2%E9%A0%81%E6%8E%A8%E8%96%A6%E6%96%87%E7%AB%A0%E6%89%BE%E6%96%87%E7%AB%A0OK.ipynb#ch0000035?line=21'>22</a>\u001b[0m         item_id2idx[i] \u001b[39m=\u001b[39m \u001b[39mid\u001b[39m\n\u001b[0;32m     <a href='vscode-notebook-cell:/c%3A/Users/Chun-Ching/Documents/BigData/w14-Bert%20similar%20news%20recommendation/10-BERT%20similar%20news%20recommendation/20-Step2-Bert%20Django%E7%B6%B2%E9%A0%81%E6%8E%A8%E8%96%A6%E6%96%87%E7%AB%A0%E6%89%BE%E6%96%87%E7%AB%A0OK.ipynb#ch0000035?line=23'>24</a>\u001b[0m \u001b[39m# call load data function when starting server\u001b[39;00m\n\u001b[1;32m---> <a href='vscode-notebook-cell:/c%3A/Users/Chun-Ching/Documents/BigData/w14-Bert%20similar%20news%20recommendation/10-BERT%20similar%20news%20recommendation/20-Step2-Bert%20Django%E7%B6%B2%E9%A0%81%E6%8E%A8%E8%96%A6%E6%96%87%E7%AB%A0%E6%89%BE%E6%96%87%E7%AB%A0OK.ipynb#ch0000035?line=24'>25</a>\u001b[0m load_df_data_v1()\n\u001b[0;32m     <a href='vscode-notebook-cell:/c%3A/Users/Chun-Ching/Documents/BigData/w14-Bert%20similar%20news%20recommendation/10-BERT%20similar%20news%20recommendation/20-Step2-Bert%20Django%E7%B6%B2%E9%A0%81%E6%8E%A8%E8%96%A6%E6%96%87%E7%AB%A0%E6%89%BE%E6%96%87%E7%AB%A0OK.ipynb#ch0000035?line=27'>28</a>\u001b[0m \u001b[39m#-- home page\u001b[39;00m\n\u001b[0;32m     <a href='vscode-notebook-cell:/c%3A/Users/Chun-Ching/Documents/BigData/w14-Bert%20similar%20news%20recommendation/10-BERT%20similar%20news%20recommendation/20-Step2-Bert%20Django%E7%B6%B2%E9%A0%81%E6%8E%A8%E8%96%A6%E6%96%87%E7%AB%A0%E6%89%BE%E6%96%87%E7%AB%A0OK.ipynb#ch0000035?line=28'>29</a>\u001b[0m \u001b[39mdef\u001b[39;00m \u001b[39mhome\u001b[39m(request):\n",
      "\u001b[1;32mc:\\Users\\Chun-Ching\\Documents\\BigData\\w14-Bert similar news recommendation\\10-BERT similar news recommendation\\20-Step2-Bert Django網頁推薦文章找文章OK.ipynb Cell 36'\u001b[0m in \u001b[0;36mload_df_data_v1\u001b[1;34m()\u001b[0m\n\u001b[0;32m     <a href='vscode-notebook-cell:/c%3A/Users/Chun-Ching/Documents/BigData/w14-Bert%20similar%20news%20recommendation/10-BERT%20similar%20news%20recommendation/20-Step2-Bert%20Django%E7%B6%B2%E9%A0%81%E6%8E%A8%E8%96%A6%E6%96%87%E7%AB%A0%E6%89%BE%E6%96%87%E7%AB%A0OK.ipynb#ch0000035?line=11'>12</a>\u001b[0m \u001b[39mdef\u001b[39;00m \u001b[39mload_df_data_v1\u001b[39m():\n\u001b[0;32m     <a href='vscode-notebook-cell:/c%3A/Users/Chun-Ching/Documents/BigData/w14-Bert%20similar%20news%20recommendation/10-BERT%20similar%20news%20recommendation/20-Step2-Bert%20Django%E7%B6%B2%E9%A0%81%E6%8E%A8%E8%96%A6%E6%96%87%E7%AB%A0%E6%89%BE%E6%96%87%E7%AB%A0OK.ipynb#ch0000035?line=13'>14</a>\u001b[0m     \u001b[39mglobal\u001b[39;00m df \u001b[39m# global variable\u001b[39;00m\n\u001b[1;32m---> <a href='vscode-notebook-cell:/c%3A/Users/Chun-Ching/Documents/BigData/w14-Bert%20similar%20news%20recommendation/10-BERT%20similar%20news%20recommendation/20-Step2-Bert%20Django%E7%B6%B2%E9%A0%81%E6%8E%A8%E8%96%A6%E6%96%87%E7%AB%A0%E6%89%BE%E6%96%87%E7%AB%A0OK.ipynb#ch0000035?line=14'>15</a>\u001b[0m     df \u001b[39m=\u001b[39m pd\u001b[39m.\u001b[39;49mread_csv(\u001b[39m'\u001b[39;49m\u001b[39mapp_news_rcmd_bert/dataset/cna_news_200_preprocessed.csv\u001b[39;49m\u001b[39m'\u001b[39;49m,sep\u001b[39m=\u001b[39;49m\u001b[39m'\u001b[39;49m\u001b[39m|\u001b[39;49m\u001b[39m'\u001b[39;49m)\n\u001b[0;32m     <a href='vscode-notebook-cell:/c%3A/Users/Chun-Ching/Documents/BigData/w14-Bert%20similar%20news%20recommendation/10-BERT%20similar%20news%20recommendation/20-Step2-Bert%20Django%E7%B6%B2%E9%A0%81%E6%8E%A8%E8%96%A6%E6%96%87%E7%AB%A0%E6%89%BE%E6%96%87%E7%AB%A0OK.ipynb#ch0000035?line=15'>16</a>\u001b[0m     \u001b[39mglobal\u001b[39;00m news_sim_martrix\n\u001b[0;32m     <a href='vscode-notebook-cell:/c%3A/Users/Chun-Ching/Documents/BigData/w14-Bert%20similar%20news%20recommendation/10-BERT%20similar%20news%20recommendation/20-Step2-Bert%20Django%E7%B6%B2%E9%A0%81%E6%8E%A8%E8%96%A6%E6%96%87%E7%AB%A0%E6%89%BE%E6%96%87%E7%AB%A0OK.ipynb#ch0000035?line=16'>17</a>\u001b[0m     news_sim_martrix \u001b[39m=\u001b[39m np\u001b[39m.\u001b[39mload(\u001b[39m'\u001b[39m\u001b[39mapp_news_rcmd_bert/dataset/news_sim_martrix.npy\u001b[39m\u001b[39m'\u001b[39m)\n",
      "File \u001b[1;32mc:\\Users\\Chun-Ching\\anaconda3\\envs\\ai23\\lib\\site-packages\\pandas\\util\\_decorators.py:311\u001b[0m, in \u001b[0;36mdeprecate_nonkeyword_arguments.<locals>.decorate.<locals>.wrapper\u001b[1;34m(*args, **kwargs)\u001b[0m\n\u001b[0;32m    <a href='file:///c%3A/Users/Chun-Ching/anaconda3/envs/ai23/lib/site-packages/pandas/util/_decorators.py?line=304'>305</a>\u001b[0m \u001b[39mif\u001b[39;00m \u001b[39mlen\u001b[39m(args) \u001b[39m>\u001b[39m num_allow_args:\n\u001b[0;32m    <a href='file:///c%3A/Users/Chun-Ching/anaconda3/envs/ai23/lib/site-packages/pandas/util/_decorators.py?line=305'>306</a>\u001b[0m     warnings\u001b[39m.\u001b[39mwarn(\n\u001b[0;32m    <a href='file:///c%3A/Users/Chun-Ching/anaconda3/envs/ai23/lib/site-packages/pandas/util/_decorators.py?line=306'>307</a>\u001b[0m         msg\u001b[39m.\u001b[39mformat(arguments\u001b[39m=\u001b[39marguments),\n\u001b[0;32m    <a href='file:///c%3A/Users/Chun-Ching/anaconda3/envs/ai23/lib/site-packages/pandas/util/_decorators.py?line=307'>308</a>\u001b[0m         \u001b[39mFutureWarning\u001b[39;00m,\n\u001b[0;32m    <a href='file:///c%3A/Users/Chun-Ching/anaconda3/envs/ai23/lib/site-packages/pandas/util/_decorators.py?line=308'>309</a>\u001b[0m         stacklevel\u001b[39m=\u001b[39mstacklevel,\n\u001b[0;32m    <a href='file:///c%3A/Users/Chun-Ching/anaconda3/envs/ai23/lib/site-packages/pandas/util/_decorators.py?line=309'>310</a>\u001b[0m     )\n\u001b[1;32m--> <a href='file:///c%3A/Users/Chun-Ching/anaconda3/envs/ai23/lib/site-packages/pandas/util/_decorators.py?line=310'>311</a>\u001b[0m \u001b[39mreturn\u001b[39;00m func(\u001b[39m*\u001b[39;49margs, \u001b[39m*\u001b[39;49m\u001b[39m*\u001b[39;49mkwargs)\n",
      "File \u001b[1;32mc:\\Users\\Chun-Ching\\anaconda3\\envs\\ai23\\lib\\site-packages\\pandas\\io\\parsers\\readers.py:680\u001b[0m, in \u001b[0;36mread_csv\u001b[1;34m(filepath_or_buffer, sep, delimiter, header, names, index_col, usecols, squeeze, prefix, mangle_dupe_cols, dtype, engine, converters, true_values, false_values, skipinitialspace, skiprows, skipfooter, nrows, na_values, keep_default_na, na_filter, verbose, skip_blank_lines, parse_dates, infer_datetime_format, keep_date_col, date_parser, dayfirst, cache_dates, iterator, chunksize, compression, thousands, decimal, lineterminator, quotechar, quoting, doublequote, escapechar, comment, encoding, encoding_errors, dialect, error_bad_lines, warn_bad_lines, on_bad_lines, delim_whitespace, low_memory, memory_map, float_precision, storage_options)\u001b[0m\n\u001b[0;32m    <a href='file:///c%3A/Users/Chun-Ching/anaconda3/envs/ai23/lib/site-packages/pandas/io/parsers/readers.py?line=664'>665</a>\u001b[0m kwds_defaults \u001b[39m=\u001b[39m _refine_defaults_read(\n\u001b[0;32m    <a href='file:///c%3A/Users/Chun-Ching/anaconda3/envs/ai23/lib/site-packages/pandas/io/parsers/readers.py?line=665'>666</a>\u001b[0m     dialect,\n\u001b[0;32m    <a href='file:///c%3A/Users/Chun-Ching/anaconda3/envs/ai23/lib/site-packages/pandas/io/parsers/readers.py?line=666'>667</a>\u001b[0m     delimiter,\n\u001b[1;32m   (...)\u001b[0m\n\u001b[0;32m    <a href='file:///c%3A/Users/Chun-Ching/anaconda3/envs/ai23/lib/site-packages/pandas/io/parsers/readers.py?line=675'>676</a>\u001b[0m     defaults\u001b[39m=\u001b[39m{\u001b[39m\"\u001b[39m\u001b[39mdelimiter\u001b[39m\u001b[39m\"\u001b[39m: \u001b[39m\"\u001b[39m\u001b[39m,\u001b[39m\u001b[39m\"\u001b[39m},\n\u001b[0;32m    <a href='file:///c%3A/Users/Chun-Ching/anaconda3/envs/ai23/lib/site-packages/pandas/io/parsers/readers.py?line=676'>677</a>\u001b[0m )\n\u001b[0;32m    <a href='file:///c%3A/Users/Chun-Ching/anaconda3/envs/ai23/lib/site-packages/pandas/io/parsers/readers.py?line=677'>678</a>\u001b[0m kwds\u001b[39m.\u001b[39mupdate(kwds_defaults)\n\u001b[1;32m--> <a href='file:///c%3A/Users/Chun-Ching/anaconda3/envs/ai23/lib/site-packages/pandas/io/parsers/readers.py?line=679'>680</a>\u001b[0m \u001b[39mreturn\u001b[39;00m _read(filepath_or_buffer, kwds)\n",
      "File \u001b[1;32mc:\\Users\\Chun-Ching\\anaconda3\\envs\\ai23\\lib\\site-packages\\pandas\\io\\parsers\\readers.py:575\u001b[0m, in \u001b[0;36m_read\u001b[1;34m(filepath_or_buffer, kwds)\u001b[0m\n\u001b[0;32m    <a href='file:///c%3A/Users/Chun-Ching/anaconda3/envs/ai23/lib/site-packages/pandas/io/parsers/readers.py?line=571'>572</a>\u001b[0m _validate_names(kwds\u001b[39m.\u001b[39mget(\u001b[39m\"\u001b[39m\u001b[39mnames\u001b[39m\u001b[39m\"\u001b[39m, \u001b[39mNone\u001b[39;00m))\n\u001b[0;32m    <a href='file:///c%3A/Users/Chun-Ching/anaconda3/envs/ai23/lib/site-packages/pandas/io/parsers/readers.py?line=573'>574</a>\u001b[0m \u001b[39m# Create the parser.\u001b[39;00m\n\u001b[1;32m--> <a href='file:///c%3A/Users/Chun-Ching/anaconda3/envs/ai23/lib/site-packages/pandas/io/parsers/readers.py?line=574'>575</a>\u001b[0m parser \u001b[39m=\u001b[39m TextFileReader(filepath_or_buffer, \u001b[39m*\u001b[39;49m\u001b[39m*\u001b[39;49mkwds)\n\u001b[0;32m    <a href='file:///c%3A/Users/Chun-Ching/anaconda3/envs/ai23/lib/site-packages/pandas/io/parsers/readers.py?line=576'>577</a>\u001b[0m \u001b[39mif\u001b[39;00m chunksize \u001b[39mor\u001b[39;00m iterator:\n\u001b[0;32m    <a href='file:///c%3A/Users/Chun-Ching/anaconda3/envs/ai23/lib/site-packages/pandas/io/parsers/readers.py?line=577'>578</a>\u001b[0m     \u001b[39mreturn\u001b[39;00m parser\n",
      "File \u001b[1;32mc:\\Users\\Chun-Ching\\anaconda3\\envs\\ai23\\lib\\site-packages\\pandas\\io\\parsers\\readers.py:933\u001b[0m, in \u001b[0;36mTextFileReader.__init__\u001b[1;34m(self, f, engine, **kwds)\u001b[0m\n\u001b[0;32m    <a href='file:///c%3A/Users/Chun-Ching/anaconda3/envs/ai23/lib/site-packages/pandas/io/parsers/readers.py?line=929'>930</a>\u001b[0m     \u001b[39mself\u001b[39m\u001b[39m.\u001b[39moptions[\u001b[39m\"\u001b[39m\u001b[39mhas_index_names\u001b[39m\u001b[39m\"\u001b[39m] \u001b[39m=\u001b[39m kwds[\u001b[39m\"\u001b[39m\u001b[39mhas_index_names\u001b[39m\u001b[39m\"\u001b[39m]\n\u001b[0;32m    <a href='file:///c%3A/Users/Chun-Ching/anaconda3/envs/ai23/lib/site-packages/pandas/io/parsers/readers.py?line=931'>932</a>\u001b[0m \u001b[39mself\u001b[39m\u001b[39m.\u001b[39mhandles: IOHandles \u001b[39m|\u001b[39m \u001b[39mNone\u001b[39;00m \u001b[39m=\u001b[39m \u001b[39mNone\u001b[39;00m\n\u001b[1;32m--> <a href='file:///c%3A/Users/Chun-Ching/anaconda3/envs/ai23/lib/site-packages/pandas/io/parsers/readers.py?line=932'>933</a>\u001b[0m \u001b[39mself\u001b[39m\u001b[39m.\u001b[39m_engine \u001b[39m=\u001b[39m \u001b[39mself\u001b[39;49m\u001b[39m.\u001b[39;49m_make_engine(f, \u001b[39mself\u001b[39;49m\u001b[39m.\u001b[39;49mengine)\n",
      "File \u001b[1;32mc:\\Users\\Chun-Ching\\anaconda3\\envs\\ai23\\lib\\site-packages\\pandas\\io\\parsers\\readers.py:1217\u001b[0m, in \u001b[0;36mTextFileReader._make_engine\u001b[1;34m(self, f, engine)\u001b[0m\n\u001b[0;32m   <a href='file:///c%3A/Users/Chun-Ching/anaconda3/envs/ai23/lib/site-packages/pandas/io/parsers/readers.py?line=1212'>1213</a>\u001b[0m     mode \u001b[39m=\u001b[39m \u001b[39m\"\u001b[39m\u001b[39mrb\u001b[39m\u001b[39m\"\u001b[39m\n\u001b[0;32m   <a href='file:///c%3A/Users/Chun-Ching/anaconda3/envs/ai23/lib/site-packages/pandas/io/parsers/readers.py?line=1213'>1214</a>\u001b[0m \u001b[39m# error: No overload variant of \"get_handle\" matches argument types\u001b[39;00m\n\u001b[0;32m   <a href='file:///c%3A/Users/Chun-Ching/anaconda3/envs/ai23/lib/site-packages/pandas/io/parsers/readers.py?line=1214'>1215</a>\u001b[0m \u001b[39m# \"Union[str, PathLike[str], ReadCsvBuffer[bytes], ReadCsvBuffer[str]]\"\u001b[39;00m\n\u001b[0;32m   <a href='file:///c%3A/Users/Chun-Ching/anaconda3/envs/ai23/lib/site-packages/pandas/io/parsers/readers.py?line=1215'>1216</a>\u001b[0m \u001b[39m# , \"str\", \"bool\", \"Any\", \"Any\", \"Any\", \"Any\", \"Any\"\u001b[39;00m\n\u001b[1;32m-> <a href='file:///c%3A/Users/Chun-Ching/anaconda3/envs/ai23/lib/site-packages/pandas/io/parsers/readers.py?line=1216'>1217</a>\u001b[0m \u001b[39mself\u001b[39m\u001b[39m.\u001b[39mhandles \u001b[39m=\u001b[39m get_handle(  \u001b[39m# type: ignore[call-overload]\u001b[39;49;00m\n\u001b[0;32m   <a href='file:///c%3A/Users/Chun-Ching/anaconda3/envs/ai23/lib/site-packages/pandas/io/parsers/readers.py?line=1217'>1218</a>\u001b[0m     f,\n\u001b[0;32m   <a href='file:///c%3A/Users/Chun-Ching/anaconda3/envs/ai23/lib/site-packages/pandas/io/parsers/readers.py?line=1218'>1219</a>\u001b[0m     mode,\n\u001b[0;32m   <a href='file:///c%3A/Users/Chun-Ching/anaconda3/envs/ai23/lib/site-packages/pandas/io/parsers/readers.py?line=1219'>1220</a>\u001b[0m     encoding\u001b[39m=\u001b[39;49m\u001b[39mself\u001b[39;49m\u001b[39m.\u001b[39;49moptions\u001b[39m.\u001b[39;49mget(\u001b[39m\"\u001b[39;49m\u001b[39mencoding\u001b[39;49m\u001b[39m\"\u001b[39;49m, \u001b[39mNone\u001b[39;49;00m),\n\u001b[0;32m   <a href='file:///c%3A/Users/Chun-Ching/anaconda3/envs/ai23/lib/site-packages/pandas/io/parsers/readers.py?line=1220'>1221</a>\u001b[0m     compression\u001b[39m=\u001b[39;49m\u001b[39mself\u001b[39;49m\u001b[39m.\u001b[39;49moptions\u001b[39m.\u001b[39;49mget(\u001b[39m\"\u001b[39;49m\u001b[39mcompression\u001b[39;49m\u001b[39m\"\u001b[39;49m, \u001b[39mNone\u001b[39;49;00m),\n\u001b[0;32m   <a href='file:///c%3A/Users/Chun-Ching/anaconda3/envs/ai23/lib/site-packages/pandas/io/parsers/readers.py?line=1221'>1222</a>\u001b[0m     memory_map\u001b[39m=\u001b[39;49m\u001b[39mself\u001b[39;49m\u001b[39m.\u001b[39;49moptions\u001b[39m.\u001b[39;49mget(\u001b[39m\"\u001b[39;49m\u001b[39mmemory_map\u001b[39;49m\u001b[39m\"\u001b[39;49m, \u001b[39mFalse\u001b[39;49;00m),\n\u001b[0;32m   <a href='file:///c%3A/Users/Chun-Ching/anaconda3/envs/ai23/lib/site-packages/pandas/io/parsers/readers.py?line=1222'>1223</a>\u001b[0m     is_text\u001b[39m=\u001b[39;49mis_text,\n\u001b[0;32m   <a href='file:///c%3A/Users/Chun-Ching/anaconda3/envs/ai23/lib/site-packages/pandas/io/parsers/readers.py?line=1223'>1224</a>\u001b[0m     errors\u001b[39m=\u001b[39;49m\u001b[39mself\u001b[39;49m\u001b[39m.\u001b[39;49moptions\u001b[39m.\u001b[39;49mget(\u001b[39m\"\u001b[39;49m\u001b[39mencoding_errors\u001b[39;49m\u001b[39m\"\u001b[39;49m, \u001b[39m\"\u001b[39;49m\u001b[39mstrict\u001b[39;49m\u001b[39m\"\u001b[39;49m),\n\u001b[0;32m   <a href='file:///c%3A/Users/Chun-Ching/anaconda3/envs/ai23/lib/site-packages/pandas/io/parsers/readers.py?line=1224'>1225</a>\u001b[0m     storage_options\u001b[39m=\u001b[39;49m\u001b[39mself\u001b[39;49m\u001b[39m.\u001b[39;49moptions\u001b[39m.\u001b[39;49mget(\u001b[39m\"\u001b[39;49m\u001b[39mstorage_options\u001b[39;49m\u001b[39m\"\u001b[39;49m, \u001b[39mNone\u001b[39;49;00m),\n\u001b[0;32m   <a href='file:///c%3A/Users/Chun-Ching/anaconda3/envs/ai23/lib/site-packages/pandas/io/parsers/readers.py?line=1225'>1226</a>\u001b[0m )\n\u001b[0;32m   <a href='file:///c%3A/Users/Chun-Ching/anaconda3/envs/ai23/lib/site-packages/pandas/io/parsers/readers.py?line=1226'>1227</a>\u001b[0m \u001b[39massert\u001b[39;00m \u001b[39mself\u001b[39m\u001b[39m.\u001b[39mhandles \u001b[39mis\u001b[39;00m \u001b[39mnot\u001b[39;00m \u001b[39mNone\u001b[39;00m\n\u001b[0;32m   <a href='file:///c%3A/Users/Chun-Ching/anaconda3/envs/ai23/lib/site-packages/pandas/io/parsers/readers.py?line=1227'>1228</a>\u001b[0m f \u001b[39m=\u001b[39m \u001b[39mself\u001b[39m\u001b[39m.\u001b[39mhandles\u001b[39m.\u001b[39mhandle\n",
      "File \u001b[1;32mc:\\Users\\Chun-Ching\\anaconda3\\envs\\ai23\\lib\\site-packages\\pandas\\io\\common.py:789\u001b[0m, in \u001b[0;36mget_handle\u001b[1;34m(path_or_buf, mode, encoding, compression, memory_map, is_text, errors, storage_options)\u001b[0m\n\u001b[0;32m    <a href='file:///c%3A/Users/Chun-Ching/anaconda3/envs/ai23/lib/site-packages/pandas/io/common.py?line=783'>784</a>\u001b[0m \u001b[39melif\u001b[39;00m \u001b[39misinstance\u001b[39m(handle, \u001b[39mstr\u001b[39m):\n\u001b[0;32m    <a href='file:///c%3A/Users/Chun-Ching/anaconda3/envs/ai23/lib/site-packages/pandas/io/common.py?line=784'>785</a>\u001b[0m     \u001b[39m# Check whether the filename is to be opened in binary mode.\u001b[39;00m\n\u001b[0;32m    <a href='file:///c%3A/Users/Chun-Ching/anaconda3/envs/ai23/lib/site-packages/pandas/io/common.py?line=785'>786</a>\u001b[0m     \u001b[39m# Binary mode does not support 'encoding' and 'newline'.\u001b[39;00m\n\u001b[0;32m    <a href='file:///c%3A/Users/Chun-Ching/anaconda3/envs/ai23/lib/site-packages/pandas/io/common.py?line=786'>787</a>\u001b[0m     \u001b[39mif\u001b[39;00m ioargs\u001b[39m.\u001b[39mencoding \u001b[39mand\u001b[39;00m \u001b[39m\"\u001b[39m\u001b[39mb\u001b[39m\u001b[39m\"\u001b[39m \u001b[39mnot\u001b[39;00m \u001b[39min\u001b[39;00m ioargs\u001b[39m.\u001b[39mmode:\n\u001b[0;32m    <a href='file:///c%3A/Users/Chun-Ching/anaconda3/envs/ai23/lib/site-packages/pandas/io/common.py?line=787'>788</a>\u001b[0m         \u001b[39m# Encoding\u001b[39;00m\n\u001b[1;32m--> <a href='file:///c%3A/Users/Chun-Ching/anaconda3/envs/ai23/lib/site-packages/pandas/io/common.py?line=788'>789</a>\u001b[0m         handle \u001b[39m=\u001b[39m \u001b[39mopen\u001b[39;49m(\n\u001b[0;32m    <a href='file:///c%3A/Users/Chun-Ching/anaconda3/envs/ai23/lib/site-packages/pandas/io/common.py?line=789'>790</a>\u001b[0m             handle,\n\u001b[0;32m    <a href='file:///c%3A/Users/Chun-Ching/anaconda3/envs/ai23/lib/site-packages/pandas/io/common.py?line=790'>791</a>\u001b[0m             ioargs\u001b[39m.\u001b[39;49mmode,\n\u001b[0;32m    <a href='file:///c%3A/Users/Chun-Ching/anaconda3/envs/ai23/lib/site-packages/pandas/io/common.py?line=791'>792</a>\u001b[0m             encoding\u001b[39m=\u001b[39;49mioargs\u001b[39m.\u001b[39;49mencoding,\n\u001b[0;32m    <a href='file:///c%3A/Users/Chun-Ching/anaconda3/envs/ai23/lib/site-packages/pandas/io/common.py?line=792'>793</a>\u001b[0m             errors\u001b[39m=\u001b[39;49merrors,\n\u001b[0;32m    <a href='file:///c%3A/Users/Chun-Ching/anaconda3/envs/ai23/lib/site-packages/pandas/io/common.py?line=793'>794</a>\u001b[0m             newline\u001b[39m=\u001b[39;49m\u001b[39m\"\u001b[39;49m\u001b[39m\"\u001b[39;49m,\n\u001b[0;32m    <a href='file:///c%3A/Users/Chun-Ching/anaconda3/envs/ai23/lib/site-packages/pandas/io/common.py?line=794'>795</a>\u001b[0m         )\n\u001b[0;32m    <a href='file:///c%3A/Users/Chun-Ching/anaconda3/envs/ai23/lib/site-packages/pandas/io/common.py?line=795'>796</a>\u001b[0m     \u001b[39melse\u001b[39;00m:\n\u001b[0;32m    <a href='file:///c%3A/Users/Chun-Ching/anaconda3/envs/ai23/lib/site-packages/pandas/io/common.py?line=796'>797</a>\u001b[0m         \u001b[39m# Binary mode\u001b[39;00m\n\u001b[0;32m    <a href='file:///c%3A/Users/Chun-Ching/anaconda3/envs/ai23/lib/site-packages/pandas/io/common.py?line=797'>798</a>\u001b[0m         handle \u001b[39m=\u001b[39m \u001b[39mopen\u001b[39m(handle, ioargs\u001b[39m.\u001b[39mmode)\n",
      "\u001b[1;31mFileNotFoundError\u001b[0m: [Errno 2] No such file or directory: 'app_news_rcmd_bert/dataset/cna_news_200_preprocessed.csv'"
     ]
    }
   ],
   "source": [
    "from django.shortcuts import render\n",
    "from django.http import JsonResponse\n",
    "import pandas as pd\n",
    "from django.views.decorators.csrf import csrf_exempt\n",
    "\n",
    "from operator import itemgetter\n",
    "import numpy as np\n",
    "from datetime import datetime, timedelta\n",
    "\n",
    "\n",
    "# (2) Load news data--approach 2\n",
    "def load_df_data_v1():\n",
    "    \n",
    "    global df # global variable\n",
    "    df = pd.read_csv('app_news_rcmd_bert/dataset/cna_news_200_preprocessed.csv',sep='|')\n",
    "    global news_sim_martrix\n",
    "    news_sim_martrix = np.load('app_news_rcmd_bert/dataset/news_sim_martrix.npy')\n",
    "    global item_id2idx\n",
    "    item_id2idx={}\n",
    "\n",
    "    for id, i in df.item_id.items():\n",
    "        item_id2idx[i] = id\n",
    "\n",
    "# call load data function when starting server\n",
    "load_df_data_v1()\n",
    "\n",
    "\n",
    "#-- home page\n",
    "def home(request):\n",
    "    return render(request, \"app_news_rcmd_bert/home.html\")\n",
    "\n",
    "#-- API: input category\n",
    "@csrf_exempt\n",
    "def api_query_keyword_cate_news(request):\n",
    "    cate = request.POST['category']\n",
    "    user_keywords = request.POST['input_keywords']\n",
    "    user_keywords = user_keywords.split()\n",
    "    response = get_userkeyword_cate_latest_news(cate, user_keywords)\n",
    "    return JsonResponse({\"latest_news\": response})\n",
    "\n",
    "#-- API: input news_id, and then get news information\n",
    "@csrf_exempt\n",
    "def api_news_content(request):\n",
    "    item_id = request.POST['item_id']\n",
    "    content = get_news_content(item_id)\n",
    "    related = get_topk_similar_articles(item_id)\n",
    "    # print(related)\n",
    "    return JsonResponse({\"news_content\": content, \"related_news\": related})\n",
    "\n",
    "\n",
    "#-- Given a category, get the latest news\n",
    "def get_userkeyword_cate_latest_news(cate, user_keywords):\n",
    "    # get the last news (the latest news)\n",
    "    # df_cate = df_cate.tail(10)  # Only 10 pieces\n",
    "    # only return 10 news\n",
    "    # proceed filtering: news category\n",
    "    # and or 條件\n",
    "\n",
    "    # end date: the date of the latest record of news\n",
    "    end_date = df.date.max()    \n",
    "    # start date 昨天新聞過濾\n",
    "    days = 1     \n",
    "    start_date_delta = (datetime.strptime(end_date, '%Y-%m-%d').date() - timedelta(days=days)).strftime('%Y-%m-%d')\n",
    "    start_date_min = df.date.min()\n",
    "    # set start_date as the larger one from the start_date_delta and start_date_min 開始時間選資料最早時間與周數:兩者較晚者\n",
    "    start_date = max(start_date_delta,   start_date_min)\n",
    "\n",
    "    # (1) proceed filtering: a duration of a period of time\n",
    "    # 期間條件\n",
    "    condition = (df.date >= start_date) & (df.date <= end_date) \n",
    "    \n",
    "    # (2) proceed filtering: news category\n",
    "    # 新聞類別條件\n",
    "    # category condition\n",
    "    condition = (df.category == cate) \n",
    "    \n",
    "    # (3) query keywords condition使用者輸入關鍵字條件and\n",
    "    # 若未輸入關鍵字，結果是true，因為\"\" in text 不管text字串內容為何，運算結果為True\n",
    "    condition = condition & df.content.apply(lambda text: all(\n",
    "            (qk in text) for qk in user_keywords))  # 寫法:all()\n",
    "    \n",
    "    \n",
    "    # condiction is a list of True or False boolean value\n",
    "    df_query = df[condition]\n",
    "\n",
    "    # 隨機挑選4篇\n",
    "    if len(df_query) >= 4:\n",
    "        df_query = df_query.sample(4) # Sample only 4 pieces 若文章數不足會報錯!\n",
    "    else:\n",
    "        df_query = df_query.tail(4) # Only latest 4 pieces\n",
    "    \n",
    "    items = []\n",
    "    for i in range( len(df_query)):\n",
    "        item_id = df_query.iloc[i].item_id    \n",
    "        title = df_query.iloc[i].title\n",
    "        content = df_query.iloc[i].content\n",
    "        category = df_query.iloc[i].category\n",
    "        link = df_query.iloc[i].link\n",
    "        photo_link = df_query.iloc[i].photo_link\n",
    "        # if photo_link value is NaN, replace it with empty string \n",
    "        if pd.isna(photo_link):\n",
    "            photo_link=\"\"\n",
    "\n",
    "        news_info = {\n",
    "            \"item_id\": item_id, \n",
    "            \"category\": category, \n",
    "            \"title\": title,\n",
    "            \"content\": content, \n",
    "            \"link\": link,\n",
    "            \"photo_link\": photo_link\n",
    "        }\n",
    "\n",
    "        items.append(news_info)\n",
    "    return items\n",
    "\n",
    "# -- Given a item_id, get document information\n",
    "def get_news_content(item_id):\n",
    "    df_item = df[df.item_id == item_id]\n",
    "    title = df_item.iloc[0].title   \n",
    "    content = df_item.iloc[0].content\n",
    "    category = df_item.iloc[0].category\n",
    "    link = df_item.iloc[0].link\n",
    "    date = df_item.iloc[0].date\n",
    "    photo_link = df_item.iloc[0].photo_link\n",
    "    # if photo_link value is NaN, replace it with empty string \n",
    "    if pd.isna(photo_link):\n",
    "        photo_link=''\n",
    "\n",
    "    news_info = {\n",
    "        \"item_id\": item_id,\n",
    "        \"category\": category,\n",
    "        \"title\": title,\n",
    "        \"content\": content,\n",
    "        \"link\": link,\n",
    "        \"date\": date,\n",
    "        \"photo_link\": photo_link\n",
    "    }\n",
    "\n",
    "    return news_info\n",
    "\n",
    "#-- Given item_id, get three similar article information\n",
    "def get_topk_similar_articles(item_id):\n",
    "\n",
    "    ## Find topk similar articles\n",
    "    topk=2\n",
    "    sim_dict = {}\n",
    "    idx = item_id2idx[item_id]\n",
    "    for i, value in enumerate(news_sim_martrix[idx]):\n",
    "        sim_dict[i]=value\n",
    "    similar_items = sorted(sim_dict.items(), key= itemgetter(1), reverse=True)[1:topk+1] # topk+1 多取一筆 有包含本身這一筆\n",
    "\n",
    "    ## Get article information to display\n",
    "    items = []\n",
    "    for idx, score in similar_items:\n",
    "        item = df.iloc[idx]\n",
    "        item_id = item.item_id\n",
    "        title = item.title\n",
    "        content = item.content\n",
    "        category = item.category\n",
    "        link = item.link\n",
    "        photo_link = item.photo_link\n",
    "        # if photo_link value is NaN, replace it with empty string \n",
    "        if pd.isna(photo_link):\n",
    "            photo_link=''\n",
    "\n",
    "        score = round(float(score), 2)\n",
    "        news_info = {\n",
    "            \"category\": category, \n",
    "            \"title\": title, \n",
    "            \"link\": link,\n",
    "            \"id\": item_id, \n",
    "            'score': score, \n",
    "            \"photo_link\": photo_link\n",
    "            }\n",
    "        items.append(news_info)\n",
    "\n",
    "    return items\n",
    "\n",
    "print(\"app Bert based news recommendation was loaded!\")\n"
   ]
  }
 ],
 "metadata": {
  "interpreter": {
   "hash": "2524f329b5609d74e66f331aeb181c6a96d56433d7d7e2bf478ea5bf8e2b1439"
  },
  "kernelspec": {
   "display_name": "Python 3.8.12 ('ai23')",
   "language": "python",
   "name": "python3"
  },
  "language_info": {
   "codemirror_mode": {
    "name": "ipython",
    "version": 3
   },
   "file_extension": ".py",
   "mimetype": "text/x-python",
   "name": "python",
   "nbconvert_exporter": "python",
   "pygments_lexer": "ipython3",
   "version": "3.8.12"
  },
  "toc": {
   "base_numbering": 1,
   "nav_menu": {},
   "number_sections": true,
   "sideBar": true,
   "skip_h1_title": false,
   "title_cell": "Table of Contents",
   "title_sidebar": "Contents",
   "toc_cell": false,
   "toc_position": {},
   "toc_section_display": true,
   "toc_window_display": true
  }
 },
 "nbformat": 4,
 "nbformat_minor": 4
}
