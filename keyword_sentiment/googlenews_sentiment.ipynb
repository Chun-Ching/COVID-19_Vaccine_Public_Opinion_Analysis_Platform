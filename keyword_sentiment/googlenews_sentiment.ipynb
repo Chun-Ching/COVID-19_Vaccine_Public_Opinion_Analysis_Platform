{
 "cells": [
  {
   "cell_type": "code",
   "execution_count": 1,
   "metadata": {},
   "outputs": [],
   "source": [
    "import pandas as pd"
   ]
  },
  {
   "cell_type": "code",
   "execution_count": 2,
   "metadata": {},
   "outputs": [],
   "source": [
    "df = pd.read_csv('vaccine_preprocessed.csv',sep='|')"
   ]
  },
  {
   "cell_type": "code",
   "execution_count": 3,
   "metadata": {},
   "outputs": [
    {
     "data": {
      "text/html": [
       "<div>\n",
       "<style scoped>\n",
       "    .dataframe tbody tr th:only-of-type {\n",
       "        vertical-align: middle;\n",
       "    }\n",
       "\n",
       "    .dataframe tbody tr th {\n",
       "        vertical-align: top;\n",
       "    }\n",
       "\n",
       "    .dataframe thead th {\n",
       "        text-align: right;\n",
       "    }\n",
       "</style>\n",
       "<table border=\"1\" class=\"dataframe\">\n",
       "  <thead>\n",
       "    <tr style=\"text-align: right;\">\n",
       "      <th></th>\n",
       "      <th>categories</th>\n",
       "      <th>titles</th>\n",
       "      <th>contents</th>\n",
       "      <th>sentiment</th>\n",
       "      <th>summary</th>\n",
       "      <th>top_key_freq</th>\n",
       "      <th>tokens</th>\n",
       "      <th>tokens_v2</th>\n",
       "      <th>entities</th>\n",
       "      <th>token_pos</th>\n",
       "      <th>urls</th>\n",
       "    </tr>\n",
       "  </thead>\n",
       "  <tbody>\n",
       "    <tr>\n",
       "      <th>0</th>\n",
       "      <td>AZ</td>\n",
       "      <td>澎湖確診數升 兒童疫苗接種率已逾7成</td>\n",
       "      <td>澎湖COVID-19（2019冠狀病毒疾病）確診數攀升，澎湖縣政府今天公布新增182例，還有...</td>\n",
       "      <td>0.0</td>\n",
       "      <td>['澎湖5至11歲兒童疫苗接種種率已逾7成', '澎湖縣政府今天公布新增182例確診案例',...</td>\n",
       "      <td>[('澎湖', 5), ('疫苗', 5), ('接種', 4), ('確診', 3), (...</td>\n",
       "      <td>['澎湖', 'COVID-19', '（', '2019', '冠狀', '病毒', '疾...</td>\n",
       "      <td>['澎湖', '冠狀', '病毒', '疾病', '確診數', '澎湖縣', '政府', '...</td>\n",
       "      <td>[NerToken(word='澎湖', ner='GPE', idx=(0, 2)), N...</td>\n",
       "      <td>[('澎湖', 'Nc'), ('COVID-19', 'FW'), ('（', 'PARE...</td>\n",
       "      <td>https://news.google.com/articles/CBMiMmh0dHBzO...</td>\n",
       "    </tr>\n",
       "  </tbody>\n",
       "</table>\n",
       "</div>"
      ],
      "text/plain": [
       "  categories              titles  \\\n",
       "0         AZ  澎湖確診數升 兒童疫苗接種率已逾7成   \n",
       "\n",
       "                                            contents  sentiment  \\\n",
       "0  澎湖COVID-19（2019冠狀病毒疾病）確診數攀升，澎湖縣政府今天公布新增182例，還有...        0.0   \n",
       "\n",
       "                                             summary  \\\n",
       "0  ['澎湖5至11歲兒童疫苗接種種率已逾7成', '澎湖縣政府今天公布新增182例確診案例',...   \n",
       "\n",
       "                                        top_key_freq  \\\n",
       "0  [('澎湖', 5), ('疫苗', 5), ('接種', 4), ('確診', 3), (...   \n",
       "\n",
       "                                              tokens  \\\n",
       "0  ['澎湖', 'COVID-19', '（', '2019', '冠狀', '病毒', '疾...   \n",
       "\n",
       "                                           tokens_v2  \\\n",
       "0  ['澎湖', '冠狀', '病毒', '疾病', '確診數', '澎湖縣', '政府', '...   \n",
       "\n",
       "                                            entities  \\\n",
       "0  [NerToken(word='澎湖', ner='GPE', idx=(0, 2)), N...   \n",
       "\n",
       "                                           token_pos  \\\n",
       "0  [('澎湖', 'Nc'), ('COVID-19', 'FW'), ('（', 'PARE...   \n",
       "\n",
       "                                                urls  \n",
       "0  https://news.google.com/articles/CBMiMmh0dHBzO...  "
      ]
     },
     "execution_count": 3,
     "metadata": {},
     "output_type": "execute_result"
    }
   ],
   "source": [
    "df.head(1)"
   ]
  },
  {
   "cell_type": "code",
   "execution_count": 5,
   "metadata": {},
   "outputs": [],
   "source": [
    "def filter_df_via_tokens(query_keywords, cond, cate):\n",
    "    \n",
    "    # proceed filtering\n",
    "    if (cate == \"全部\"):\n",
    "        condition = (df.categories == 'AZ') | (df.categories == 'BNT') | (df.categories == '莫德納') | (df.categories == '高端')# \"全部\"類別不必過濾新聞種類\n",
    "    else:\n",
    "        # category新聞類別條件\n",
    "        condition = df.categories == cate\n",
    "\n",
    "    if (cond == 'and'):\n",
    "        # query keywords condition使用者輸入關鍵字條件and\n",
    "        condition = condition & df.tokens_v2.apply(lambda text: all((qk in text) for qk in query_keywords)) #寫法:all()\n",
    "    elif (cond == 'or'):\n",
    "        # query keywords condition使用者輸入關鍵字條件\n",
    "        condition = condition & df.tokens_v2.apply(lambda text: any((qk in text) for qk in query_keywords)) #寫法:any()\n",
    "    # condiction is a list of True or False boolean value\n",
    "    df_query = df[condition]\n",
    "\n",
    "    return df_query\n"
   ]
  },
  {
   "cell_type": "code",
   "execution_count": 8,
   "metadata": {},
   "outputs": [],
   "source": [
    "def filter_df_via_content(query_keywords, cond, cate):\n",
    "    \n",
    "    # proceed filtering\n",
    "    if (cate == \"全部\"):\n",
    "        condition = (df.categories == 'AZ') | (df.categories == 'BNT') | (df.categories == '莫德納') | (df.categories == '高端')# \"全部\"類別不必過濾新聞種類\n",
    "    else:\n",
    "        # category新聞類別條件\n",
    "        condition = df.categories == cate\n",
    "\n",
    "    if (cond == 'and'):\n",
    "        # query keywords condition使用者輸入關鍵字條件and\n",
    "        condition = condition & df.contents.apply(lambda text: all((qk in text) for qk in query_keywords)) #寫法:all()\n",
    "    elif (cond == 'or'):\n",
    "        # query keywords condition使用者輸入關鍵字條件\n",
    "        condition = condition & df.contents.apply(lambda text: any((qk in text) for qk in query_keywords)) #寫法:any()\n",
    "    # condiction is a list of True or False boolean value\n",
    "    df_query = df[condition]\n",
    "\n",
    "    return df_query"
   ]
  },
  {
   "cell_type": "code",
   "execution_count": 7,
   "metadata": {},
   "outputs": [],
   "source": [
    "# sentimental polarity score\n",
    "def get_article_sentiment(df_query):\n",
    "    # df_query = df[df['tokens'].str.contains(query_key)]\n",
    "    sentiCount = {'pos': 0, 'neg': 0, 'obj': 0}\n",
    "    sentiPercnt = {'pos': 0, 'neg': 0, 'obj': 0}\n",
    "    numberOfArticle = len(df_query)\n",
    "    for senti in df_query.sentiment:\n",
    "        # 判斷文章的情緒極性\n",
    "        if senti >= 0.6: #大於0.6為正向 \n",
    "            sentiCount['pos'] += 1\n",
    "        elif senti <= 0.4: #小於0.4為負向\n",
    "            sentiCount['neg'] += 1\n",
    "        else:\n",
    "            sentiCount['obj'] += 1 #介於中間為中立\n",
    "    for polar in sentiCount :\n",
    "        try:\n",
    "            sentiPercnt[polar]=int(sentiCount[polar]/numberOfArticle*100)\n",
    "            # sentiPercnt[polar]=round(sentiCount[polar]/numberOfArticle,2) # 0.75\n",
    "        except:\n",
    "            sentiPercnt[polar] = 0 # 若分母 numberOfArticle=0會報錯\n",
    "    return sentiCount, sentiPercnt"
   ]
  },
  {
   "cell_type": "code",
   "execution_count": 9,
   "metadata": {},
   "outputs": [],
   "source": [
    "query_keywords = ['陳時中']\n",
    "cond='or'\n",
    "cate='全部'\n",
    "df_query = filter_df_via_content(query_keywords, cond, cate)\n",
    "sentiCount, sentiPercnt = get_article_sentiment(df_query)"
   ]
  },
  {
   "cell_type": "code",
   "execution_count": 10,
   "metadata": {},
   "outputs": [
    {
     "data": {
      "text/plain": [
       "{'pos': 3, 'neg': 226, 'obj': 1}"
      ]
     },
     "execution_count": 10,
     "metadata": {},
     "output_type": "execute_result"
    }
   ],
   "source": [
    "sentiCount"
   ]
  },
  {
   "cell_type": "code",
   "execution_count": 11,
   "metadata": {},
   "outputs": [
    {
     "data": {
      "text/plain": [
       "{'pos': 1, 'neg': 98, 'obj': 0}"
      ]
     },
     "execution_count": 11,
     "metadata": {},
     "output_type": "execute_result"
    }
   ],
   "source": [
    "sentiPercnt"
   ]
  },
  {
   "cell_type": "code",
   "execution_count": 12,
   "metadata": {},
   "outputs": [
    {
     "data": {
      "text/plain": [
       "'正向:1%, 中立:0%, 負向:98%'"
      ]
     },
     "execution_count": 12,
     "metadata": {},
     "output_type": "execute_result"
    }
   ],
   "source": [
    "'正向:{}%, 中立:{}%, 負向:{}%'.format(str(sentiPercnt['pos']), str(sentiPercnt['obj']),str(sentiPercnt['neg']))"
   ]
  },
  {
   "cell_type": "code",
   "execution_count": 13,
   "metadata": {},
   "outputs": [
    {
     "data": {
      "text/plain": [
       "[1, 0, 98]"
      ]
     },
     "execution_count": 13,
     "metadata": {},
     "output_type": "execute_result"
    }
   ],
   "source": [
    "[sentiPercnt[p] for p in ['pos', 'obj', 'neg']]"
   ]
  },
  {
   "cell_type": "code",
   "execution_count": null,
   "metadata": {},
   "outputs": [],
   "source": []
  },
  {
   "cell_type": "code",
   "execution_count": 18,
   "metadata": {},
   "outputs": [],
   "source": [
    "def prepare_for_response(query_keywords, cond, cate):\n",
    "\n",
    "    # Proceed filtering\n",
    "    df_query = filter_df_via_content(query_keywords, cond, cate)\n",
    "    \n",
    "    sentiCount, sentiPercnt = get_article_sentiment(df_query)\n",
    "\n",
    "    response = {\n",
    "        'sentiCount': sentiCount,\n",
    "    }\n",
    "    return response"
   ]
  },
  {
   "cell_type": "code",
   "execution_count": 19,
   "metadata": {},
   "outputs": [
    {
     "data": {
      "text/plain": [
       "{'sentiCount': {'pos': 3, 'neg': 226, 'obj': 1}}"
      ]
     },
     "execution_count": 19,
     "metadata": {},
     "output_type": "execute_result"
    }
   ],
   "source": [
    "query_keywords = ['陳時中']\n",
    "cond='or'\n",
    "cate='全部'\n",
    "prepare_for_response(query_keywords, cond, cate)"
   ]
  },
  {
   "cell_type": "code",
   "execution_count": null,
   "metadata": {},
   "outputs": [],
   "source": []
  },
  {
   "cell_type": "markdown",
   "metadata": {},
   "source": [
    "## Djnago function"
   ]
  },
  {
   "cell_type": "code",
   "execution_count": null,
   "metadata": {},
   "outputs": [],
   "source": [
    "from django.http import JsonResponse\n",
    "from django.shortcuts import render\n",
    "import pandas as pd\n",
    "from datetime import datetime, timedelta\n",
    "from django.views.decorators.csrf import csrf_exempt\n",
    "\n",
    "\n",
    "# (1) Load news data--approach 1 直接指定某個csv檔案\n",
    "def load_df_data():\n",
    "    # global variable\n",
    "    global  df\n",
    "    df = pd.read_csv('app_top_keyword_association/dataset/vaccine_preprocessed.csv', sep='|')\n",
    "\n",
    "load_df_data()\n",
    "\n",
    "def home(request):\n",
    "    return render(request, 'app_user_keyword_sentiment/home.html')\n",
    "\n",
    "# GET: csrf_exempt is not necessary\n",
    "# POST: csrf_exempt should be used\n",
    "@csrf_exempt\n",
    "def api_get_userkey_sentiment(request):\n",
    "\n",
    "    userkey = request.POST['userkey']\n",
    "    cate = request.POST['cate']\n",
    "    cond = request.POST['cond']\n",
    "\n",
    "    query_keywords = userkey.split()\n",
    "    response = prepare_for_response(query_keywords, cond, cate)\n",
    "  \n",
    "    return JsonResponse(response)\n",
    "\n",
    "def prepare_for_response(query_keywords, cond, cate, weeks):\n",
    "\n",
    "    # Proceed filtering\n",
    "    df_query = filter_df_via_content(query_keywords, cond, cate)\n",
    "    \n",
    "    sentiCount, sentiPercnt = get_article_sentiment(df_query)\n",
    "\n",
    "    response = {\n",
    "        'sentiCount': sentiCount,\n",
    "    }\n",
    "    return response\n",
    "\n",
    "def get_article_sentiment(df_query):\n",
    "    sentiCount = {'Positive': 0, 'Negative': 0, 'Neutral': 0}\n",
    "    sentiPercnt = {'Positive': 0, 'Negative': 0, 'Neutral': 0}\n",
    "    numberOfArticle = len(df_query)\n",
    "    for senti in df_query.sentiment:\n",
    "        # determine sentimental polarity\n",
    "        if float(senti) >= 0.6:\n",
    "            sentiCount['Positive'] += 1\n",
    "        elif float(senti) <= 0.4:\n",
    "            sentiCount['Negative'] += 1\n",
    "        else:\n",
    "            sentiCount['Neutral'] += 1\n",
    "    for polar in sentiCount :\n",
    "        try:\n",
    "            sentiPercnt[polar]=int(sentiCount[polar]/numberOfArticle*100)\n",
    "        except:\n",
    "            sentiPercnt[polar] = 0 # 若分母 numberOfArticle=0會報錯\n",
    "    return sentiCount, sentiPercnt\n",
    "\n",
    "\n",
    "# Searching keywords from \"content\" column\n",
    "# Here this function uses df.content column, while filter_dataFrame() uses df.tokens_v2\n",
    "def filter_df_via_content(query_keywords, cond, cate):\n",
    "\n",
    "    # proceed filtering\n",
    "    if (cate == \"全部\"):\n",
    "        condition = (df.categories == 'AZ') | (df.categories == 'BNT') | (df.categories == '莫德納') | (df.categories == '高端')# \"全部\"類別不必過濾新聞種類\n",
    "    else:\n",
    "        # category新聞類別條件\n",
    "        condition = df.categories == cate\n",
    "\n",
    "    if (cond == 'and'):\n",
    "        # query keywords condition使用者輸入關鍵字條件and\n",
    "        condition = condition & df.contents.apply(lambda text: all((qk in text) for qk in query_keywords)) #寫法:all()\n",
    "    elif (cond == 'or'):\n",
    "        # query keywords condition使用者輸入關鍵字條件\n",
    "        condition = condition & df.contents.apply(lambda text: any((qk in text) for qk in query_keywords)) #寫法:any()\n",
    "    # condiction is a list of True or False boolean value\n",
    "    df_query = df[condition]\n",
    "\n",
    "    return df_query\n",
    "\n",
    "\n",
    "print(\"app_userkey_sentiment was loaded!\")\n",
    "\n",
    "\n"
   ]
  }
 ],
 "metadata": {
  "kernelspec": {
   "display_name": "Python 3.8.12 ('ai23')",
   "language": "python",
   "name": "python3"
  },
  "language_info": {
   "codemirror_mode": {
    "name": "ipython",
    "version": 3
   },
   "file_extension": ".py",
   "mimetype": "text/x-python",
   "name": "python",
   "nbconvert_exporter": "python",
   "pygments_lexer": "ipython3",
   "version": "3.8.12"
  },
  "orig_nbformat": 4,
  "vscode": {
   "interpreter": {
    "hash": "2524f329b5609d74e66f331aeb181c6a96d56433d7d7e2bf478ea5bf8e2b1439"
   }
  }
 },
 "nbformat": 4,
 "nbformat_minor": 2
}
