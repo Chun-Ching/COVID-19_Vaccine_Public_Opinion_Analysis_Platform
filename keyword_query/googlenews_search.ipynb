{
 "cells": [
  {
   "cell_type": "code",
   "execution_count": 1,
   "metadata": {},
   "outputs": [],
   "source": [
    "import pandas as pd"
   ]
  },
  {
   "cell_type": "code",
   "execution_count": 2,
   "metadata": {},
   "outputs": [],
   "source": [
    "df = pd.read_csv('vaccine_preprocessed.csv',sep='|')"
   ]
  },
  {
   "cell_type": "code",
   "execution_count": 3,
   "metadata": {},
   "outputs": [
    {
     "data": {
      "text/html": [
       "<div>\n",
       "<style scoped>\n",
       "    .dataframe tbody tr th:only-of-type {\n",
       "        vertical-align: middle;\n",
       "    }\n",
       "\n",
       "    .dataframe tbody tr th {\n",
       "        vertical-align: top;\n",
       "    }\n",
       "\n",
       "    .dataframe thead th {\n",
       "        text-align: right;\n",
       "    }\n",
       "</style>\n",
       "<table border=\"1\" class=\"dataframe\">\n",
       "  <thead>\n",
       "    <tr style=\"text-align: right;\">\n",
       "      <th></th>\n",
       "      <th>categories</th>\n",
       "      <th>titles</th>\n",
       "      <th>contents</th>\n",
       "      <th>sentiment</th>\n",
       "      <th>summary</th>\n",
       "      <th>top_key_freq</th>\n",
       "      <th>tokens</th>\n",
       "      <th>tokens_v2</th>\n",
       "      <th>entities</th>\n",
       "      <th>token_pos</th>\n",
       "      <th>urls</th>\n",
       "    </tr>\n",
       "  </thead>\n",
       "  <tbody>\n",
       "    <tr>\n",
       "      <th>0</th>\n",
       "      <td>AZ</td>\n",
       "      <td>澎湖確診數升 兒童疫苗接種率已逾7成</td>\n",
       "      <td>澎湖COVID-19（2019冠狀病毒疾病）確診數攀升，澎湖縣政府今天公布新增182例，還有...</td>\n",
       "      <td>0.0</td>\n",
       "      <td>['澎湖5至11歲兒童疫苗接種種率已逾7成', '澎湖縣政府今天公布新增182例確診案例',...</td>\n",
       "      <td>[('澎湖', 5), ('疫苗', 5), ('接種', 4), ('確診', 3), (...</td>\n",
       "      <td>['澎湖', 'COVID-19', '（', '2019', '冠狀', '病毒', '疾...</td>\n",
       "      <td>['澎湖', '冠狀', '病毒', '疾病', '確診數', '澎湖縣', '政府', '...</td>\n",
       "      <td>[NerToken(word='澎湖', ner='GPE', idx=(0, 2)), N...</td>\n",
       "      <td>[('澎湖', 'Nc'), ('COVID-19', 'FW'), ('（', 'PARE...</td>\n",
       "      <td>https://news.google.com/articles/CBMiMmh0dHBzO...</td>\n",
       "    </tr>\n",
       "  </tbody>\n",
       "</table>\n",
       "</div>"
      ],
      "text/plain": [
       "  categories              titles  \\\n",
       "0         AZ  澎湖確診數升 兒童疫苗接種率已逾7成   \n",
       "\n",
       "                                            contents  sentiment  \\\n",
       "0  澎湖COVID-19（2019冠狀病毒疾病）確診數攀升，澎湖縣政府今天公布新增182例，還有...        0.0   \n",
       "\n",
       "                                             summary  \\\n",
       "0  ['澎湖5至11歲兒童疫苗接種種率已逾7成', '澎湖縣政府今天公布新增182例確診案例',...   \n",
       "\n",
       "                                        top_key_freq  \\\n",
       "0  [('澎湖', 5), ('疫苗', 5), ('接種', 4), ('確診', 3), (...   \n",
       "\n",
       "                                              tokens  \\\n",
       "0  ['澎湖', 'COVID-19', '（', '2019', '冠狀', '病毒', '疾...   \n",
       "\n",
       "                                           tokens_v2  \\\n",
       "0  ['澎湖', '冠狀', '病毒', '疾病', '確診數', '澎湖縣', '政府', '...   \n",
       "\n",
       "                                            entities  \\\n",
       "0  [NerToken(word='澎湖', ner='GPE', idx=(0, 2)), N...   \n",
       "\n",
       "                                           token_pos  \\\n",
       "0  [('澎湖', 'Nc'), ('COVID-19', 'FW'), ('（', 'PARE...   \n",
       "\n",
       "                                                urls  \n",
       "0  https://news.google.com/articles/CBMiMmh0dHBzO...  "
      ]
     },
     "execution_count": 3,
     "metadata": {},
     "output_type": "execute_result"
    }
   ],
   "source": [
    "df.head(1)"
   ]
  },
  {
   "cell_type": "code",
   "execution_count": 4,
   "metadata": {},
   "outputs": [
    {
     "data": {
      "text/plain": [
       "0      ['澎湖', '冠狀', '病毒', '疾病', '確診數', '澎湖縣', '政府', '...\n",
       "1      ['衛福部', '接種', '救濟', '審議', '小組', '結果', '台北市', '...\n",
       "2      ['日本', '英國', '阿斯特捷利康', '疫苗', '日本', '接種', '疫苗',...\n",
       "3      ['疫苗', '研發', '團隊', '領導人', '牛津', '大學', '教授', '吉...\n",
       "4      ['指揮', '中心', '疫苗', '線上', '預約', '開放', '間隔', '民眾...\n",
       "                             ...                        \n",
       "791    ['美國', '協會', '臉書', '發文', '美國', '莫德納', '疫苗', '台...\n",
       "792    ['公所', '人員', '里長', '在場', '民眾', '陳夢茹', '攝）', '桃...\n",
       "793    ['南韓', '派出', '代表團', '新冠', '肺炎', '疫苗廠', '莫德納', ...\n",
       "794    ['國際', '出貨', '備料', '疫苗', '辦理', '現金', '增資', '發行...\n",
       "795    ['陳時中', '確診', '身體', '狀況', '曝\\u3000', '陳宗彥', '指...\n",
       "Name: tokens_v2, Length: 796, dtype: object"
      ]
     },
     "execution_count": 4,
     "metadata": {},
     "output_type": "execute_result"
    }
   ],
   "source": [
    "df['tokens_v2']"
   ]
  },
  {
   "cell_type": "code",
   "execution_count": 5,
   "metadata": {},
   "outputs": [
    {
     "data": {
      "text/plain": [
       "pandas.core.series.Series"
      ]
     },
     "execution_count": 5,
     "metadata": {},
     "output_type": "execute_result"
    }
   ],
   "source": [
    "type(df['tokens_v2'])"
   ]
  },
  {
   "cell_type": "code",
   "execution_count": 6,
   "metadata": {},
   "outputs": [
    {
     "data": {
      "text/plain": [
       "str"
      ]
     },
     "execution_count": 6,
     "metadata": {},
     "output_type": "execute_result"
    }
   ],
   "source": [
    "type(df['tokens_v2'][0])"
   ]
  },
  {
   "cell_type": "code",
   "execution_count": 7,
   "metadata": {},
   "outputs": [
    {
     "data": {
      "text/plain": [
       "<pandas.core.strings.accessor.StringMethods at 0x1d26cf63af0>"
      ]
     },
     "execution_count": 7,
     "metadata": {},
     "output_type": "execute_result"
    }
   ],
   "source": [
    "df['tokens_v2'].str"
   ]
  },
  {
   "cell_type": "code",
   "execution_count": 8,
   "metadata": {},
   "outputs": [
    {
     "data": {
      "text/plain": [
       "0      False\n",
       "1      False\n",
       "2      False\n",
       "3      False\n",
       "4      False\n",
       "       ...  \n",
       "791    False\n",
       "792    False\n",
       "793    False\n",
       "794    False\n",
       "795    False\n",
       "Name: tokens_v2, Length: 796, dtype: bool"
      ]
     },
     "execution_count": 8,
     "metadata": {},
     "output_type": "execute_result"
    }
   ],
   "source": [
    "df['tokens_v2'].str.contains(\"烏克蘭\")"
   ]
  },
  {
   "cell_type": "code",
   "execution_count": 9,
   "metadata": {},
   "outputs": [
    {
     "data": {
      "text/plain": [
       "6"
      ]
     },
     "execution_count": 9,
     "metadata": {},
     "output_type": "execute_result"
    }
   ],
   "source": [
    "len(df[df.tokens_v2.str.contains('烏克蘭')])"
   ]
  },
  {
   "cell_type": "code",
   "execution_count": 10,
   "metadata": {},
   "outputs": [
    {
     "data": {
      "text/plain": [
       "0      False\n",
       "1       True\n",
       "2      False\n",
       "3      False\n",
       "4      False\n",
       "       ...  \n",
       "791     True\n",
       "792    False\n",
       "793     True\n",
       "794    False\n",
       "795    False\n",
       "Name: tokens_v2, Length: 796, dtype: bool"
      ]
     },
     "execution_count": 10,
     "metadata": {},
     "output_type": "execute_result"
    }
   ],
   "source": [
    "df['tokens_v2'].str.contains('台灣')"
   ]
  },
  {
   "cell_type": "code",
   "execution_count": 11,
   "metadata": {},
   "outputs": [
    {
     "data": {
      "text/plain": [
       "259"
      ]
     },
     "execution_count": 11,
     "metadata": {},
     "output_type": "execute_result"
    }
   ],
   "source": [
    "len(df[df['tokens_v2'].str.contains('台灣')])"
   ]
  },
  {
   "cell_type": "code",
   "execution_count": 12,
   "metadata": {},
   "outputs": [
    {
     "data": {
      "text/html": [
       "<div>\n",
       "<style scoped>\n",
       "    .dataframe tbody tr th:only-of-type {\n",
       "        vertical-align: middle;\n",
       "    }\n",
       "\n",
       "    .dataframe tbody tr th {\n",
       "        vertical-align: top;\n",
       "    }\n",
       "\n",
       "    .dataframe thead th {\n",
       "        text-align: right;\n",
       "    }\n",
       "</style>\n",
       "<table border=\"1\" class=\"dataframe\">\n",
       "  <thead>\n",
       "    <tr style=\"text-align: right;\">\n",
       "      <th></th>\n",
       "      <th>categories</th>\n",
       "      <th>titles</th>\n",
       "      <th>contents</th>\n",
       "      <th>sentiment</th>\n",
       "      <th>summary</th>\n",
       "      <th>top_key_freq</th>\n",
       "      <th>tokens</th>\n",
       "      <th>tokens_v2</th>\n",
       "      <th>entities</th>\n",
       "      <th>token_pos</th>\n",
       "      <th>urls</th>\n",
       "    </tr>\n",
       "  </thead>\n",
       "  <tbody>\n",
       "    <tr>\n",
       "      <th>1</th>\n",
       "      <td>AZ</td>\n",
       "      <td>北市50多歲女打AZ疫苗後死亡 獲救濟金600萬史上最高</td>\n",
       "      <td>衛福部預防接種受害救濟審議小組公布最新結果，台北市50多歲女性接種AZ疫苗後血栓併血小板低下...</td>\n",
       "      <td>0.0</td>\n",
       "      <td>['金額介於6000元至600萬元、1案BNT疫苗救濟金額為2.5萬元', '台北市50多歲...</td>\n",
       "      <td>[('疫苗', 18), ('接種', 17), ('救濟', 16), ('個案', 12...</td>\n",
       "      <td>['衛福部', '預防', '接種', '受害', '救濟', '審議', '小組', '公...</td>\n",
       "      <td>['衛福部', '接種', '救濟', '審議', '小組', '結果', '台北市', '...</td>\n",
       "      <td>[NerToken(word='衛福部', ner='ORG', idx=(0, 3)), ...</td>\n",
       "      <td>[('衛福部', 'Nc'), ('預防', 'VE'), ('接種', 'VC'), ('...</td>\n",
       "      <td>https://news.google.com/articles/CBMiMmh0dHBzO...</td>\n",
       "    </tr>\n",
       "  </tbody>\n",
       "</table>\n",
       "</div>"
      ],
      "text/plain": [
       "  categories                        titles  \\\n",
       "1         AZ  北市50多歲女打AZ疫苗後死亡 獲救濟金600萬史上最高   \n",
       "\n",
       "                                            contents  sentiment  \\\n",
       "1  衛福部預防接種受害救濟審議小組公布最新結果，台北市50多歲女性接種AZ疫苗後血栓併血小板低下...        0.0   \n",
       "\n",
       "                                             summary  \\\n",
       "1  ['金額介於6000元至600萬元、1案BNT疫苗救濟金額為2.5萬元', '台北市50多歲...   \n",
       "\n",
       "                                        top_key_freq  \\\n",
       "1  [('疫苗', 18), ('接種', 17), ('救濟', 16), ('個案', 12...   \n",
       "\n",
       "                                              tokens  \\\n",
       "1  ['衛福部', '預防', '接種', '受害', '救濟', '審議', '小組', '公...   \n",
       "\n",
       "                                           tokens_v2  \\\n",
       "1  ['衛福部', '接種', '救濟', '審議', '小組', '結果', '台北市', '...   \n",
       "\n",
       "                                            entities  \\\n",
       "1  [NerToken(word='衛福部', ner='ORG', idx=(0, 3)), ...   \n",
       "\n",
       "                                           token_pos  \\\n",
       "1  [('衛福部', 'Nc'), ('預防', 'VE'), ('接種', 'VC'), ('...   \n",
       "\n",
       "                                                urls  \n",
       "1  https://news.google.com/articles/CBMiMmh0dHBzO...  "
      ]
     },
     "execution_count": 12,
     "metadata": {},
     "output_type": "execute_result"
    }
   ],
   "source": [
    "df[df['tokens_v2'].str.contains('台灣')].head(1)"
   ]
  },
  {
   "cell_type": "code",
   "execution_count": 13,
   "metadata": {},
   "outputs": [],
   "source": [
    "# Use query() to get the same result\n",
    "df_query = df.query(\"tokens_v2.str.contains('台灣')\")"
   ]
  },
  {
   "cell_type": "code",
   "execution_count": 14,
   "metadata": {},
   "outputs": [
    {
     "data": {
      "text/plain": [
       "259"
      ]
     },
     "execution_count": 14,
     "metadata": {},
     "output_type": "execute_result"
    }
   ],
   "source": [
    "len(df_query)"
   ]
  },
  {
   "cell_type": "code",
   "execution_count": null,
   "metadata": {},
   "outputs": [],
   "source": []
  },
  {
   "cell_type": "code",
   "execution_count": 15,
   "metadata": {},
   "outputs": [
    {
     "data": {
      "text/plain": [
       "262"
      ]
     },
     "execution_count": 15,
     "metadata": {},
     "output_type": "execute_result"
    }
   ],
   "source": [
    "# approach 1\n",
    "df_query = df[df['tokens_v2'].str.contains('烏克蘭|台灣')]\n",
    "len(df_query)"
   ]
  },
  {
   "cell_type": "code",
   "execution_count": 16,
   "metadata": {},
   "outputs": [
    {
     "data": {
      "text/plain": [
       "262"
      ]
     },
     "execution_count": 16,
     "metadata": {},
     "output_type": "execute_result"
    }
   ],
   "source": [
    "# approach 2\n",
    "queryKey=['烏克蘭','台灣']\n",
    "# This is more flexible.\n",
    "df_query = df[df['tokens_v2'].str.contains('|'.join(queryKey))]\n",
    "len(df_query)"
   ]
  },
  {
   "cell_type": "code",
   "execution_count": 17,
   "metadata": {},
   "outputs": [
    {
     "data": {
      "text/plain": [
       "262"
      ]
     },
     "execution_count": 17,
     "metadata": {},
     "output_type": "execute_result"
    }
   ],
   "source": [
    "# approach 3\n",
    "df_query = df[(df.tokens_v2.str.contains('烏克蘭')) | (df.tokens_v2.str.contains('台灣'))]\n",
    "len(df_query)"
   ]
  },
  {
   "cell_type": "code",
   "execution_count": 18,
   "metadata": {},
   "outputs": [
    {
     "data": {
      "text/plain": [
       "'(?=.*烏克蘭)|(?=.*台灣)'"
      ]
     },
     "execution_count": 18,
     "metadata": {},
     "output_type": "execute_result"
    }
   ],
   "source": [
    "queryKey=['烏克蘭','台灣']\n",
    "condstring = '|'.join('(?=.*{})'.format(word) for word in queryKey)\n",
    "condstring"
   ]
  },
  {
   "cell_type": "code",
   "execution_count": 19,
   "metadata": {},
   "outputs": [
    {
     "data": {
      "text/plain": [
       "262"
      ]
     },
     "execution_count": 19,
     "metadata": {},
     "output_type": "execute_result"
    }
   ],
   "source": [
    "df_query = df[df.contents.str.contains(condstring, regex=True)]\n",
    "len(df_query)"
   ]
  },
  {
   "cell_type": "code",
   "execution_count": null,
   "metadata": {},
   "outputs": [],
   "source": []
  },
  {
   "cell_type": "code",
   "execution_count": 22,
   "metadata": {},
   "outputs": [
    {
     "data": {
      "text/plain": [
       "3"
      ]
     },
     "execution_count": 22,
     "metadata": {},
     "output_type": "execute_result"
    }
   ],
   "source": [
    "df_query = df[(df.contents.str.contains('烏克蘭'))&(df.contents.str.contains('台灣'))]\n",
    "len(df_query)"
   ]
  },
  {
   "cell_type": "code",
   "execution_count": 24,
   "metadata": {},
   "outputs": [
    {
     "data": {
      "text/plain": [
       "3"
      ]
     },
     "execution_count": 24,
     "metadata": {},
     "output_type": "execute_result"
    }
   ],
   "source": [
    "df_query = df[df.contents.str.contains(r'(?=.*烏克蘭)(?=.*台灣)')]\n",
    "len(df_query)"
   ]
  },
  {
   "cell_type": "code",
   "execution_count": 25,
   "metadata": {},
   "outputs": [
    {
     "data": {
      "text/plain": [
       "3"
      ]
     },
     "execution_count": 25,
     "metadata": {},
     "output_type": "execute_result"
    }
   ],
   "source": [
    "df_query = df[df.contents.str.contains('(?=.*烏克蘭)(?=.*台灣)')]\n",
    "len(df_query)"
   ]
  },
  {
   "cell_type": "code",
   "execution_count": 26,
   "metadata": {},
   "outputs": [
    {
     "data": {
      "text/plain": [
       "3"
      ]
     },
     "execution_count": 26,
     "metadata": {},
     "output_type": "execute_result"
    }
   ],
   "source": [
    "df_query = df[df.contents.str.contains('(?=.*台灣)(?=.*烏克蘭)')]\n",
    "len(df_query)"
   ]
  },
  {
   "cell_type": "code",
   "execution_count": 54,
   "metadata": {},
   "outputs": [],
   "source": [
    "vaccine_cate = ['AZ', 'BNT', '莫德納', '高端']"
   ]
  },
  {
   "cell_type": "code",
   "execution_count": 102,
   "metadata": {},
   "outputs": [],
   "source": [
    "# Searching keywords from \"content\" column\n",
    "# Here this function uses df.content column, while filter_dataFrame() uses df.tokens_v2\n",
    "def filter_dataFrame_fullText(user_keywords, cond, cate):\n",
    "    \n",
    "    # proceed filtering\n",
    "    if (cate == \"全部\"):\n",
    "        condition = (df.categories == 'AZ') | (df.categories == 'BNT') | (df.categories == '莫德納') | (df.categories == '高端')# \"全部\"類別不必過濾新聞種類\n",
    "    else:\n",
    "        # category新聞類別條件\n",
    "        condition = df.categories == cate\n",
    "\n",
    "    if (cond == 'and'):\n",
    "        # query keywords condition使用者輸入關鍵字條件and\n",
    "        condition = condition & df.contents.str.contains(''.join('(?=.*{})'.format(word) for word in user_keywords)) \n",
    "    elif (cond == 'or'):\n",
    "        # query keywords condition使用者輸入關鍵字條件\n",
    "        condition = condition & df.contents.str.contains('|'.join(user_keywords))\n",
    "    # condiction is a list of True or False boolean value\n",
    "    df_query = df[condition]\n",
    "\n",
    "    return df_query"
   ]
  },
  {
   "cell_type": "code",
   "execution_count": 109,
   "metadata": {},
   "outputs": [],
   "source": [
    "# Searching keywords from \"content\" column\n",
    "# Here this function uses df.content column, while filter_dataFrame() uses df.tokens_v2\n",
    "def filter_dataFrame_fullText_previous(user_keywords, cond, cate, weeks):\n",
    "\n",
    "    # proceed filtering\n",
    "    if (cate == \"全部\"):\n",
    "        condition = (df.categories == 'AZ') | (df.categories == 'BNT') | (df.categories == '莫德納') | (df.categories == '高端')# \"全部\"類別不必過濾新聞種類\n",
    "    else:\n",
    "        # category新聞類別條件\n",
    "        condition = df.categories == cate\n",
    "\n",
    "    if (cond == 'and'):\n",
    "        # query keywords condition使用者輸入關鍵字條件and\n",
    "        # condition = condition & df.content.str.contains(''.join('(?=.*{})'.format(word) for word in user_keywords))# 寫法1: contains() \n",
    "        condition = condition & df.contents.apply(lambda text: all((qk in text) for qk in user_keywords)) # 寫法2:all()\n",
    "    elif (cond == 'or'):\n",
    "        # query keywords condition使用者輸入關鍵字條件\n",
    "        # condition = condition & df.content.str.contains('|'.join(user_keywords)) # 寫法1: contains()\n",
    "        condition = condition & df.contents.apply(lambda text: any((qk in text) for qk in user_keywords)) # 寫法2:any()\n",
    "    # condiction is a list of True or False boolean value\n",
    "    df_query = df[condition]\n",
    "\n",
    "    return df_query"
   ]
  },
  {
   "cell_type": "code",
   "execution_count": 108,
   "metadata": {},
   "outputs": [
    {
     "data": {
      "text/plain": [
       "(230, 11)"
      ]
     },
     "execution_count": 108,
     "metadata": {},
     "output_type": "execute_result"
    }
   ],
   "source": [
    "user_keywords = ['陳時中','疫苗']\n",
    "cond='and'\n",
    "cate='全部'\n",
    "\n",
    "df_query = filter_dataFrame_fullText(user_keywords, cond, cate)\n",
    "df_query.shape"
   ]
  },
  {
   "cell_type": "code",
   "execution_count": 110,
   "metadata": {},
   "outputs": [
    {
     "data": {
      "text/plain": [
       "(6, 11)"
      ]
     },
     "execution_count": 110,
     "metadata": {},
     "output_type": "execute_result"
    }
   ],
   "source": [
    "user_keywords = ['烏克蘭']\n",
    "cond='and'\n",
    "cate='全部'\n",
    "\n",
    "df_query = filter_dataFrame_fullText(user_keywords, cond, cate)\n",
    "df_query.shape"
   ]
  },
  {
   "cell_type": "code",
   "execution_count": null,
   "metadata": {},
   "outputs": [],
   "source": []
  },
  {
   "cell_type": "code",
   "execution_count": 111,
   "metadata": {},
   "outputs": [
    {
     "data": {
      "text/plain": [
       "536"
      ]
     },
     "execution_count": 111,
     "metadata": {},
     "output_type": "execute_result"
    }
   ],
   "source": [
    "user_keywords = ['疫情','疫苗']\n",
    "cond='and'\n",
    "cate='全部'\n",
    "df_query = filter_dataFrame_fullText(user_keywords, cond, cate)\n",
    "len(df_query)"
   ]
  },
  {
   "cell_type": "code",
   "execution_count": 113,
   "metadata": {},
   "outputs": [
    {
     "name": "stdout",
     "output_type": "stream",
     "text": [
      "0\n",
      "AZ\n",
      "澎湖確診數升 兒童疫苗接種率已逾7成\n",
      "https://news.google.com/articles/CBMiMmh0dHBzOi8vd3d3LmNuYS5jb20udHcvbmV3cy9hbG9jLzIwMjIwNjA4MDMzNC5hc3B40gE2aHR0cHM6Ly93d3cuY25hLmNvbS50dy9hbXAvbmV3cy9hbG9jLzIwMjIwNjA4MDMzNC5hc3B4?hl=zh-TW&gl=TW&ceid=TW%3Azh-Hant\n",
      "1\n",
      "AZ\n",
      "北市50多歲女打AZ疫苗後死亡 獲救濟金600萬史上最高\n",
      "https://news.google.com/articles/CBMiMmh0dHBzOi8vd3d3LmNuYS5jb20udHcvbmV3cy9haGVsLzIwMjIwMzI5MDM5MC5hc3B40gE2aHR0cHM6Ly93d3cuY25hLmNvbS50dy9hbXAvbmV3cy9haGVsLzIwMjIwMzI5MDM5MC5hc3B4?hl=zh-TW&gl=TW&ceid=TW%3Azh-Hant\n",
      "2\n",
      "AZ\n",
      "AZ疫苗發明人警告 下一場大流行可能更致命\n",
      "https://news.google.com/articles/CBMiN2h0dHBzOi8vd3d3LmNuYS5jb20udHcvbmV3cy9maXJzdG5ld3MvMjAyMTEyMDYwMjkxLmFzcHjSATtodHRwczovL3d3dy5jbmEuY29tLnR3L2FtcC9uZXdzL2ZpcnN0bmV3cy8yMDIxMTIwNjAyOTEuYXNweA?hl=zh-TW&gl=TW&ceid=TW%3Azh-Hant\n"
     ]
    }
   ],
   "source": [
    "for i in range(3):   \n",
    "    print(i)\n",
    "    print(df_query.iloc[i]['categories'])\n",
    "    print(df_query.iloc[i]['titles'])\n",
    "    print(df_query.iloc[i].urls)"
   ]
  },
  {
   "cell_type": "code",
   "execution_count": 114,
   "metadata": {},
   "outputs": [
    {
     "data": {
      "text/html": [
       "<div>\n",
       "<style scoped>\n",
       "    .dataframe tbody tr th:only-of-type {\n",
       "        vertical-align: middle;\n",
       "    }\n",
       "\n",
       "    .dataframe tbody tr th {\n",
       "        vertical-align: top;\n",
       "    }\n",
       "\n",
       "    .dataframe thead th {\n",
       "        text-align: right;\n",
       "    }\n",
       "</style>\n",
       "<table border=\"1\" class=\"dataframe\">\n",
       "  <thead>\n",
       "    <tr style=\"text-align: right;\">\n",
       "      <th></th>\n",
       "      <th>categories</th>\n",
       "      <th>titles</th>\n",
       "      <th>contents</th>\n",
       "      <th>sentiment</th>\n",
       "      <th>summary</th>\n",
       "      <th>top_key_freq</th>\n",
       "      <th>tokens</th>\n",
       "      <th>tokens_v2</th>\n",
       "      <th>entities</th>\n",
       "      <th>token_pos</th>\n",
       "      <th>urls</th>\n",
       "    </tr>\n",
       "  </thead>\n",
       "  <tbody>\n",
       "    <tr>\n",
       "      <th>0</th>\n",
       "      <td>AZ</td>\n",
       "      <td>澎湖確診數升 兒童疫苗接種率已逾7成</td>\n",
       "      <td>澎湖COVID-19（2019冠狀病毒疾病）確診數攀升，澎湖縣政府今天公布新增182例，還有...</td>\n",
       "      <td>0.0</td>\n",
       "      <td>['澎湖5至11歲兒童疫苗接種種率已逾7成', '澎湖縣政府今天公布新增182例確診案例',...</td>\n",
       "      <td>[('澎湖', 5), ('疫苗', 5), ('接種', 4), ('確診', 3), (...</td>\n",
       "      <td>['澎湖', 'COVID-19', '（', '2019', '冠狀', '病毒', '疾...</td>\n",
       "      <td>['澎湖', '冠狀', '病毒', '疾病', '確診數', '澎湖縣', '政府', '...</td>\n",
       "      <td>[NerToken(word='澎湖', ner='GPE', idx=(0, 2)), N...</td>\n",
       "      <td>[('澎湖', 'Nc'), ('COVID-19', 'FW'), ('（', 'PARE...</td>\n",
       "      <td>https://news.google.com/articles/CBMiMmh0dHBzO...</td>\n",
       "    </tr>\n",
       "  </tbody>\n",
       "</table>\n",
       "</div>"
      ],
      "text/plain": [
       "  categories              titles  \\\n",
       "0         AZ  澎湖確診數升 兒童疫苗接種率已逾7成   \n",
       "\n",
       "                                            contents  sentiment  \\\n",
       "0  澎湖COVID-19（2019冠狀病毒疾病）確診數攀升，澎湖縣政府今天公布新增182例，還有...        0.0   \n",
       "\n",
       "                                             summary  \\\n",
       "0  ['澎湖5至11歲兒童疫苗接種種率已逾7成', '澎湖縣政府今天公布新增182例確診案例',...   \n",
       "\n",
       "                                        top_key_freq  \\\n",
       "0  [('澎湖', 5), ('疫苗', 5), ('接種', 4), ('確診', 3), (...   \n",
       "\n",
       "                                              tokens  \\\n",
       "0  ['澎湖', 'COVID-19', '（', '2019', '冠狀', '病毒', '疾...   \n",
       "\n",
       "                                           tokens_v2  \\\n",
       "0  ['澎湖', '冠狀', '病毒', '疾病', '確診數', '澎湖縣', '政府', '...   \n",
       "\n",
       "                                            entities  \\\n",
       "0  [NerToken(word='澎湖', ner='GPE', idx=(0, 2)), N...   \n",
       "\n",
       "                                           token_pos  \\\n",
       "0  [('澎湖', 'Nc'), ('COVID-19', 'FW'), ('（', 'PARE...   \n",
       "\n",
       "                                                urls  \n",
       "0  https://news.google.com/articles/CBMiMmh0dHBzO...  "
      ]
     },
     "execution_count": 114,
     "metadata": {},
     "output_type": "execute_result"
    }
   ],
   "source": [
    "df_query.head(1)"
   ]
  },
  {
   "cell_type": "code",
   "execution_count": null,
   "metadata": {},
   "outputs": [],
   "source": []
  },
  {
   "cell_type": "code",
   "execution_count": 115,
   "metadata": {},
   "outputs": [],
   "source": [
    "# get titles and links from k pieces of news \n",
    "def get_title_link_topk(df_query, k=25):\n",
    "    items = []\n",
    "    for i in range( len(df_query[0:k]) ): # show only 10 news\n",
    "        category = df_query.iloc[i]['categories']\n",
    "        title = df_query.iloc[i]['titles']\n",
    "        link = df_query.iloc[i]['urls']\n",
    "        \n",
    "        item_info = {\n",
    "            'categories': category, \n",
    "            'titles': title, \n",
    "            'urls': link, \n",
    "        }\n",
    "\n",
    "        items.append(item_info)\n",
    "    return items "
   ]
  },
  {
   "cell_type": "code",
   "execution_count": 116,
   "metadata": {},
   "outputs": [
    {
     "data": {
      "text/plain": [
       "[{'categories': 'AZ',\n",
       "  'titles': '澎湖確診數升 兒童疫苗接種率已逾7成',\n",
       "  'urls': 'https://news.google.com/articles/CBMiMmh0dHBzOi8vd3d3LmNuYS5jb20udHcvbmV3cy9hbG9jLzIwMjIwNjA4MDMzNC5hc3B40gE2aHR0cHM6Ly93d3cuY25hLmNvbS50dy9hbXAvbmV3cy9hbG9jLzIwMjIwNjA4MDMzNC5hc3B4?hl=zh-TW&gl=TW&ceid=TW%3Azh-Hant'},\n",
       " {'categories': 'AZ',\n",
       "  'titles': '北市50多歲女打AZ疫苗後死亡 獲救濟金600萬史上最高',\n",
       "  'urls': 'https://news.google.com/articles/CBMiMmh0dHBzOi8vd3d3LmNuYS5jb20udHcvbmV3cy9haGVsLzIwMjIwMzI5MDM5MC5hc3B40gE2aHR0cHM6Ly93d3cuY25hLmNvbS50dy9hbXAvbmV3cy9haGVsLzIwMjIwMzI5MDM5MC5hc3B4?hl=zh-TW&gl=TW&ceid=TW%3Azh-Hant'},\n",
       " {'categories': 'AZ',\n",
       "  'titles': 'AZ疫苗發明人警告 下一場大流行可能更致命',\n",
       "  'urls': 'https://news.google.com/articles/CBMiN2h0dHBzOi8vd3d3LmNuYS5jb20udHcvbmV3cy9maXJzdG5ld3MvMjAyMTEyMDYwMjkxLmFzcHjSATtodHRwczovL3d3dy5jbmEuY29tLnR3L2FtcC9uZXdzL2ZpcnN0bmV3cy8yMDIxMTIwNjAyOTEuYXNweA?hl=zh-TW&gl=TW&ceid=TW%3Azh-Hant'},\n",
       " {'categories': 'AZ',\n",
       "  'titles': 'AZ疫苗第2劑本週開放50至64歲預約 可望雙十連假前開打',\n",
       "  'urls': 'https://news.google.com/articles/CBMiN2h0dHBzOi8vd3d3LmNuYS5jb20udHcvbmV3cy9maXJzdG5ld3MvMjAyMTA5MjcwMTkzLmFzcHjSATtodHRwczovL3d3dy5jbmEuY29tLnR3L2FtcC9uZXdzL2ZpcnN0bmV3cy8yMDIxMDkyNzAxOTMuYXNweA?hl=zh-TW&gl=TW&ceid=TW%3Azh-Hant'},\n",
       " {'categories': 'AZ',\n",
       "  'titles': '第8輪疫苗接種以AZ第2劑為主 將開放逾80萬劑供預約',\n",
       "  'urls': 'https://news.google.com/articles/CBMiN2h0dHBzOi8vd3d3LmNuYS5jb20udHcvbmV3cy9maXJzdG5ld3MvMjAyMTA5MDUwMTExLmFzcHjSATtodHRwczovL3d3dy5jbmEuY29tLnR3L2FtcC9uZXdzL2ZpcnN0bmV3cy8yMDIxMDkwNTAxMTEuYXNweA?hl=zh-TW&gl=TW&ceid=TW%3Azh-Hant'}]"
      ]
     },
     "execution_count": 116,
     "metadata": {},
     "output_type": "execute_result"
    }
   ],
   "source": [
    "get_title_link_topk(df_query, 5)"
   ]
  },
  {
   "cell_type": "code",
   "execution_count": null,
   "metadata": {},
   "outputs": [],
   "source": []
  },
  {
   "cell_type": "code",
   "execution_count": 117,
   "metadata": {},
   "outputs": [],
   "source": [
    "from collections import Counter\n",
    "# 相關詞有哪一些?找出各篇文章的topk關鍵詞加以彙整計算\n",
    "# 不能用 \"get_related_keys\"當函數名稱，因為這是Django系統用的名稱\n",
    "def get_related_words(df_query):\n",
    "    counter=Counter()\n",
    "    for idx in range(len(df_query)):\n",
    "        pair_dict = dict(eval(df_query.iloc[idx].top_key_freq))\n",
    "        counter += Counter(pair_dict)\n",
    "    return counter.most_common(20) #return list format"
   ]
  },
  {
   "cell_type": "code",
   "execution_count": 118,
   "metadata": {},
   "outputs": [],
   "source": [
    "# This version is for reference\n",
    "def get_related_words_v0(df_query):\n",
    "    all_pairs={}\n",
    "    for idx in range(len(df_query)):\n",
    "        row = df_query.iloc[idx].top_key_freq\n",
    "        pairs = eval(row)\n",
    "        for pair in pairs:\n",
    "            w,f = pair\n",
    "            if w in all_pairs:\n",
    "                all_pairs[w]+= f\n",
    "            else:\n",
    "                all_pairs[w] = f\n",
    "\n",
    "    counter = Counter(all_pairs)\n",
    "    return counter.most_common(20) #return list format\n",
    "    #return dict(counter.most_common(20)) #return dict format"
   ]
  },
  {
   "cell_type": "code",
   "execution_count": 119,
   "metadata": {},
   "outputs": [],
   "source": [
    "user_keywords = ['疫情','疫苗']\n",
    "cond='and'\n",
    "cate='全部'\n",
    "df_query = filter_dataFrame_fullText(user_keywords, cond, cate)"
   ]
  },
  {
   "cell_type": "code",
   "execution_count": 120,
   "metadata": {},
   "outputs": [
    {
     "data": {
      "text/plain": [
       "(536, 11)"
      ]
     },
     "execution_count": 120,
     "metadata": {},
     "output_type": "execute_result"
    }
   ],
   "source": [
    "df_query.shape"
   ]
  },
  {
   "cell_type": "code",
   "execution_count": 121,
   "metadata": {},
   "outputs": [
    {
     "data": {
      "text/plain": [
       "[('疫苗', 7232),\n",
       " ('接種', 3516),\n",
       " ('莫德納', 1549),\n",
       " ('施打', 1406),\n",
       " ('疫情', 1127),\n",
       " ('中心', 989),\n",
       " ('兒童', 952),\n",
       " ('指揮', 840),\n",
       " ('民眾', 739),\n",
       " ('陳時中', 673),\n",
       " ('預約', 668),\n",
       " ('台灣', 481),\n",
       " ('中央', 460),\n",
       " ('開放', 456),\n",
       " ('家長', 404),\n",
       " ('病毒', 351),\n",
       " ('完成', 350),\n",
       " ('輝瑞', 344),\n",
       " ('醫院', 338),\n",
       " ('美國', 331)]"
      ]
     },
     "execution_count": 121,
     "metadata": {},
     "output_type": "execute_result"
    }
   ],
   "source": [
    "get_related_words(df_query)"
   ]
  },
  {
   "cell_type": "code",
   "execution_count": 122,
   "metadata": {},
   "outputs": [],
   "source": [
    "user_keywords = ['疫情','疫苗']\n",
    "cond='and'\n",
    "cate='全部'\n",
    "df_query = filter_dataFrame_fullText(user_keywords, cond, cate)"
   ]
  },
  {
   "cell_type": "code",
   "execution_count": 123,
   "metadata": {},
   "outputs": [
    {
     "data": {
      "text/plain": [
       "0      [('澎湖', 5), ('疫苗', 5), ('接種', 4), ('確診', 3), (...\n",
       "1      [('疫苗', 18), ('接種', 17), ('救濟', 16), ('個案', 12...\n",
       "3      [('疫苗', 5), ('病毒', 5), ('吉伯特', 4), ('變種', 3), ...\n",
       "4      [('疫苗', 12), ('預約', 8), ('接種', 7), ('意願', 6), ...\n",
       "5      [('疫苗', 20), ('接種', 11), ('民眾', 6), ('指揮', 4),...\n",
       "                             ...                        \n",
       "790    [('疫苗', 16), ('接種', 11), ('家樂福', 9), ('彰化縣', 7...\n",
       "791    [('疫苗', 14), ('美國', 9), ('台灣', 9), ('政府', 5), ...\n",
       "792    [('疫苗', 11), ('桃園', 9), ('民眾', 8), ('接種', 5), ...\n",
       "793    [('疫苗', 15), ('莫德納', 13), ('南韓', 9), ('累積', 5)...\n",
       "795    [('陳時中', 8), ('接種', 6), ('確診', 5), ('疫苗', 5), ...\n",
       "Name: top_key_freq, Length: 536, dtype: object"
      ]
     },
     "execution_count": 123,
     "metadata": {},
     "output_type": "execute_result"
    }
   ],
   "source": [
    "df_query.top_key_freq"
   ]
  },
  {
   "cell_type": "code",
   "execution_count": 124,
   "metadata": {},
   "outputs": [
    {
     "data": {
      "text/plain": [
       "\"[('澎湖', 5), ('疫苗', 5), ('接種', 4), ('確診', 3), ('女性', 3), ('兒童', 3), ('澎湖縣政府', 3), ('居家', 2), ('收治', 2), ('冠狀', 1), ('病毒', 1), ('疾病', 1), ('確診數', 1), ('澎湖縣', 1), ('政府', 1), ('種率', 1), ('長者', 1), ('施打', 1), ('診所', 1), ('照護', 1), ('呼吸', 1), ('衛福部', 1), ('醫院', 1), ('死因', 1), ('中央', 1), ('疫情', 1), ('指揮', 1), ('中心', 1), ('國小', 1), ('幼兒園', 1), ('學童', 1), ('完成', 1), ('莫德納', 1), ('輝瑞', 1), ('接種率', 1), ('案例', 1), ('人士', 1), ('外縣市', 1), ('澎湖籍', 1), ('年齡層', 1), ('年紀', 1), ('男童', 1), ('集中', 1), ('檢疫所', 1), ('三總', 1), ('照護照', 1), ('累積', 1)]\""
      ]
     },
     "execution_count": 124,
     "metadata": {},
     "output_type": "execute_result"
    }
   ],
   "source": [
    "### Now we can start to cout frequency from our word_freq pairs\n",
    "df_query.iloc[0].top_key_freq"
   ]
  },
  {
   "cell_type": "code",
   "execution_count": 125,
   "metadata": {},
   "outputs": [
    {
     "data": {
      "text/plain": [
       "{'澎湖': 5,\n",
       " '疫苗': 5,\n",
       " '接種': 4,\n",
       " '確診': 3,\n",
       " '女性': 3,\n",
       " '兒童': 3,\n",
       " '澎湖縣政府': 3,\n",
       " '居家': 2,\n",
       " '收治': 2,\n",
       " '冠狀': 1,\n",
       " '病毒': 1,\n",
       " '疾病': 1,\n",
       " '確診數': 1,\n",
       " '澎湖縣': 1,\n",
       " '政府': 1,\n",
       " '種率': 1,\n",
       " '長者': 1,\n",
       " '施打': 1,\n",
       " '診所': 1,\n",
       " '照護': 1,\n",
       " '呼吸': 1,\n",
       " '衛福部': 1,\n",
       " '醫院': 1,\n",
       " '死因': 1,\n",
       " '中央': 1,\n",
       " '疫情': 1,\n",
       " '指揮': 1,\n",
       " '中心': 1,\n",
       " '國小': 1,\n",
       " '幼兒園': 1,\n",
       " '學童': 1,\n",
       " '完成': 1,\n",
       " '莫德納': 1,\n",
       " '輝瑞': 1,\n",
       " '接種率': 1,\n",
       " '案例': 1,\n",
       " '人士': 1,\n",
       " '外縣市': 1,\n",
       " '澎湖籍': 1,\n",
       " '年齡層': 1,\n",
       " '年紀': 1,\n",
       " '男童': 1,\n",
       " '集中': 1,\n",
       " '檢疫所': 1,\n",
       " '三總': 1,\n",
       " '照護照': 1,\n",
       " '累積': 1}"
      ]
     },
     "execution_count": 125,
     "metadata": {},
     "output_type": "execute_result"
    }
   ],
   "source": [
    "# Convert to dictionary\n",
    "dict(eval(df_query.iloc[0].top_key_freq))"
   ]
  },
  {
   "cell_type": "code",
   "execution_count": 126,
   "metadata": {},
   "outputs": [
    {
     "data": {
      "text/plain": [
       "[('澎湖', 5),\n",
       " ('疫苗', 5),\n",
       " ('接種', 4),\n",
       " ('確診', 3),\n",
       " ('女性', 3),\n",
       " ('兒童', 3),\n",
       " ('澎湖縣政府', 3),\n",
       " ('居家', 2),\n",
       " ('收治', 2),\n",
       " ('冠狀', 1)]"
      ]
     },
     "execution_count": 126,
     "metadata": {},
     "output_type": "execute_result"
    }
   ],
   "source": [
    "c1 = Counter(dict(eval(df_query.iloc[0].top_key_freq)))\n",
    "c1.most_common(10)"
   ]
  },
  {
   "cell_type": "code",
   "execution_count": 127,
   "metadata": {},
   "outputs": [
    {
     "data": {
      "text/plain": [
       "[('疫苗', 18),\n",
       " ('接種', 17),\n",
       " ('救濟', 16),\n",
       " ('個案', 12),\n",
       " ('血栓', 7),\n",
       " ('金額', 5),\n",
       " ('救濟金', 5),\n",
       " ('症候群', 5),\n",
       " ('併血小板', 4),\n",
       " ('審議', 3)]"
      ]
     },
     "execution_count": 127,
     "metadata": {},
     "output_type": "execute_result"
    }
   ],
   "source": [
    "c2 = Counter(dict(eval(df_query.iloc[1].top_key_freq)))\n",
    "c2.most_common(10)"
   ]
  },
  {
   "cell_type": "code",
   "execution_count": 128,
   "metadata": {},
   "outputs": [
    {
     "data": {
      "text/plain": [
       "[('疫苗', 23),\n",
       " ('接種', 21),\n",
       " ('救濟', 16),\n",
       " ('個案', 12),\n",
       " ('血栓', 7),\n",
       " ('澎湖', 5),\n",
       " ('女性', 5),\n",
       " ('金額', 5),\n",
       " ('救濟金', 5),\n",
       " ('症候群', 5)]"
      ]
     },
     "execution_count": 128,
     "metadata": {},
     "output_type": "execute_result"
    }
   ],
   "source": [
    "counter = c1+c2\n",
    "counter.most_common(10)"
   ]
  },
  {
   "cell_type": "code",
   "execution_count": null,
   "metadata": {},
   "outputs": [],
   "source": []
  },
  {
   "cell_type": "code",
   "execution_count": 129,
   "metadata": {},
   "outputs": [],
   "source": [
    "# Get related keywords by counting the top keywords of each news.\n",
    "# Notice:  do not name function as  \"get_related_keys\",\n",
    "# because this name is used in Django\n",
    "def get_related_word_clouddata(df_query):\n",
    "\n",
    "    # (1) Get wf_pairs by calling get_related_words().\n",
    "    wf_pairs = get_related_words(df_query)\n",
    "    \n",
    "    # (2) cloud chart data\n",
    "    # the minimum and maximum frequency of top words\n",
    "    min_ = wf_pairs[-1][1]  # the last line is smaller\n",
    "    max_ = wf_pairs[0][1]\n",
    "    # text size based on the value of word frequency for drawing cloud chart\n",
    "    textSizeMin = 20 # 最小字\n",
    "    textSizeMax = 120 # 最大字\n",
    "    # Scaling frequency value into an interval of from 20 to 120.\n",
    "    clouddata = [{'text': w, 'size': int(textSizeMin + (f - min_) / (max_ - min_) * (textSizeMax - textSizeMin))}\n",
    "                 for w, f in wf_pairs]\n",
    "\n",
    "    return   wf_pairs, clouddata "
   ]
  },
  {
   "cell_type": "code",
   "execution_count": 130,
   "metadata": {},
   "outputs": [
    {
     "data": {
      "text/plain": [
       "([('疫苗', 7232),\n",
       "  ('接種', 3516),\n",
       "  ('莫德納', 1549),\n",
       "  ('施打', 1406),\n",
       "  ('疫情', 1127),\n",
       "  ('中心', 989),\n",
       "  ('兒童', 952),\n",
       "  ('指揮', 840),\n",
       "  ('民眾', 739),\n",
       "  ('陳時中', 673),\n",
       "  ('預約', 668),\n",
       "  ('台灣', 481),\n",
       "  ('中央', 460),\n",
       "  ('開放', 456),\n",
       "  ('家長', 404),\n",
       "  ('病毒', 351),\n",
       "  ('完成', 350),\n",
       "  ('輝瑞', 344),\n",
       "  ('醫院', 338),\n",
       "  ('美國', 331)],\n",
       " [{'text': '疫苗', 'size': 120},\n",
       "  {'text': '接種', 'size': 66},\n",
       "  {'text': '莫德納', 'size': 37},\n",
       "  {'text': '施打', 'size': 35},\n",
       "  {'text': '疫情', 'size': 31},\n",
       "  {'text': '中心', 'size': 29},\n",
       "  {'text': '兒童', 'size': 28},\n",
       "  {'text': '指揮', 'size': 27},\n",
       "  {'text': '民眾', 'size': 25},\n",
       "  {'text': '陳時中', 'size': 24},\n",
       "  {'text': '預約', 'size': 24},\n",
       "  {'text': '台灣', 'size': 22},\n",
       "  {'text': '中央', 'size': 21},\n",
       "  {'text': '開放', 'size': 21},\n",
       "  {'text': '家長', 'size': 21},\n",
       "  {'text': '病毒', 'size': 20},\n",
       "  {'text': '完成', 'size': 20},\n",
       "  {'text': '輝瑞', 'size': 20},\n",
       "  {'text': '醫院', 'size': 20},\n",
       "  {'text': '美國', 'size': 20}])"
      ]
     },
     "execution_count": 130,
     "metadata": {},
     "output_type": "execute_result"
    }
   ],
   "source": [
    "user_keywords = ['疫情','疫苗']\n",
    "cond='and'\n",
    "cate='全部'\n",
    "df_query = filter_dataFrame_fullText(user_keywords, cond, cate)\n",
    "\n",
    "get_related_word_clouddata(df_query)"
   ]
  },
  {
   "cell_type": "code",
   "execution_count": null,
   "metadata": {},
   "outputs": [],
   "source": []
  },
  {
   "cell_type": "code",
   "execution_count": 131,
   "metadata": {},
   "outputs": [],
   "source": [
    "import re\n",
    "\n",
    "# Step1: split paragraphs in text 先將文章切成一個段落一個段落\n",
    "def cut_paragraph(text):\n",
    "    paragraphs = text.split('。')  # 遇到句號就切開\n",
    "    #paragraphs = re.split('。', text) # 遇到句號就切開\n",
    "    #paragraphs = re.split('[。！!？?]', text) # 遇到句號(也納入問號、驚嘆號、分號等)就切開\n",
    "    paragraphs = list(filter(None, paragraphs))\n",
    "    return paragraphs\n",
    "\n",
    "# Step2: Select all paragraphs where multiple keywords occur.\n",
    "def get_same_para(df_query, user_keywords, cond, k=30):\n",
    "    same_para=[]\n",
    "    for text in df_query.contents:\n",
    "        #print(text)\n",
    "        paragraphs = cut_paragraph(text)\n",
    "        for para in paragraphs:\n",
    "            para += \"。\"\n",
    "            if cond=='and':\n",
    "                if all([re.search(kw, para) for kw in user_keywords]):\n",
    "                    same_para.append(para)\n",
    "            elif cond=='or':\n",
    "                if any([re.search(kw, para) for kw in user_keywords]):\n",
    "                    same_para.append(para)\n",
    "    return same_para[0:k]"
   ]
  },
  {
   "cell_type": "code",
   "execution_count": 132,
   "metadata": {},
   "outputs": [],
   "source": [
    "user_keywords = ['疫情','疫苗','香港']\n",
    "cond='and'\n",
    "cate='全部'\n",
    "df_query = filter_dataFrame_fullText(user_keywords, cond, cate)"
   ]
  },
  {
   "cell_type": "code",
   "execution_count": 133,
   "metadata": {},
   "outputs": [
    {
     "data": {
      "text/plain": [
       "17"
      ]
     },
     "execution_count": 133,
     "metadata": {},
     "output_type": "execute_result"
    }
   ],
   "source": [
    "len(df_query)"
   ]
  },
  {
   "cell_type": "code",
   "execution_count": 134,
   "metadata": {},
   "outputs": [
    {
     "data": {
      "text/plain": [
       "['突破性感染頻傳 三份研究報告皆指出疫苗仍舊有效香港學者：現階段疫苗無法讓疫情消失Mu變種病毒攻陷40國 WHO列「須留意變異株」 Andrew Pollard。',\n",
       " '中國供應全球21億劑疫苗 王毅提4建議新冠疫情延宕 王毅提織牢免疫安全網等四建議香港確診破萬 1成在港歐洲人逃離。',\n",
       " '香港發現Omicron變異株BA .2.12.1亞變種首度入侵社區，港府昨天宣布，未曾感染COVID-19疫情的18至59歲人士，即日起都可選擇接種第四劑新冠疫苗。',\n",
       " '香港媒體向香港政府衛生署和醫管局查詢第5波疫情死者接種科興、BNT劑次分布等資料，衛生署未回覆；醫管局回應，正在分析第5波死亡個案，了解疫苗紀錄、長期病史、是否「不作心肺復甦術」等，會在完成後公布。']"
      ]
     },
     "execution_count": 134,
     "metadata": {},
     "output_type": "execute_result"
    }
   ],
   "source": [
    "get_same_para(df_query, user_keywords, 'and', k=10)"
   ]
  },
  {
   "cell_type": "code",
   "execution_count": null,
   "metadata": {},
   "outputs": [],
   "source": []
  },
  {
   "cell_type": "code",
   "execution_count": 135,
   "metadata": {},
   "outputs": [
    {
     "data": {
      "text/html": [
       "<div>\n",
       "<style scoped>\n",
       "    .dataframe tbody tr th:only-of-type {\n",
       "        vertical-align: middle;\n",
       "    }\n",
       "\n",
       "    .dataframe tbody tr th {\n",
       "        vertical-align: top;\n",
       "    }\n",
       "\n",
       "    .dataframe thead th {\n",
       "        text-align: right;\n",
       "    }\n",
       "</style>\n",
       "<table border=\"1\" class=\"dataframe\">\n",
       "  <thead>\n",
       "    <tr style=\"text-align: right;\">\n",
       "      <th></th>\n",
       "      <th>categories</th>\n",
       "      <th>titles</th>\n",
       "      <th>contents</th>\n",
       "      <th>sentiment</th>\n",
       "      <th>summary</th>\n",
       "      <th>top_key_freq</th>\n",
       "      <th>tokens</th>\n",
       "      <th>tokens_v2</th>\n",
       "      <th>entities</th>\n",
       "      <th>token_pos</th>\n",
       "      <th>urls</th>\n",
       "    </tr>\n",
       "  </thead>\n",
       "  <tbody>\n",
       "    <tr>\n",
       "      <th>0</th>\n",
       "      <td>AZ</td>\n",
       "      <td>澎湖確診數升 兒童疫苗接種率已逾7成</td>\n",
       "      <td>澎湖COVID-19（2019冠狀病毒疾病）確診數攀升，澎湖縣政府今天公布新增182例，還有...</td>\n",
       "      <td>0.0</td>\n",
       "      <td>['澎湖5至11歲兒童疫苗接種種率已逾7成', '澎湖縣政府今天公布新增182例確診案例',...</td>\n",
       "      <td>[('澎湖', 5), ('疫苗', 5), ('接種', 4), ('確診', 3), (...</td>\n",
       "      <td>['澎湖', 'COVID-19', '（', '2019', '冠狀', '病毒', '疾...</td>\n",
       "      <td>['澎湖', '冠狀', '病毒', '疾病', '確診數', '澎湖縣', '政府', '...</td>\n",
       "      <td>[NerToken(word='澎湖', ner='GPE', idx=(0, 2)), N...</td>\n",
       "      <td>[('澎湖', 'Nc'), ('COVID-19', 'FW'), ('（', 'PARE...</td>\n",
       "      <td>https://news.google.com/articles/CBMiMmh0dHBzO...</td>\n",
       "    </tr>\n",
       "  </tbody>\n",
       "</table>\n",
       "</div>"
      ],
      "text/plain": [
       "  categories              titles  \\\n",
       "0         AZ  澎湖確診數升 兒童疫苗接種率已逾7成   \n",
       "\n",
       "                                            contents  sentiment  \\\n",
       "0  澎湖COVID-19（2019冠狀病毒疾病）確診數攀升，澎湖縣政府今天公布新增182例，還有...        0.0   \n",
       "\n",
       "                                             summary  \\\n",
       "0  ['澎湖5至11歲兒童疫苗接種種率已逾7成', '澎湖縣政府今天公布新增182例確診案例',...   \n",
       "\n",
       "                                        top_key_freq  \\\n",
       "0  [('澎湖', 5), ('疫苗', 5), ('接種', 4), ('確診', 3), (...   \n",
       "\n",
       "                                              tokens  \\\n",
       "0  ['澎湖', 'COVID-19', '（', '2019', '冠狀', '病毒', '疾...   \n",
       "\n",
       "                                           tokens_v2  \\\n",
       "0  ['澎湖', '冠狀', '病毒', '疾病', '確診數', '澎湖縣', '政府', '...   \n",
       "\n",
       "                                            entities  \\\n",
       "0  [NerToken(word='澎湖', ner='GPE', idx=(0, 2)), N...   \n",
       "\n",
       "                                           token_pos  \\\n",
       "0  [('澎湖', 'Nc'), ('COVID-19', 'FW'), ('（', 'PARE...   \n",
       "\n",
       "                                                urls  \n",
       "0  https://news.google.com/articles/CBMiMmh0dHBzO...  "
      ]
     },
     "execution_count": 135,
     "metadata": {},
     "output_type": "execute_result"
    }
   ],
   "source": [
    "df.head(1)"
   ]
  },
  {
   "cell_type": "code",
   "execution_count": 137,
   "metadata": {},
   "outputs": [
    {
     "data": {
      "text/plain": [
       "'澎湖COVID-19（2019冠狀病毒疾病）確診數攀升，澎湖縣政府今天公布新增182例，還有一名接種2劑疫苗的92歲確診女性不治。另外，澎湖5至11歲兒童疫苗接種種率已逾7成。澎湖縣政府表示，92歲女性長者己施打過2劑AZ疫苗，6日經診所通報確診，申請居家照護，7日因呼吸急性衰竭，送衛福部澎湖醫院急診，今天凌晨不幸過世，確切死因仍需由中央疫情指揮中心認定。澎湖縣政府表示，澎湖5至11歲兒童疫苗接種，全縣37所國小和9所幼兒園4569名學童中，目前完成莫德納與輝瑞兒童疫苗接種者，分別有1108和2278人，接種率逾7成。澎湖縣政府今天公布新增182例確診案例，外籍人士4例、外縣市1例，其餘177例均為澎湖籍，以20至29歲和30至39歲年齡層，各為31人最多，年紀最小是10個月大男童，最長為101歲女性，除集中檢疫所和三總各收治1例外，其餘全數申請居家照護照。澎湖累積有3896例確診，目前還收治有1030人。'"
      ]
     },
     "execution_count": 137,
     "metadata": {},
     "output_type": "execute_result"
    }
   ],
   "source": [
    "text = df.contents[0]\n",
    "text"
   ]
  },
  {
   "cell_type": "code",
   "execution_count": 139,
   "metadata": {},
   "outputs": [
    {
     "data": {
      "text/plain": [
       "['澎湖COVID-19（2019冠狀病毒疾病）確診數攀升，澎湖縣政府今天公布新增182例，還有一名接種2劑疫苗的92歲確診女性不治',\n",
       " '另外，澎湖5至11歲兒童疫苗接種種率已逾7成',\n",
       " '澎湖縣政府表示，92歲女性長者己施打過2劑AZ疫苗，6日經診所通報確診，申請居家照護，7日因呼吸急性衰竭，送衛福部澎湖醫院急診，今天凌晨不幸過世，確切死因仍需由中央疫情指揮中心認定',\n",
       " '澎湖縣政府表示，澎湖5至11歲兒童疫苗接種，全縣37所國小和9所幼兒園4569名學童中，目前完成莫德納與輝瑞兒童疫苗接種者，分別有1108和2278人，接種率逾7成',\n",
       " '澎湖縣政府今天公布新增182例確診案例，外籍人士4例、外縣市1例，其餘177例均為澎湖籍，以20至29歲和30至39歲年齡層，各為31人最多，年紀最小是10個月大男童，最長為101歲女性，除集中檢疫所和三總各收治1例外，其餘全數申請居家照護照',\n",
       " '澎湖累積有3896例確診，目前還收治有1030人']"
      ]
     },
     "execution_count": 139,
     "metadata": {},
     "output_type": "execute_result"
    }
   ],
   "source": [
    "# Step1: split paragraphs in text 先將文章切成一個段落一個段落\n",
    "def cut_paragraph(text):\n",
    "    paragraphs = text.split('。')  # 遇到句號就切開\n",
    "    #paragraphs = re.split('。', text) # 遇到句號就切開\n",
    "    #paragraphs = re.split('[。！!？?]', text) # 遇到句號(也納入問號、驚嘆號、分號等)就切開\n",
    "    paragraphs = list(filter(None, paragraphs))\n",
    "    return paragraphs\n",
    "\n",
    "paragraphs = cut_paragraph(text)\n",
    "paragraphs"
   ]
  },
  {
   "cell_type": "code",
   "execution_count": 140,
   "metadata": {},
   "outputs": [
    {
     "data": {
      "text/plain": [
       "['澎湖COVID-19（2019冠狀病毒疾病）確診數攀升，澎湖縣政府今天公布新增182例，還有一名接種2劑疫苗的92歲確診女性不治',\n",
       " '另外，澎湖5至11歲兒童疫苗接種種率已逾7成',\n",
       " '澎湖縣政府表示，92歲女性長者己施打過2劑AZ疫苗，6日經診所通報確診，申請居家照護，7日因呼吸急性衰竭，送衛福部澎湖醫院急診，今天凌晨不幸過世，確切死因仍需由中央疫情指揮中心認定',\n",
       " '澎湖縣政府表示，澎湖5至11歲兒童疫苗接種，全縣37所國小和9所幼兒園4569名學童中，目前完成莫德納與輝瑞兒童疫苗接種者，分別有1108和2278人，接種率逾7成',\n",
       " '澎湖縣政府今天公布新增182例確診案例，外籍人士4例、外縣市1例，其餘177例均為澎湖籍，以20至29歲和30至39歲年齡層，各為31人最多，年紀最小是10個月大男童，最長為101歲女性，除集中檢疫所和三總各收治1例外，其餘全數申請居家照護照',\n",
       " '澎湖累積有3896例確診，目前還收治有1030人',\n",
       " '']"
      ]
     },
     "execution_count": 140,
     "metadata": {},
     "output_type": "execute_result"
    }
   ],
   "source": [
    "text.split('。')"
   ]
  },
  {
   "cell_type": "code",
   "execution_count": 141,
   "metadata": {},
   "outputs": [
    {
     "data": {
      "text/plain": [
       "['澎湖COVID-19（2019冠狀病毒疾病）確診數攀升，澎湖縣政府今天公布新增182例，還有一名接種2劑疫苗的92歲確診女性不治',\n",
       " '另外，澎湖5至11歲兒童疫苗接種種率已逾7成',\n",
       " '澎湖縣政府表示，92歲女性長者己施打過2劑AZ疫苗，6日經診所通報確診，申請居家照護，7日因呼吸急性衰竭，送衛福部澎湖醫院急診，今天凌晨不幸過世，確切死因仍需由中央疫情指揮中心認定',\n",
       " '澎湖縣政府表示，澎湖5至11歲兒童疫苗接種，全縣37所國小和9所幼兒園4569名學童中，目前完成莫德納與輝瑞兒童疫苗接種者，分別有1108和2278人，接種率逾7成',\n",
       " '澎湖縣政府今天公布新增182例確診案例，外籍人士4例、外縣市1例，其餘177例均為澎湖籍，以20至29歲和30至39歲年齡層，各為31人最多，年紀最小是10個月大男童，最長為101歲女性，除集中檢疫所和三總各收治1例外，其餘全數申請居家照護照',\n",
       " '澎湖累積有3896例確診，目前還收治有1030人']"
      ]
     },
     "execution_count": 141,
     "metadata": {},
     "output_type": "execute_result"
    }
   ],
   "source": [
    "paragraphs = text.split('。')\n",
    "list(filter(None, paragraphs))"
   ]
  },
  {
   "cell_type": "code",
   "execution_count": 142,
   "metadata": {},
   "outputs": [
    {
     "data": {
      "text/plain": [
       "['澎湖COVID-19（2019冠狀病毒疾病）確診數攀升，澎湖縣政府今天公布新增182例，還有一名接種2劑疫苗的92歲確診女性不治',\n",
       " '另外，澎湖5至11歲兒童疫苗接種種率已逾7成',\n",
       " '澎湖縣政府表示，92歲女性長者己施打過2劑AZ疫苗，6日經診所通報確診，申請居家照護，7日因呼吸急性衰竭，送衛福部澎湖醫院急診，今天凌晨不幸過世，確切死因仍需由中央疫情指揮中心認定',\n",
       " '澎湖縣政府表示，澎湖5至11歲兒童疫苗接種，全縣37所國小和9所幼兒園4569名學童中，目前完成莫德納與輝瑞兒童疫苗接種者，分別有1108和2278人，接種率逾7成',\n",
       " '澎湖縣政府今天公布新增182例確診案例，外籍人士4例、外縣市1例，其餘177例均為澎湖籍，以20至29歲和30至39歲年齡層，各為31人最多，年紀最小是10個月大男童，最長為101歲女性，除集中檢疫所和三總各收治1例外，其餘全數申請居家照護照',\n",
       " '澎湖累積有3896例確診，目前還收治有1030人',\n",
       " '']"
      ]
     },
     "execution_count": 142,
     "metadata": {},
     "output_type": "execute_result"
    }
   ],
   "source": [
    "re.split('[。！!？?]', text) "
   ]
  },
  {
   "cell_type": "code",
   "execution_count": null,
   "metadata": {},
   "outputs": [],
   "source": []
  },
  {
   "cell_type": "code",
   "execution_count": 143,
   "metadata": {},
   "outputs": [],
   "source": [
    "import re\n",
    "# Find out all paragraphs where multiple keywords occur.\n",
    "def get_same_para(df_query, user_keywords, cond, k=30):\n",
    "    same_para=[]\n",
    "    for text in df_query.contents:\n",
    "        #print(text)\n",
    "        paragraphs = cut_paragraph(text)\n",
    "        for para in paragraphs:\n",
    "            para += \"。\"  # 在每段落文字後面加一個句號。\n",
    "            # 判斷每個段落文字是否包含該關鍵字，and or分開判斷\n",
    "            if cond == 'and':\n",
    "                if all([kw in para for kw in user_keywords]):\n",
    "                    same_para.append(para)  # 符合條件的段落para保存起來\n",
    "            elif cond == 'or':\n",
    "                if any([kw in para for kw in user_keywords]):\n",
    "                    same_para.append(para)  # 符合條件的段落para保存起來\n",
    "    return same_para[0:k]"
   ]
  },
  {
   "cell_type": "code",
   "execution_count": 144,
   "metadata": {},
   "outputs": [],
   "source": [
    "user_keywords = ['疫情','疫苗']\n",
    "cond='and'\n",
    "cate='全部'\n",
    "df_query = filter_dataFrame_fullText(user_keywords, cond, cate)"
   ]
  },
  {
   "cell_type": "code",
   "execution_count": 145,
   "metadata": {},
   "outputs": [
    {
     "data": {
      "text/plain": [
       "536"
      ]
     },
     "execution_count": 145,
     "metadata": {},
     "output_type": "execute_result"
    }
   ],
   "source": [
    "len(df_query)"
   ]
  },
  {
   "cell_type": "code",
   "execution_count": 146,
   "metadata": {},
   "outputs": [
    {
     "data": {
      "text/plain": [
       "['澎湖縣政府表示，92歲女性長者己施打過2劑AZ疫苗，6日經診所通報確診，申請居家照護，7日因呼吸急性衰竭，送衛福部澎湖醫院急診，今天凌晨不幸過世，確切死因仍需由中央疫情指揮中心認定。',\n",
       " '中央流行疫情指揮中心發言人莊人祥今天晚間接受媒體聯訪時表示，自去年3月中旬接種COVID-19疫苗起，此案為目前核予救濟的最高金額者，已達法定最高救濟金額上限，更創下預防接種受害救濟制度創辦以來，在所有種類疫苗接種救濟中，首度出現救濟金600萬元。',\n",
       " '中央流行疫情指揮中心原規劃COVID-19（2019冠狀病毒疾病）疫苗第10輪10月3日開放接種BNT疫苗第1劑及高端第2劑，但考量AZ疫苗第2劑由縣市造冊不易，50歲至64歲改為線上預約，且BNT疫苗因到貨日延至30日還須再評估開打時程，指揮中心今天更正疫苗預約平台第10輪接種規劃。',\n",
       " '憂國內疫情恐受長榮機師確診影響，前疾管局局長蘇益仁近期呼籲，儘速開放民眾接種第2劑疫苗；對此，陳時中重申，國內疫苗接種策略仍是希望第1劑疫苗接種到一定程度後，再啟動第2劑施打計畫，同步視進貨量滾動式檢討。',\n",
       " '疫情指揮中心指揮官陳時中今天表示，AZ疫苗約52.4萬劑，預定下午3時40分抵達桃園國際機場，本批效期至110年12月31日，希望國內施打對象年齡層再往下開放。',\n",
       " '陳時中今天下午在中央流行疫情指揮中心記者會中表示，今天到貨的52.4萬劑AZ疫苗待完成通關程序後，直接運送至指定冷儲物流中心進行後續檢驗封緘作業，再提供COVID-19接種計畫所列實施對象接種。',\n",
       " 'COVID-19（2019冠狀病毒疾病）疫苗供貨吃緊，根據中央流行疫情指揮中心最新統計，國內莫德納疫苗僅剩68.9萬劑，阿斯特捷利康（AZ）疫苗則剩57.5萬劑，加上仍在檢驗封緘的AZ疫苗共有約117萬劑。',\n",
       " '中央流行疫情指揮中心今天表示，自購AZ疫苗約136萬劑預定於今天下午抵達桃園國際機場，本批效期至111年1月31日，預計提供第12輪的COVID-19疫苗施打。',\n",
       " '中央流行疫情指揮中心指揮官陳時中今天下午記者會中說明，這批AZ疫苗待完成通關程序後，直接運送至指定冷儲物流中心進行後續檢驗封緘作業，再提供COVID-19（2019冠狀病毒疾病）疫苗接種計畫所列實施對象接種。',\n",
       " '國內COVID-19（2019冠狀病毒疾病）疫情收斂，疫苗打氣趨緩。']"
      ]
     },
     "execution_count": 146,
     "metadata": {},
     "output_type": "execute_result"
    }
   ],
   "source": [
    "get_same_para(df_query, user_keywords, 'and', k=10)"
   ]
  },
  {
   "cell_type": "code",
   "execution_count": 147,
   "metadata": {},
   "outputs": [
    {
     "data": {
      "text/html": [
       "<div>\n",
       "<style scoped>\n",
       "    .dataframe tbody tr th:only-of-type {\n",
       "        vertical-align: middle;\n",
       "    }\n",
       "\n",
       "    .dataframe tbody tr th {\n",
       "        vertical-align: top;\n",
       "    }\n",
       "\n",
       "    .dataframe thead th {\n",
       "        text-align: right;\n",
       "    }\n",
       "</style>\n",
       "<table border=\"1\" class=\"dataframe\">\n",
       "  <thead>\n",
       "    <tr style=\"text-align: right;\">\n",
       "      <th></th>\n",
       "      <th>categories</th>\n",
       "      <th>titles</th>\n",
       "      <th>contents</th>\n",
       "      <th>sentiment</th>\n",
       "      <th>summary</th>\n",
       "      <th>top_key_freq</th>\n",
       "      <th>tokens</th>\n",
       "      <th>tokens_v2</th>\n",
       "      <th>entities</th>\n",
       "      <th>token_pos</th>\n",
       "      <th>urls</th>\n",
       "    </tr>\n",
       "  </thead>\n",
       "  <tbody>\n",
       "    <tr>\n",
       "      <th>0</th>\n",
       "      <td>AZ</td>\n",
       "      <td>澎湖確診數升 兒童疫苗接種率已逾7成</td>\n",
       "      <td>澎湖COVID-19（2019冠狀病毒疾病）確診數攀升，澎湖縣政府今天公布新增182例，還有...</td>\n",
       "      <td>0.0</td>\n",
       "      <td>['澎湖5至11歲兒童疫苗接種種率已逾7成', '澎湖縣政府今天公布新增182例確診案例',...</td>\n",
       "      <td>[('澎湖', 5), ('疫苗', 5), ('接種', 4), ('確診', 3), (...</td>\n",
       "      <td>['澎湖', 'COVID-19', '（', '2019', '冠狀', '病毒', '疾...</td>\n",
       "      <td>['澎湖', '冠狀', '病毒', '疾病', '確診數', '澎湖縣', '政府', '...</td>\n",
       "      <td>[NerToken(word='澎湖', ner='GPE', idx=(0, 2)), N...</td>\n",
       "      <td>[('澎湖', 'Nc'), ('COVID-19', 'FW'), ('（', 'PARE...</td>\n",
       "      <td>https://news.google.com/articles/CBMiMmh0dHBzO...</td>\n",
       "    </tr>\n",
       "  </tbody>\n",
       "</table>\n",
       "</div>"
      ],
      "text/plain": [
       "  categories              titles  \\\n",
       "0         AZ  澎湖確診數升 兒童疫苗接種率已逾7成   \n",
       "\n",
       "                                            contents  sentiment  \\\n",
       "0  澎湖COVID-19（2019冠狀病毒疾病）確診數攀升，澎湖縣政府今天公布新增182例，還有...        0.0   \n",
       "\n",
       "                                             summary  \\\n",
       "0  ['澎湖5至11歲兒童疫苗接種種率已逾7成', '澎湖縣政府今天公布新增182例確診案例',...   \n",
       "\n",
       "                                        top_key_freq  \\\n",
       "0  [('澎湖', 5), ('疫苗', 5), ('接種', 4), ('確診', 3), (...   \n",
       "\n",
       "                                              tokens  \\\n",
       "0  ['澎湖', 'COVID-19', '（', '2019', '冠狀', '病毒', '疾...   \n",
       "\n",
       "                                           tokens_v2  \\\n",
       "0  ['澎湖', '冠狀', '病毒', '疾病', '確診數', '澎湖縣', '政府', '...   \n",
       "\n",
       "                                            entities  \\\n",
       "0  [NerToken(word='澎湖', ner='GPE', idx=(0, 2)), N...   \n",
       "\n",
       "                                           token_pos  \\\n",
       "0  [('澎湖', 'Nc'), ('COVID-19', 'FW'), ('（', 'PARE...   \n",
       "\n",
       "                                                urls  \n",
       "0  https://news.google.com/articles/CBMiMmh0dHBzO...  "
      ]
     },
     "execution_count": 147,
     "metadata": {},
     "output_type": "execute_result"
    }
   ],
   "source": [
    "df_query.head(1)"
   ]
  },
  {
   "cell_type": "code",
   "execution_count": 148,
   "metadata": {},
   "outputs": [
    {
     "data": {
      "text/plain": [
       "'澎湖COVID-19（2019冠狀病毒疾病）確診數攀升，澎湖縣政府今天公布新增182例，還有一名接種2劑疫苗的92歲確診女性不治。另外，澎湖5至11歲兒童疫苗接種種率已逾7成。澎湖縣政府表示，92歲女性長者己施打過2劑AZ疫苗，6日經診所通報確診，申請居家照護，7日因呼吸急性衰竭，送衛福部澎湖醫院急診，今天凌晨不幸過世，確切死因仍需由中央疫情指揮中心認定。澎湖縣政府表示，澎湖5至11歲兒童疫苗接種，全縣37所國小和9所幼兒園4569名學童中，目前完成莫德納與輝瑞兒童疫苗接種者，分別有1108和2278人，接種率逾7成。澎湖縣政府今天公布新增182例確診案例，外籍人士4例、外縣市1例，其餘177例均為澎湖籍，以20至29歲和30至39歲年齡層，各為31人最多，年紀最小是10個月大男童，最長為101歲女性，除集中檢疫所和三總各收治1例外，其餘全數申請居家照護照。澎湖累積有3896例確診，目前還收治有1030人。'"
      ]
     },
     "execution_count": 148,
     "metadata": {},
     "output_type": "execute_result"
    }
   ],
   "source": [
    "text = df_query.contents.iloc[0]\n",
    "text"
   ]
  },
  {
   "cell_type": "code",
   "execution_count": 149,
   "metadata": {},
   "outputs": [
    {
     "data": {
      "text/plain": [
       "['澎湖COVID-19（2019冠狀病毒疾病）確診數攀升，澎湖縣政府今天公布新增182例，還有一名接種2劑疫苗的92歲確診女性不治',\n",
       " '另外，澎湖5至11歲兒童疫苗接種種率已逾7成',\n",
       " '澎湖縣政府表示，92歲女性長者己施打過2劑AZ疫苗，6日經診所通報確診，申請居家照護，7日因呼吸急性衰竭，送衛福部澎湖醫院急診，今天凌晨不幸過世，確切死因仍需由中央疫情指揮中心認定',\n",
       " '澎湖縣政府表示，澎湖5至11歲兒童疫苗接種，全縣37所國小和9所幼兒園4569名學童中，目前完成莫德納與輝瑞兒童疫苗接種者，分別有1108和2278人，接種率逾7成',\n",
       " '澎湖縣政府今天公布新增182例確診案例，外籍人士4例、外縣市1例，其餘177例均為澎湖籍，以20至29歲和30至39歲年齡層，各為31人最多，年紀最小是10個月大男童，最長為101歲女性，除集中檢疫所和三總各收治1例外，其餘全數申請居家照護照',\n",
       " '澎湖累積有3896例確診，目前還收治有1030人']"
      ]
     },
     "execution_count": 149,
     "metadata": {},
     "output_type": "execute_result"
    }
   ],
   "source": [
    "paragraphs = cut_paragraph(text)\n",
    "paragraphs"
   ]
  },
  {
   "cell_type": "code",
   "execution_count": 150,
   "metadata": {},
   "outputs": [
    {
     "data": {
      "text/plain": [
       "['澎湖縣政府表示，92歲女性長者己施打過2劑AZ疫苗，6日經診所通報確診，申請居家照護，7日因呼吸急性衰竭，送衛福部澎湖醫院急診，今天凌晨不幸過世，確切死因仍需由中央疫情指揮中心認定。']"
      ]
     },
     "execution_count": 150,
     "metadata": {},
     "output_type": "execute_result"
    }
   ],
   "source": [
    "# Find out all paragraphs where multiple keywords occur.\n",
    "user_keywords = ['疫情','疫苗']\n",
    "cond='and'\n",
    "same_para=[] # 存放含有關鍵字的段落\n",
    "for para in paragraphs:\n",
    "    para += \"。\" # 在每段落文字後面加一個句號。\n",
    "    # 判斷每個段落文字是否包含該關鍵字，and or分開判斷\n",
    "    if cond=='and': \n",
    "        if all([kw in para for kw in user_keywords]):\n",
    "            same_para.append(para) # 符合條件的段落para保存起來\n",
    "    elif cond=='or':\n",
    "        if any([kw in para for kw in user_keywords]):\n",
    "            same_para.append(para)  # 符合條件的段落para保存起來\n",
    "same_para"
   ]
  },
  {
   "cell_type": "code",
   "execution_count": null,
   "metadata": {},
   "outputs": [],
   "source": []
  },
  {
   "cell_type": "markdown",
   "metadata": {},
   "source": [
    "## Django function"
   ]
  },
  {
   "cell_type": "code",
   "execution_count": 151,
   "metadata": {},
   "outputs": [
    {
     "ename": "ModuleNotFoundError",
     "evalue": "No module named 'app_user_keyword'",
     "output_type": "error",
     "traceback": [
      "\u001b[1;31m---------------------------------------------------------------------------\u001b[0m",
      "\u001b[1;31mModuleNotFoundError\u001b[0m                       Traceback (most recent call last)",
      "\u001b[1;32mc:\\Users\\Chun-Ching\\Desktop\\BigData_final\\keyword_query\\googlenews_search.ipynb Cell 77'\u001b[0m in \u001b[0;36m<cell line: 28>\u001b[1;34m()\u001b[0m\n\u001b[0;32m     <a href='vscode-notebook-cell:/c%3A/Users/Chun-Ching/Desktop/BigData_final/keyword_query/googlenews_search.ipynb#ch0000013?line=20'>21</a>\u001b[0m     df \u001b[39m=\u001b[39m pd\u001b[39m.\u001b[39mread_csv(\u001b[39m'\u001b[39m\u001b[39mvaccine_preprocessed.csv\u001b[39m\u001b[39m'\u001b[39m, sep\u001b[39m=\u001b[39m\u001b[39m'\u001b[39m\u001b[39m|\u001b[39m\u001b[39m'\u001b[39m)\n\u001b[0;32m     <a href='vscode-notebook-cell:/c%3A/Users/Chun-Ching/Desktop/BigData_final/keyword_query/googlenews_search.ipynb#ch0000013?line=22'>23</a>\u001b[0m \u001b[39m# (3) df can be import from app_user_keyword 隔壁app的變數\u001b[39;00m\n\u001b[0;32m     <a href='vscode-notebook-cell:/c%3A/Users/Chun-Ching/Desktop/BigData_final/keyword_query/googlenews_search.ipynb#ch0000013?line=23'>24</a>\u001b[0m \u001b[39m# To save memory, we just import df from the other app as follows.\u001b[39;00m\n\u001b[0;32m     <a href='vscode-notebook-cell:/c%3A/Users/Chun-Ching/Desktop/BigData_final/keyword_query/googlenews_search.ipynb#ch0000013?line=24'>25</a>\u001b[0m \u001b[39m# from app_user_keyword.views import df\u001b[39;00m\n\u001b[0;32m     <a href='vscode-notebook-cell:/c%3A/Users/Chun-Ching/Desktop/BigData_final/keyword_query/googlenews_search.ipynb#ch0000013?line=25'>26</a>\u001b[0m \n\u001b[0;32m     <a href='vscode-notebook-cell:/c%3A/Users/Chun-Ching/Desktop/BigData_final/keyword_query/googlenews_search.ipynb#ch0000013?line=26'>27</a>\u001b[0m \u001b[39m# (4) df can be import from app_user_keyword  隔壁app的變數\u001b[39;00m\n\u001b[1;32m---> <a href='vscode-notebook-cell:/c%3A/Users/Chun-Ching/Desktop/BigData_final/keyword_query/googlenews_search.ipynb#ch0000013?line=27'>28</a>\u001b[0m \u001b[39mimport\u001b[39;00m \u001b[39mapp_user_keyword\u001b[39;00m\u001b[39m.\u001b[39;00m\u001b[39mviews\u001b[39;00m \u001b[39mas\u001b[39;00m \u001b[39muserkeyword_views\u001b[39;00m\n\u001b[0;32m     <a href='vscode-notebook-cell:/c%3A/Users/Chun-Ching/Desktop/BigData_final/keyword_query/googlenews_search.ipynb#ch0000013?line=28'>29</a>\u001b[0m \u001b[39mdef\u001b[39;00m \u001b[39mload_df_data\u001b[39m():\n\u001b[0;32m     <a href='vscode-notebook-cell:/c%3A/Users/Chun-Ching/Desktop/BigData_final/keyword_query/googlenews_search.ipynb#ch0000013?line=29'>30</a>\u001b[0m     \u001b[39m# import and use df from app_user_keyword \u001b[39;00m\n\u001b[0;32m     <a href='vscode-notebook-cell:/c%3A/Users/Chun-Ching/Desktop/BigData_final/keyword_query/googlenews_search.ipynb#ch0000013?line=30'>31</a>\u001b[0m     \u001b[39mglobal\u001b[39;00m df \u001b[39m# global variable\u001b[39;00m\n",
      "\u001b[1;31mModuleNotFoundError\u001b[0m: No module named 'app_user_keyword'"
     ]
    }
   ],
   "source": [
    "from django.shortcuts import render\n",
    "from django.views.decorators.csrf import csrf_exempt\n",
    "from django.http import JsonResponse\n",
    "\n",
    "from datetime import datetime, timedelta\n",
    "import pandas as pd\n",
    "import math\n",
    "import re\n",
    "from collections import Counter\n",
    "\n",
    "# (1) we can load data using read_csv() 自己app的csv檔案\n",
    "# global variable\n",
    "# df = pd.read_csv('dataset/cna_news_200_preprocessed.csv', sep='|')\n",
    "\n",
    "\n",
    "# (2) we can load data using reload_df_data() function 隔壁app的csv檔案\n",
    "# global variable\n",
    "def load_df_data_v1():\n",
    "    # global variable\n",
    "    global  df\n",
    "    df = pd.read_csv('vaccine_preprocessed.csv', sep='|')\n",
    "\n",
    "# (3) df can be import from app_user_keyword 隔壁app的變數\n",
    "# To save memory, we just import df from the other app as follows.\n",
    "# from app_user_keyword.views import df\n",
    "\n",
    "# (4) df can be import from app_user_keyword  隔壁app的變數\n",
    "import app_user_keyword.views as userkeyword_views\n",
    "def load_df_data():\n",
    "    # import and use df from app_user_keyword \n",
    "    global df # global variable\n",
    "    df = userkeyword_views.df\n",
    "\n",
    "load_df_data()\n",
    "\n",
    "\n",
    "# For the key association analysis\n",
    "def home(request):\n",
    "    return render(request, 'app_user_keyword_association/home.html')\n",
    "\n",
    "# df_query should be global\n",
    "@csrf_exempt\n",
    "def api_get_userkey_associate(request):\n",
    "\n",
    "    userkey = request.POST.get('userkey')\n",
    "    cate = request.POST['cate']  # This is an alternative way to get POST data.\n",
    "    cond = request.POST.get('cond')\n",
    "    key = userkey.split()\n",
    "\n",
    "    #global  df_query # global variable It's not necessary.\n",
    "\n",
    "    df_query = filter_dataFrame_fullText(key, cond, cate)\n",
    "    #print(key)\n",
    "    print(len(df_query))\n",
    "\n",
    "    if len(df_query) != 0:  # df_query is not empty\n",
    "        newslinks = get_title_link_topk(df_query, k=25)\n",
    "        related_words, clouddata = get_related_word_clouddata(df_query)\n",
    "        same_paragraph = get_same_para(\n",
    "            df_query, key, cond, k=30)  # multiple keywords\n",
    "        num_articles=len(df_query) # total number of articles (stories, items)\n",
    "\n",
    "    else:\n",
    "        newslinks = []\n",
    "        related_words = []\n",
    "        same_paragraph = []\n",
    "        clouddata = []\n",
    "        num_articles=0\n",
    "\n",
    "    response = {\n",
    "        'num_articles': num_articles,\n",
    "        'newslinks': newslinks,\n",
    "        'related_words': related_words,\n",
    "        'same_paragraph': same_paragraph,\n",
    "        'clouddata': clouddata,\n",
    "    }\n",
    "    return JsonResponse(response)\n",
    "\n",
    "\n",
    "# Searching keywords from \"content\" column\n",
    "# Here this function uses df.content column, while filter_dataFrame() uses df.tokens_v2\n",
    "def filter_dataFrame_fullText(user_keywords, cond, cate):\n",
    "    \n",
    "    # proceed filtering\n",
    "    if (cate == \"全部\"):\n",
    "        condition = (df.categories == 'AZ') | (df.categories == 'BNT') | (df.categories == '莫德納') | (df.categories == '高端')# \"全部\"類別不必過濾新聞種類\n",
    "    else:\n",
    "        # category新聞類別條件\n",
    "        condition = df.categories == cate\n",
    "\n",
    "    if (cond == 'and'):\n",
    "        # query keywords condition使用者輸入關鍵字條件and\n",
    "        condition = condition & df.contents.str.contains(''.join('(?=.*{})'.format(word) for word in user_keywords)) \n",
    "    elif (cond == 'or'):\n",
    "        # query keywords condition使用者輸入關鍵字條件\n",
    "        condition = condition & df.contents.str.contains('|'.join(user_keywords))\n",
    "    # condiction is a list of True or False boolean value\n",
    "    df_query = df[condition]\n",
    "\n",
    "    return df_query\n",
    "\n",
    "\n",
    "# get titles and links from k pieces of news \n",
    "def get_title_link_topk(df_query, k=25):\n",
    "    items = []\n",
    "    for i in range( len(df_query[0:k]) ): # show only 10 news\n",
    "        category = df_query.iloc[i]['categories']\n",
    "        title = df_query.iloc[i]['titles']\n",
    "        link = df_query.iloc[i]['urls']\n",
    "        \n",
    "        item_info = {\n",
    "            'categories': category, \n",
    "            'titles': title, \n",
    "            'urls': link, \n",
    "        }\n",
    "\n",
    "        items.append(item_info)\n",
    "    return items \n",
    "\n",
    "# Get related keywords by counting the top keywords of each news.\n",
    "# Notice:  do not name function as  \"get_related_keys\",\n",
    "# because this name is used in Django\n",
    "def get_related_word_clouddata(df_query):\n",
    "\n",
    "    # wf_pairs = get_related_words(df_query)\n",
    "    # prepare wf pairs \n",
    "    counter=Counter()\n",
    "    for idx in range(len(df_query)):\n",
    "        pair_dict = dict(eval(df_query.iloc[idx].top_key_freq))\n",
    "        counter += Counter(pair_dict)\n",
    "    wf_pairs = counter.most_common(20) #return list format\n",
    "\n",
    "    # cloud chart data\n",
    "    # the minimum and maximum frequency of top words\n",
    "    min_ = wf_pairs[-1][1]  # the last line is smaller\n",
    "    max_ = wf_pairs[0][1]\n",
    "    # text size based on the value of word frequency for drawing cloud chart\n",
    "    textSizeMin = 20\n",
    "    textSizeMax = 120\n",
    "    # Scaling frequency value into an interval of from 20 to 120.\n",
    "    clouddata = [{'text': w, 'size': int(textSizeMin + (f - min_) / (max_ - min_) * (textSizeMax - textSizeMin))}\n",
    "                 for w, f in wf_pairs]\n",
    "\n",
    "    return   wf_pairs, clouddata \n",
    "\n",
    "\n",
    "# Step1: split paragraphs in text 先將文章切成一個段落一個段落\n",
    "def cut_paragraph(text):\n",
    "    paragraphs = text.split('。')  # 遇到句號就切開\n",
    "    #paragraphs = re.split('。', text) # 遇到句號就切開\n",
    "    #paragraphs = re.split('[。！!？?]', text) # 遇到句號(也納入問號、驚嘆號、分號等)就切開\n",
    "    paragraphs = list(filter(None, paragraphs))\n",
    "    return paragraphs\n",
    "\n",
    "# Step2: Select all paragraphs where multiple keywords occur.\n",
    "\n",
    "\n",
    "def get_same_para(df_query, user_keywords, cond, k=30):\n",
    "    same_para = []\n",
    "    for text in df_query.contents:\n",
    "        #print(text)\n",
    "        paragraphs = cut_paragraph(text)\n",
    "        for para in paragraphs:\n",
    "            para += \"。\"\n",
    "            if cond == 'and':\n",
    "                if all([re.search(kw, para) for kw in user_keywords]):\n",
    "                    same_para.append(para)\n",
    "            elif cond == 'or':\n",
    "                if any([re.search(kw, para) for kw in user_keywords]):\n",
    "                    same_para.append(para)\n",
    "    return same_para[0:k]\n",
    "\n",
    "\n",
    "    \n",
    "print(\"app_user_keyword_association was loaded!\")\n"
   ]
  }
 ],
 "metadata": {
  "kernelspec": {
   "display_name": "Python 3.8.12 ('ai23')",
   "language": "python",
   "name": "python3"
  },
  "language_info": {
   "codemirror_mode": {
    "name": "ipython",
    "version": 3
   },
   "file_extension": ".py",
   "mimetype": "text/x-python",
   "name": "python",
   "nbconvert_exporter": "python",
   "pygments_lexer": "ipython3",
   "version": "3.8.12"
  },
  "orig_nbformat": 4,
  "vscode": {
   "interpreter": {
    "hash": "2524f329b5609d74e66f331aeb181c6a96d56433d7d7e2bf478ea5bf8e2b1439"
   }
  }
 },
 "nbformat": 4,
 "nbformat_minor": 2
}
