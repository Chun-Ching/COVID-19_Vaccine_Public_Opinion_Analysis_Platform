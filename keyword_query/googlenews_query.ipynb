{
 "cells": [
  {
   "cell_type": "code",
   "execution_count": 1,
   "metadata": {},
   "outputs": [],
   "source": [
    "import pandas as pd"
   ]
  },
  {
   "cell_type": "code",
   "execution_count": 2,
   "metadata": {},
   "outputs": [],
   "source": [
    "df = pd.read_csv('vaccine_preprocessed.csv',sep='|')"
   ]
  },
  {
   "cell_type": "code",
   "execution_count": 3,
   "metadata": {},
   "outputs": [
    {
     "data": {
      "text/html": [
       "<div>\n",
       "<style scoped>\n",
       "    .dataframe tbody tr th:only-of-type {\n",
       "        vertical-align: middle;\n",
       "    }\n",
       "\n",
       "    .dataframe tbody tr th {\n",
       "        vertical-align: top;\n",
       "    }\n",
       "\n",
       "    .dataframe thead th {\n",
       "        text-align: right;\n",
       "    }\n",
       "</style>\n",
       "<table border=\"1\" class=\"dataframe\">\n",
       "  <thead>\n",
       "    <tr style=\"text-align: right;\">\n",
       "      <th></th>\n",
       "      <th>categories</th>\n",
       "      <th>titles</th>\n",
       "      <th>contents</th>\n",
       "      <th>sentiment</th>\n",
       "      <th>summary</th>\n",
       "      <th>top_key_freq</th>\n",
       "      <th>tokens</th>\n",
       "      <th>tokens_v2</th>\n",
       "      <th>entities</th>\n",
       "      <th>token_pos</th>\n",
       "      <th>urls</th>\n",
       "    </tr>\n",
       "  </thead>\n",
       "  <tbody>\n",
       "    <tr>\n",
       "      <th>0</th>\n",
       "      <td>AZ</td>\n",
       "      <td>澎湖確診數升 兒童疫苗接種率已逾7成</td>\n",
       "      <td>澎湖COVID-19（2019冠狀病毒疾病）確診數攀升，澎湖縣政府今天公布新增182例，還有...</td>\n",
       "      <td>0.0</td>\n",
       "      <td>['澎湖5至11歲兒童疫苗接種種率已逾7成', '澎湖縣政府今天公布新增182例確診案例',...</td>\n",
       "      <td>[('澎湖', 5), ('疫苗', 5), ('接種', 4), ('確診', 3), (...</td>\n",
       "      <td>['澎湖', 'COVID-19', '（', '2019', '冠狀', '病毒', '疾...</td>\n",
       "      <td>['澎湖', '冠狀', '病毒', '疾病', '確診數', '澎湖縣', '政府', '...</td>\n",
       "      <td>[NerToken(word='澎湖', ner='GPE', idx=(0, 2)), N...</td>\n",
       "      <td>[('澎湖', 'Nc'), ('COVID-19', 'FW'), ('（', 'PARE...</td>\n",
       "      <td>https://news.google.com/articles/CBMiMmh0dHBzO...</td>\n",
       "    </tr>\n",
       "  </tbody>\n",
       "</table>\n",
       "</div>"
      ],
      "text/plain": [
       "  categories              titles  \\\n",
       "0         AZ  澎湖確診數升 兒童疫苗接種率已逾7成   \n",
       "\n",
       "                                            contents  sentiment  \\\n",
       "0  澎湖COVID-19（2019冠狀病毒疾病）確診數攀升，澎湖縣政府今天公布新增182例，還有...        0.0   \n",
       "\n",
       "                                             summary  \\\n",
       "0  ['澎湖5至11歲兒童疫苗接種種率已逾7成', '澎湖縣政府今天公布新增182例確診案例',...   \n",
       "\n",
       "                                        top_key_freq  \\\n",
       "0  [('澎湖', 5), ('疫苗', 5), ('接種', 4), ('確診', 3), (...   \n",
       "\n",
       "                                              tokens  \\\n",
       "0  ['澎湖', 'COVID-19', '（', '2019', '冠狀', '病毒', '疾...   \n",
       "\n",
       "                                           tokens_v2  \\\n",
       "0  ['澎湖', '冠狀', '病毒', '疾病', '確診數', '澎湖縣', '政府', '...   \n",
       "\n",
       "                                            entities  \\\n",
       "0  [NerToken(word='澎湖', ner='GPE', idx=(0, 2)), N...   \n",
       "\n",
       "                                           token_pos  \\\n",
       "0  [('澎湖', 'Nc'), ('COVID-19', 'FW'), ('（', 'PARE...   \n",
       "\n",
       "                                                urls  \n",
       "0  https://news.google.com/articles/CBMiMmh0dHBzO...  "
      ]
     },
     "execution_count": 3,
     "metadata": {},
     "output_type": "execute_result"
    }
   ],
   "source": [
    "df.head(1)"
   ]
  },
  {
   "cell_type": "code",
   "execution_count": 40,
   "metadata": {},
   "outputs": [],
   "source": [
    "# Searching keywords from \"token_v2\" column\n",
    "def filter_dataFrame(user_keywords, cond, cate):\n",
    "\n",
    "    # proceed filtering\n",
    "    if (cate == \"全部\") & (cond == 'and'):\n",
    "        query_df = df.tokens_v2.apply(lambda text: all((qk in text) for qk in user_keywords))\n",
    "    elif (cate == \"全部\") & (cond == 'or'):\n",
    "        query_df = df.tokens_v2.apply(lambda text: any((qk in text) for qk in user_keywords))\n",
    "    elif (cond == 'and'):\n",
    "        query_df = df[(df.categories == cate)  \n",
    "            & df.tokens_v2.apply(lambda text: all((qk in text) for qk in user_keywords))]\n",
    "    elif (cond == 'or'):\n",
    "        query_df = df[(df.ccategories == cate) \n",
    "            & df.tokens_v2.apply(lambda text: any((qk in text) for qk in user_keywords))]\n",
    "    \n",
    "    return query_df"
   ]
  },
  {
   "cell_type": "code",
   "execution_count": 41,
   "metadata": {},
   "outputs": [],
   "source": [
    "user_keywords=['烏克蘭','台灣']\n",
    "cond='and'\n",
    "cate='AZ'\n",
    "df_query = filter_dataFrame(user_keywords, cond, cate)"
   ]
  },
  {
   "cell_type": "code",
   "execution_count": 42,
   "metadata": {},
   "outputs": [],
   "source": [
    "user_keywords=['烏克蘭','台灣']\n",
    "cond='and'\n",
    "cate='AZ'\n"
   ]
  },
  {
   "cell_type": "code",
   "execution_count": 43,
   "metadata": {},
   "outputs": [
    {
     "data": {
      "text/plain": [
       "1"
      ]
     },
     "execution_count": 43,
     "metadata": {},
     "output_type": "execute_result"
    }
   ],
   "source": [
    "query_df = df[(\n",
    "    df.categories == cate)   # category\n",
    "    & df.tokens_v2.apply(lambda row: all((qk in row) for qk in user_keywords)) # user keywords\n",
    "    ]\n",
    "len(query_df)"
   ]
  },
  {
   "cell_type": "code",
   "execution_count": 44,
   "metadata": {},
   "outputs": [],
   "source": [
    "user_keywords=['烏克蘭','台灣']\n",
    "cond='and'\n",
    "cate='全部'"
   ]
  },
  {
   "cell_type": "code",
   "execution_count": 45,
   "metadata": {},
   "outputs": [],
   "source": [
    "if (cate == \"全部\") & (cond == 'and'):\n",
    "    query_df = df[\n",
    "        df.tokens_v2.apply(lambda row: all((qk in row) for qk in user_keywords))\n",
    "        ]\n",
    "elif (cate == \"全部\") & (cond == 'or'):\n",
    "    query_df = df[\n",
    "        df.tokens_v2.apply(lambda row: any((qk in row) for qk in user_keywords))]"
   ]
  },
  {
   "cell_type": "code",
   "execution_count": 46,
   "metadata": {},
   "outputs": [
    {
     "data": {
      "text/plain": [
       "3"
      ]
     },
     "execution_count": 46,
     "metadata": {},
     "output_type": "execute_result"
    }
   ],
   "source": [
    "len(query_df)"
   ]
  },
  {
   "cell_type": "code",
   "execution_count": null,
   "metadata": {},
   "outputs": [],
   "source": []
  },
  {
   "cell_type": "code",
   "execution_count": 10,
   "metadata": {},
   "outputs": [],
   "source": [
    "# Searching keywords from \"content\" column\n",
    "# Here this function uses df.content column, while filter_dataFrame() uses df.tokens_v2\n",
    "def filter_dataFrame_fullText(user_keywords, cond, cate):\n",
    "\n",
    "    # proceed filtering\n",
    "    if (cate == \"全部\") & (cond == 'and'):\n",
    "        df_query = df.content.apply(lambda text: all((qk in text) for qk in user_keywords))\n",
    "    elif (cate == \"全部\") & (cond == 'or'):\n",
    "        df_query = df.content.apply(lambda text: any((qk in text) for qk in user_keywords))\n",
    "    elif (cond == 'and'):\n",
    "        df_query = df[(df.categories == cate)  \n",
    "            & df.content.apply(lambda text: all((qk in text) for qk in user_keywords))]\n",
    "    elif (cond == 'or'):\n",
    "        df_query = df[(df.categories == cate) \n",
    "            & df.content.apply(lambda text: any((qk in text) for qk in user_keywords))]\n",
    "\n",
    "    return df_query"
   ]
  },
  {
   "cell_type": "code",
   "execution_count": 12,
   "metadata": {},
   "outputs": [
    {
     "data": {
      "text/plain": [
       "796"
      ]
     },
     "execution_count": 12,
     "metadata": {},
     "output_type": "execute_result"
    }
   ],
   "source": [
    "user_keywords=['陳時中','疫苗']\n",
    "cond='and'\n",
    "cate='全部'\n",
    "df_query = filter_dataFrame(user_keywords, cond, cate)\n",
    "len(df_query)"
   ]
  },
  {
   "cell_type": "code",
   "execution_count": 31,
   "metadata": {},
   "outputs": [
    {
     "data": {
      "text/plain": [
       "57"
      ]
     },
     "execution_count": 31,
     "metadata": {},
     "output_type": "execute_result"
    }
   ],
   "source": [
    "user_keywords=['陳時中','疫苗']\n",
    "cond='and'\n",
    "cate='AZ'\n",
    "df_query = filter_dataFrame(user_keywords, cond, cate)\n",
    "len(df_query)"
   ]
  },
  {
   "cell_type": "code",
   "execution_count": 37,
   "metadata": {},
   "outputs": [
    {
     "data": {
      "text/html": [
       "<div>\n",
       "<style scoped>\n",
       "    .dataframe tbody tr th:only-of-type {\n",
       "        vertical-align: middle;\n",
       "    }\n",
       "\n",
       "    .dataframe tbody tr th {\n",
       "        vertical-align: top;\n",
       "    }\n",
       "\n",
       "    .dataframe thead th {\n",
       "        text-align: right;\n",
       "    }\n",
       "</style>\n",
       "<table border=\"1\" class=\"dataframe\">\n",
       "  <thead>\n",
       "    <tr style=\"text-align: right;\">\n",
       "      <th></th>\n",
       "      <th>categories</th>\n",
       "      <th>titles</th>\n",
       "      <th>contents</th>\n",
       "      <th>sentiment</th>\n",
       "      <th>summary</th>\n",
       "      <th>top_key_freq</th>\n",
       "      <th>tokens</th>\n",
       "      <th>tokens_v2</th>\n",
       "      <th>entities</th>\n",
       "      <th>token_pos</th>\n",
       "      <th>urls</th>\n",
       "    </tr>\n",
       "  </thead>\n",
       "  <tbody>\n",
       "    <tr>\n",
       "      <th>4</th>\n",
       "      <td>AZ</td>\n",
       "      <td>AZ疫苗第2劑本週開放50至64歲預約 可望雙十連假前開打</td>\n",
       "      <td>指揮中心今天公布，AZ疫苗第2劑改由線上預約，即起開放9月30日前間隔滿10週以上50歲至6...</td>\n",
       "      <td>0.0</td>\n",
       "      <td>['中央流行疫情指揮中心原規劃COVID-19（2019冠狀病毒疾病）疫苗第10輪10月3日...</td>\n",
       "      <td>[('疫苗', 12), ('預約', 8), ('接種', 7), ('意願', 6), ...</td>\n",
       "      <td>['指揮', '中心', '今天', '公布', '，', 'AZ', '疫苗', '第2'...</td>\n",
       "      <td>['指揮', '中心', '疫苗', '線上', '預約', '開放', '間隔', '民眾...</td>\n",
       "      <td>[NerToken(word='今天', ner='DATE', idx=(4, 6)), ...</td>\n",
       "      <td>[('指揮', 'Na'), ('中心', 'Nc'), ('今天', 'Nd'), ('公...</td>\n",
       "      <td>https://news.google.com/articles/CBMiN2h0dHBzO...</td>\n",
       "    </tr>\n",
       "  </tbody>\n",
       "</table>\n",
       "</div>"
      ],
      "text/plain": [
       "  categories                         titles  \\\n",
       "4         AZ  AZ疫苗第2劑本週開放50至64歲預約 可望雙十連假前開打   \n",
       "\n",
       "                                            contents  sentiment  \\\n",
       "4  指揮中心今天公布，AZ疫苗第2劑改由線上預約，即起開放9月30日前間隔滿10週以上50歲至6...        0.0   \n",
       "\n",
       "                                             summary  \\\n",
       "4  ['中央流行疫情指揮中心原規劃COVID-19（2019冠狀病毒疾病）疫苗第10輪10月3日...   \n",
       "\n",
       "                                        top_key_freq  \\\n",
       "4  [('疫苗', 12), ('預約', 8), ('接種', 7), ('意願', 6), ...   \n",
       "\n",
       "                                              tokens  \\\n",
       "4  ['指揮', '中心', '今天', '公布', '，', 'AZ', '疫苗', '第2'...   \n",
       "\n",
       "                                           tokens_v2  \\\n",
       "4  ['指揮', '中心', '疫苗', '線上', '預約', '開放', '間隔', '民眾...   \n",
       "\n",
       "                                            entities  \\\n",
       "4  [NerToken(word='今天', ner='DATE', idx=(4, 6)), ...   \n",
       "\n",
       "                                           token_pos  \\\n",
       "4  [('指揮', 'Na'), ('中心', 'Nc'), ('今天', 'Nd'), ('公...   \n",
       "\n",
       "                                                urls  \n",
       "4  https://news.google.com/articles/CBMiN2h0dHBzO...  "
      ]
     },
     "execution_count": 37,
     "metadata": {},
     "output_type": "execute_result"
    }
   ],
   "source": [
    "df_query.head(1)"
   ]
  },
  {
   "cell_type": "code",
   "execution_count": null,
   "metadata": {},
   "outputs": [],
   "source": []
  },
  {
   "cell_type": "code",
   "execution_count": 38,
   "metadata": {},
   "outputs": [],
   "source": [
    "# For the query_df, count the occurence and frequency for each category.\n",
    "\n",
    "# (1) cate_occurence={}  被多少篇新聞報導 How many pieces of news contain the keywords.\n",
    "# (2) cate_freq={}       被提到多少次? How many times are the keywords mentioned\n",
    "\n",
    "\n",
    "vaccine_categories = ['AZ', 'BNT', '莫德納', '高端', '全部']\n",
    "\n",
    "def count_keyword(query_df, user_keywords):\n",
    "    cate_occurence={}\n",
    "    cate_freq={}\n",
    "\n",
    "    for cate in vaccine_categories:\n",
    "        cate_occurence[cate]=0\n",
    "        cate_freq[cate]=0\n",
    "\n",
    "    for idx, row in query_df.iterrows():\n",
    "        # count number of news\n",
    "        cate_occurence[row.categories] += 1\n",
    "        cate_occurence['全部'] += 1\n",
    "        \n",
    "        # count user keyword frequency by checking every word in tokens_v2\n",
    "        tokens = eval(row.tokens_v2)\n",
    "        freq =  len([word for word in tokens if (word in user_keywords)])\n",
    "        cate_freq[row.categories] += freq\n",
    "        cate_freq['全部'] += freq\n",
    "        \n",
    "    return cate_freq, cate_occurence"
   ]
  },
  {
   "cell_type": "code",
   "execution_count": 48,
   "metadata": {},
   "outputs": [
    {
     "data": {
      "text/plain": [
       "({'AZ': 2, 'BNT': 0, '莫德納': 0, '高端': 0, '全部': 2},\n",
       " {'AZ': 1, 'BNT': 0, '莫德納': 0, '高端': 0, '全部': 1})"
      ]
     },
     "execution_count": 48,
     "metadata": {},
     "output_type": "execute_result"
    }
   ],
   "source": [
    "user_keywords=['陳時中','疫苗']\n",
    "count_keyword(df_query, user_keywords)"
   ]
  },
  {
   "cell_type": "code",
   "execution_count": null,
   "metadata": {},
   "outputs": [],
   "source": []
  }
 ],
 "metadata": {
  "kernelspec": {
   "display_name": "Python 3.8.12 ('ai23')",
   "language": "python",
   "name": "python3"
  },
  "language_info": {
   "codemirror_mode": {
    "name": "ipython",
    "version": 3
   },
   "file_extension": ".py",
   "mimetype": "text/x-python",
   "name": "python",
   "nbconvert_exporter": "python",
   "pygments_lexer": "ipython3",
   "version": "3.8.12"
  },
  "orig_nbformat": 4,
  "vscode": {
   "interpreter": {
    "hash": "2524f329b5609d74e66f331aeb181c6a96d56433d7d7e2bf478ea5bf8e2b1439"
   }
  }
 },
 "nbformat": 4,
 "nbformat_minor": 2
}
