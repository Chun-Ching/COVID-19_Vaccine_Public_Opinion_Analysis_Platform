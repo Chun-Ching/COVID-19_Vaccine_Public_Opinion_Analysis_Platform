{
 "cells": [
  {
   "cell_type": "code",
   "execution_count": 21,
   "metadata": {},
   "outputs": [],
   "source": [
    "import pandas as pd\n",
    "from datetime import datetime, timedelta\n",
    "\n",
    "df = pd.read_csv('vaccine_preprocessed_2.csv',sep='|')"
   ]
  },
  {
   "cell_type": "code",
   "execution_count": 22,
   "metadata": {},
   "outputs": [
    {
     "data": {
      "text/html": [
       "<div>\n",
       "<style scoped>\n",
       "    .dataframe tbody tr th:only-of-type {\n",
       "        vertical-align: middle;\n",
       "    }\n",
       "\n",
       "    .dataframe tbody tr th {\n",
       "        vertical-align: top;\n",
       "    }\n",
       "\n",
       "    .dataframe thead th {\n",
       "        text-align: right;\n",
       "    }\n",
       "</style>\n",
       "<table border=\"1\" class=\"dataframe\">\n",
       "  <thead>\n",
       "    <tr style=\"text-align: right;\">\n",
       "      <th></th>\n",
       "      <th>item_id</th>\n",
       "      <th>categories</th>\n",
       "      <th>titles</th>\n",
       "      <th>contents</th>\n",
       "      <th>sentiment</th>\n",
       "      <th>summary</th>\n",
       "      <th>top_key_freq</th>\n",
       "      <th>tokens</th>\n",
       "      <th>tokens_v2</th>\n",
       "      <th>entities</th>\n",
       "      <th>token_pos</th>\n",
       "      <th>urls</th>\n",
       "    </tr>\n",
       "  </thead>\n",
       "  <tbody>\n",
       "    <tr>\n",
       "      <th>0</th>\n",
       "      <td>1</td>\n",
       "      <td>AZ</td>\n",
       "      <td>澎湖確診數升 兒童疫苗接種率已逾7成</td>\n",
       "      <td>澎湖COVID-19（2019冠狀病毒疾病）確診數攀升，澎湖縣政府今天公布新增182例，還有...</td>\n",
       "      <td>0.0</td>\n",
       "      <td>['澎湖5至11歲兒童疫苗接種種率已逾7成', '澎湖縣政府今天公布新增182例確診案例',...</td>\n",
       "      <td>[('澎湖', 5), ('疫苗', 5), ('接種', 4), ('確診', 3), (...</td>\n",
       "      <td>['澎湖', 'COVID-19', '（', '2019', '冠狀', '病毒', '疾...</td>\n",
       "      <td>['澎湖', '冠狀', '病毒', '疾病', '確診數', '澎湖縣', '政府', '...</td>\n",
       "      <td>[NerToken(word='澎湖', ner='GPE', idx=(0, 2)), N...</td>\n",
       "      <td>[('澎湖', 'Nc'), ('COVID-19', 'FW'), ('（', 'PARE...</td>\n",
       "      <td>https://news.google.com/articles/CBMiMmh0dHBzO...</td>\n",
       "    </tr>\n",
       "  </tbody>\n",
       "</table>\n",
       "</div>"
      ],
      "text/plain": [
       "   item_id categories              titles  \\\n",
       "0        1         AZ  澎湖確診數升 兒童疫苗接種率已逾7成   \n",
       "\n",
       "                                            contents  sentiment  \\\n",
       "0  澎湖COVID-19（2019冠狀病毒疾病）確診數攀升，澎湖縣政府今天公布新增182例，還有...        0.0   \n",
       "\n",
       "                                             summary  \\\n",
       "0  ['澎湖5至11歲兒童疫苗接種種率已逾7成', '澎湖縣政府今天公布新增182例確診案例',...   \n",
       "\n",
       "                                        top_key_freq  \\\n",
       "0  [('澎湖', 5), ('疫苗', 5), ('接種', 4), ('確診', 3), (...   \n",
       "\n",
       "                                              tokens  \\\n",
       "0  ['澎湖', 'COVID-19', '（', '2019', '冠狀', '病毒', '疾...   \n",
       "\n",
       "                                           tokens_v2  \\\n",
       "0  ['澎湖', '冠狀', '病毒', '疾病', '確診數', '澎湖縣', '政府', '...   \n",
       "\n",
       "                                            entities  \\\n",
       "0  [NerToken(word='澎湖', ner='GPE', idx=(0, 2)), N...   \n",
       "\n",
       "                                           token_pos  \\\n",
       "0  [('澎湖', 'Nc'), ('COVID-19', 'FW'), ('（', 'PARE...   \n",
       "\n",
       "                                                urls  \n",
       "0  https://news.google.com/articles/CBMiMmh0dHBzO...  "
      ]
     },
     "execution_count": 22,
     "metadata": {},
     "output_type": "execute_result"
    }
   ],
   "source": [
    "df.head(1)"
   ]
  },
  {
   "cell_type": "code",
   "execution_count": 23,
   "metadata": {},
   "outputs": [
    {
     "data": {
      "text/plain": [
       "(796, 12)"
      ]
     },
     "execution_count": 23,
     "metadata": {},
     "output_type": "execute_result"
    }
   ],
   "source": [
    "df.shape"
   ]
  },
  {
   "cell_type": "code",
   "execution_count": 24,
   "metadata": {},
   "outputs": [],
   "source": [
    "def filter_df_via_tokens(query_keywords, cond, cate):\n",
    "    \n",
    "    # proceed filtering\n",
    "    if (cate == \"全部\"):\n",
    "        condition = (df.categories == 'AZ') | (df.categories == 'BNT') | (df.categories == '莫德納') | (df.categories == '高端')# \"全部\"類別不必過濾新聞種類\n",
    "    else:\n",
    "        # category新聞類別條件\n",
    "        condition = df.categories == cate\n",
    "\n",
    "    if (cond == 'and'):\n",
    "        # query keywords condition使用者輸入關鍵字條件and\n",
    "        condition = condition & df.tokens_v2.apply(lambda text: all((qk in text) for qk in query_keywords)) #寫法:all()\n",
    "    elif (cond == 'or'):\n",
    "        # query keywords condition使用者輸入關鍵字條件\n",
    "        condition = condition & df.tokens_v2.apply(lambda text: any((qk in text) for qk in query_keywords)) #寫法:any()\n",
    "    # condiction is a list of True or False boolean value\n",
    "    df_query = df[condition]\n",
    "\n",
    "    return df_query\n"
   ]
  },
  {
   "cell_type": "code",
   "execution_count": 25,
   "metadata": {},
   "outputs": [],
   "source": [
    "def filter_df_via_content(query_keywords, cond, cate):\n",
    "    \n",
    "    # proceed filtering\n",
    "    if (cate == \"全部\"):\n",
    "        condition = (df.categories == 'AZ') | (df.categories == 'BNT') | (df.categories == '莫德納') | (df.categories == '高端')# \"全部\"類別不必過濾新聞種類\n",
    "    else:\n",
    "        # category新聞類別條件\n",
    "        condition = df.categories == cate\n",
    "\n",
    "    if (cond == 'and'):\n",
    "        # query keywords condition使用者輸入關鍵字條件and\n",
    "        condition = condition & df.contents.apply(lambda text: all((qk in text) for qk in query_keywords)) #寫法:all()\n",
    "    elif (cond == 'or'):\n",
    "        # query keywords condition使用者輸入關鍵字條件\n",
    "        condition = condition & df.contents.apply(lambda text: any((qk in text) for qk in query_keywords)) #寫法:any()\n",
    "    # condiction is a list of True or False boolean value\n",
    "    df_query = df[condition]\n",
    "\n",
    "    return df_query"
   ]
  },
  {
   "cell_type": "code",
   "execution_count": 26,
   "metadata": {},
   "outputs": [],
   "source": [
    "# sentimental polarity score\n",
    "def get_article_sentiment(df_query):\n",
    "    # df_query = df[df['tokens'].str.contains(query_key)]\n",
    "    sentiCount = {'pos': 0, 'neg': 0, 'obj': 0}\n",
    "    sentiPercnt = {'pos': 0, 'neg': 0, 'obj': 0}\n",
    "    numberOfArticle = len(df_query)\n",
    "    for senti in df_query.sentiment:\n",
    "        # 判斷文章的情緒極性\n",
    "        if senti >= 0.75:\n",
    "            sentiCount['pos'] += 1\n",
    "        elif senti <= 0.4:\n",
    "            sentiCount['neg'] += 1\n",
    "        else:\n",
    "            sentiCount['obj'] += 1\n",
    "    for polar in sentiCount :\n",
    "        sentiPercnt[polar]=int(sentiCount[polar]/numberOfArticle*100)\n",
    "        #sentiPercnt[polar]=round(sentiCount[polar]/numberOfArticle,2)\n",
    "    return sentiCount, sentiPercnt\n"
   ]
  },
  {
   "cell_type": "code",
   "execution_count": 27,
   "metadata": {},
   "outputs": [],
   "source": [
    "query_keywords = ['陳時中']\n",
    "cond='or'\n",
    "cate='全部'\n",
    "df_query = filter_df_via_tokens(query_keywords, cond, cate)\n",
    "sentiCount, sentiPercnt = get_article_sentiment(df_query)"
   ]
  },
  {
   "cell_type": "code",
   "execution_count": 28,
   "metadata": {},
   "outputs": [
    {
     "data": {
      "text/plain": [
       "{'pos': 1, 'neg': 219, 'obj': 3}"
      ]
     },
     "execution_count": 28,
     "metadata": {},
     "output_type": "execute_result"
    }
   ],
   "source": [
    "sentiCount"
   ]
  },
  {
   "cell_type": "code",
   "execution_count": 29,
   "metadata": {},
   "outputs": [
    {
     "data": {
      "text/plain": [
       "{'pos': 0, 'neg': 98, 'obj': 1}"
      ]
     },
     "execution_count": 29,
     "metadata": {},
     "output_type": "execute_result"
    }
   ],
   "source": [
    "sentiPercnt"
   ]
  },
  {
   "cell_type": "code",
   "execution_count": 10,
   "metadata": {},
   "outputs": [
    {
     "data": {
      "text/plain": [
       "[0, 1, 98]"
      ]
     },
     "execution_count": 10,
     "metadata": {},
     "output_type": "execute_result"
    }
   ],
   "source": [
    "# sentiInfo = '正向:{}%, 中立:{}%, 負向:{}%'.format(str(sentiPercnt['pos']), str(sentiPercnt['obj']),\n",
    "#                                            str(sentiPercnt['neg']))\n",
    "[sentiPercnt[p] for p in ['pos', 'obj', 'neg']]"
   ]
  },
  {
   "cell_type": "code",
   "execution_count": null,
   "metadata": {},
   "outputs": [],
   "source": []
  },
  {
   "cell_type": "code",
   "execution_count": 31,
   "metadata": {},
   "outputs": [],
   "source": [
    "# **計算各類別多少篇文章提到該關鍵字\n",
    "# **計算各類別出現關鍵字次數\n",
    "\n",
    "news_categories = ['AZ', 'BNT', '莫德納', '高端', '全部']\n",
    "\n",
    "\n",
    "def count_keyword(df_query, query_keywords):\n",
    "\n",
    "    cate_occurrence = {}\n",
    "    cate_freq = {}\n",
    "    \n",
    "    # 字典初始化\n",
    "    for cate in news_categories:\n",
    "        cate_occurrence[cate] = 0   # {'政治':0, '科技':0}\n",
    "        cate_freq[cate] = 0\n",
    "\n",
    "    for idx, row in df_query.iterrows():\n",
    "        # count the number of articles各類別篇數統計\n",
    "        cate_occurrence[row.categories] += 1  #   {'政治':+1, '科技':0}\n",
    "        cate_occurrence['全部'] += 1\n",
    "        \n",
    "        # count the keyword frequency各類別次數統計\n",
    "        tokens = eval(row.tokens_v2)\n",
    "        # 計算這一篇文章的tokens中重複含有多少個這些關鍵字(頻率)\n",
    "        freq = len([word for word in tokens if (word in query_keywords)]) \n",
    "        cate_freq[row.categories] += freq # 在該新聞類別中累計頻率\n",
    "        cate_freq['全部'] += freq  # 在\"全部\"類別中累計頻率\n",
    "\n",
    "    total_articles = cate_occurrence['全部']  # len(df_query)\n",
    "    total_frequency = cate_freq['全部']\n",
    "\n",
    "\n",
    "    \n",
    "    return cate_freq, cate_occurrence, total_articles, total_frequency"
   ]
  },
  {
   "cell_type": "code",
   "execution_count": 32,
   "metadata": {},
   "outputs": [
    {
     "data": {
      "text/plain": [
       "({'AZ': 165, 'BNT': 177, '莫德納': 191, '高端': 197, '全部': 730},\n",
       " {'AZ': 60, 'BNT': 56, '莫德納': 57, '高端': 57, '全部': 230},\n",
       " 230,\n",
       " 730)"
      ]
     },
     "execution_count": 32,
     "metadata": {},
     "output_type": "execute_result"
    }
   ],
   "source": [
    "query_keywords = ['陳時中']\n",
    "cond='or'\n",
    "cate='全部'\n",
    "df_query = filter_df_via_content(query_keywords, cond, cate)\n",
    "count_keyword(df_query, query_keywords)"
   ]
  },
  {
   "cell_type": "code",
   "execution_count": 33,
   "metadata": {},
   "outputs": [
    {
     "data": {
      "text/html": [
       "<div>\n",
       "<style scoped>\n",
       "    .dataframe tbody tr th:only-of-type {\n",
       "        vertical-align: middle;\n",
       "    }\n",
       "\n",
       "    .dataframe tbody tr th {\n",
       "        vertical-align: top;\n",
       "    }\n",
       "\n",
       "    .dataframe thead th {\n",
       "        text-align: right;\n",
       "    }\n",
       "</style>\n",
       "<table border=\"1\" class=\"dataframe\">\n",
       "  <thead>\n",
       "    <tr style=\"text-align: right;\">\n",
       "      <th></th>\n",
       "      <th>item_id</th>\n",
       "      <th>categories</th>\n",
       "      <th>titles</th>\n",
       "      <th>contents</th>\n",
       "      <th>sentiment</th>\n",
       "      <th>summary</th>\n",
       "      <th>top_key_freq</th>\n",
       "      <th>tokens</th>\n",
       "      <th>tokens_v2</th>\n",
       "      <th>entities</th>\n",
       "      <th>token_pos</th>\n",
       "      <th>urls</th>\n",
       "    </tr>\n",
       "  </thead>\n",
       "  <tbody>\n",
       "    <tr>\n",
       "      <th>4</th>\n",
       "      <td>5</td>\n",
       "      <td>AZ</td>\n",
       "      <td>AZ疫苗第2劑本週開放50至64歲預約 可望雙十連假前開打</td>\n",
       "      <td>指揮中心今天公布，AZ疫苗第2劑改由線上預約，即起開放9月30日前間隔滿10週以上50歲至6...</td>\n",
       "      <td>0.0</td>\n",
       "      <td>['中央流行疫情指揮中心原規劃COVID-19（2019冠狀病毒疾病）疫苗第10輪10月3日...</td>\n",
       "      <td>[('疫苗', 12), ('預約', 8), ('接種', 7), ('意願', 6), ...</td>\n",
       "      <td>['指揮', '中心', '今天', '公布', '，', 'AZ', '疫苗', '第2'...</td>\n",
       "      <td>['指揮', '中心', '疫苗', '線上', '預約', '開放', '間隔', '民眾...</td>\n",
       "      <td>[NerToken(word='今天', ner='DATE', idx=(4, 6)), ...</td>\n",
       "      <td>[('指揮', 'Na'), ('中心', 'Nc'), ('今天', 'Nd'), ('公...</td>\n",
       "      <td>https://news.google.com/articles/CBMiN2h0dHBzO...</td>\n",
       "    </tr>\n",
       "  </tbody>\n",
       "</table>\n",
       "</div>"
      ],
      "text/plain": [
       "   item_id categories                         titles  \\\n",
       "4        5         AZ  AZ疫苗第2劑本週開放50至64歲預約 可望雙十連假前開打   \n",
       "\n",
       "                                            contents  sentiment  \\\n",
       "4  指揮中心今天公布，AZ疫苗第2劑改由線上預約，即起開放9月30日前間隔滿10週以上50歲至6...        0.0   \n",
       "\n",
       "                                             summary  \\\n",
       "4  ['中央流行疫情指揮中心原規劃COVID-19（2019冠狀病毒疾病）疫苗第10輪10月3日...   \n",
       "\n",
       "                                        top_key_freq  \\\n",
       "4  [('疫苗', 12), ('預約', 8), ('接種', 7), ('意願', 6), ...   \n",
       "\n",
       "                                              tokens  \\\n",
       "4  ['指揮', '中心', '今天', '公布', '，', 'AZ', '疫苗', '第2'...   \n",
       "\n",
       "                                           tokens_v2  \\\n",
       "4  ['指揮', '中心', '疫苗', '線上', '預約', '開放', '間隔', '民眾...   \n",
       "\n",
       "                                            entities  \\\n",
       "4  [NerToken(word='今天', ner='DATE', idx=(4, 6)), ...   \n",
       "\n",
       "                                           token_pos  \\\n",
       "4  [('指揮', 'Na'), ('中心', 'Nc'), ('今天', 'Nd'), ('公...   \n",
       "\n",
       "                                                urls  \n",
       "4  https://news.google.com/articles/CBMiN2h0dHBzO...  "
      ]
     },
     "execution_count": 33,
     "metadata": {},
     "output_type": "execute_result"
    }
   ],
   "source": [
    "df_query.head(1)"
   ]
  },
  {
   "cell_type": "code",
   "execution_count": 37,
   "metadata": {},
   "outputs": [],
   "source": [
    "# 定義PK對象\n",
    "# 通常會多個關鍵字代表該PK對象，['柯文哲','柯p','柯P']\n",
    "list_pkNames = ['AZ', 'BNT', '莫德納', '高端']\n",
    "list_pkKeywordSet = [['AZ'], ['BNT'], ['莫德納'], ['高端']]\n",
    "\n",
    "\n",
    "# 線條顏色\n",
    "list_colors = [\"rgba(0,128,255,0.2)\",'rgba(0,255,255,0.2)','rgba(0,0,255,0.2)', 'rgba(0,128,0,0.2)'] \n",
    "#list_colors = ['green', 'red', 'blue']\n",
    "\n",
    "# 人頭圖案\n",
    "list_photos = [\n",
    "    \"https://doqvf81n9htmm.cloudfront.net/data/changchi_177/%EF%BC%98%EF%BC%98%EF%BC%98/654654654654654654/shutterstock_1866527854.jpg\",\n",
    "    \"https://doqvf81n9htmm.cloudfront.net/data/changchi_177/%EF%BC%98%EF%BC%98%EF%BC%98/654654654654654654/shutterstock_1866787507.jpg\",\n",
    "    \"https://storage.googleapis.com/www-cw-com-tw/article/202202/article-620cda8fb4003.jpg\",\n",
    "    \"https://upload.wikimedia.org/wikipedia/zh/thumb/b/b3/Flag_of_Democratic_Progressive_Party.svg/1200px-Flag_of_Democratic_Progressive_Party.svg.png\"\n",
    "]\n",
    "\n",
    "# 準備長條圖 線圖 總篇數 總次數等數據\n",
    "list_freq_daily_line_chart = []\n",
    "list_freq_news_category = []\n",
    "list_sentimentInfo = []\n",
    "\n",
    "list_total_articles=[]\n",
    "list_total_frequency=[]\n",
    "\n",
    "cate = \"全部\"\n",
    "cond = 'or'\n",
    "\n",
    "selectedCategories = ['全部', 'AZ', 'BNT', '莫德納', '高端']\n",
    "# selectedCategories = ['全部','政治', '產經', '生活', '國際', '社會', '兩岸']\n",
    "\n",
    "for query_keywords in list_pkKeywordSet:\n",
    "\n",
    "    # Filter news   \n",
    "    df_query = filter_df_via_content(query_keywords, cond, cate)\n",
    "    #df_query = filter_df_via_tokens(df, query_keywords, cond, cate, weeks)\n",
    "    \n",
    "    # Get bar chart data, total articals and frequecy \n",
    "    cate_freq, cate_occurrence, total_articles, total_frequency = count_keyword(df_query, query_keywords)\n",
    "    list_total_articles.append(total_articles)\n",
    "    list_total_frequency.append(total_frequency)\n",
    "\n",
    "\n",
    "    # We select these categories to display: ['全部', '政治', '兩岸', '產經', '生活', '社會']\n",
    "    cate_freq = [cate_occurrence[k] for k in selectedCategories]\n",
    "    list_freq_news_category.append(cate_freq)\n",
    "\n",
    "    # Get sentiment information\n",
    "    sentiCount, sentiPercnt = get_article_sentiment(df_query)\n",
    "    #sentiInfo = '正向:{}%, 中立:{}%, 負向:{}%'.format(str(sentiPercnt['pos']), str(sentiPercnt['obj']),\n",
    "    #                                            str(sentiPercnt['neg']))\n",
    "    senti = [sentiPercnt[p] for p in ['pos','obj','neg']] # 只要取用pos,obj, neg的情緒數字篇數百分比\n",
    "    list_sentimentInfo.append(senti)\n",
    "\n",
    "# We need all the following data to display on our frontend page 有一大堆數據要送到前端去展示啊\n",
    "pk_data =  {\n",
    "           'list_pkNames': list_pkNames,\n",
    "           'list_colors': list_colors,\n",
    "           'list_photos': list_photos,\n",
    "           'list_freq_news_category': list_freq_news_category,\n",
    "           'list_category': selectedCategories,\n",
    "           'list_sentiInfo': list_sentimentInfo,\n",
    "           'list_total_articles': list_total_articles,\n",
    "           'list_total_frequency': list_total_frequency\n",
    "           }"
   ]
  },
  {
   "cell_type": "code",
   "execution_count": 38,
   "metadata": {},
   "outputs": [
    {
     "data": {
      "text/plain": [
       "{'list_pkNames': ['AZ', 'BNT', '莫德納', '高端'],\n",
       " 'list_colors': ['rgba(0,128,255,0.2)',\n",
       "  'rgba(0,255,255,0.2)',\n",
       "  'rgba(0,0,255,0.2)',\n",
       "  'rgba(0,128,0,0.2)'],\n",
       " 'list_photos': ['https://doqvf81n9htmm.cloudfront.net/data/changchi_177/%EF%BC%98%EF%BC%98%EF%BC%98/654654654654654654/shutterstock_1866527854.jpg',\n",
       "  'https://doqvf81n9htmm.cloudfront.net/data/changchi_177/%EF%BC%98%EF%BC%98%EF%BC%98/654654654654654654/shutterstock_1866787507.jpg',\n",
       "  'https://storage.googleapis.com/www-cw-com-tw/article/202202/article-620cda8fb4003.jpg',\n",
       "  'https://upload.wikimedia.org/wikipedia/zh/thumb/b/b3/Flag_of_Democratic_Progressive_Party.svg/1200px-Flag_of_Democratic_Progressive_Party.svg.png'],\n",
       " 'list_freq_news_category': [[335, 196, 33, 47, 59],\n",
       "  [471, 88, 193, 103, 87],\n",
       "  [528, 99, 100, 194, 135],\n",
       "  [244, 45, 37, 45, 117]],\n",
       " 'list_category': ['全部', 'AZ', 'BNT', '莫德納', '高端'],\n",
       " 'list_sentiInfo': [[4, 0, 95], [4, 0, 95], [4, 0, 95], [4, 0, 95]],\n",
       " 'list_total_articles': [335, 471, 528, 244],\n",
       " 'list_total_frequency': [13, 1, 2194, 73]}"
      ]
     },
     "execution_count": 38,
     "metadata": {},
     "output_type": "execute_result"
    }
   ],
   "source": [
    "pk_data"
   ]
  },
  {
   "cell_type": "code",
   "execution_count": null,
   "metadata": {},
   "outputs": [],
   "source": []
  },
  {
   "cell_type": "code",
   "execution_count": 39,
   "metadata": {},
   "outputs": [],
   "source": [
    "df_data_pk = pd.DataFrame(list(pk_data.items()),columns=['name','value'])"
   ]
  },
  {
   "cell_type": "code",
   "execution_count": 40,
   "metadata": {},
   "outputs": [
    {
     "data": {
      "text/html": [
       "<div>\n",
       "<style scoped>\n",
       "    .dataframe tbody tr th:only-of-type {\n",
       "        vertical-align: middle;\n",
       "    }\n",
       "\n",
       "    .dataframe tbody tr th {\n",
       "        vertical-align: top;\n",
       "    }\n",
       "\n",
       "    .dataframe thead th {\n",
       "        text-align: right;\n",
       "    }\n",
       "</style>\n",
       "<table border=\"1\" class=\"dataframe\">\n",
       "  <thead>\n",
       "    <tr style=\"text-align: right;\">\n",
       "      <th></th>\n",
       "      <th>name</th>\n",
       "      <th>value</th>\n",
       "    </tr>\n",
       "  </thead>\n",
       "  <tbody>\n",
       "    <tr>\n",
       "      <th>0</th>\n",
       "      <td>list_pkNames</td>\n",
       "      <td>[AZ, BNT, 莫德納, 高端]</td>\n",
       "    </tr>\n",
       "    <tr>\n",
       "      <th>1</th>\n",
       "      <td>list_colors</td>\n",
       "      <td>[rgba(0,128,255,0.2), rgba(0,255,255,0.2), rgb...</td>\n",
       "    </tr>\n",
       "    <tr>\n",
       "      <th>2</th>\n",
       "      <td>list_photos</td>\n",
       "      <td>[https://doqvf81n9htmm.cloudfront.net/data/cha...</td>\n",
       "    </tr>\n",
       "    <tr>\n",
       "      <th>3</th>\n",
       "      <td>list_freq_news_category</td>\n",
       "      <td>[[335, 196, 33, 47, 59], [471, 88, 193, 103, 8...</td>\n",
       "    </tr>\n",
       "    <tr>\n",
       "      <th>4</th>\n",
       "      <td>list_category</td>\n",
       "      <td>[全部, AZ, BNT, 莫德納, 高端]</td>\n",
       "    </tr>\n",
       "    <tr>\n",
       "      <th>5</th>\n",
       "      <td>list_sentiInfo</td>\n",
       "      <td>[[4, 0, 95], [4, 0, 95], [4, 0, 95], [4, 0, 95]]</td>\n",
       "    </tr>\n",
       "    <tr>\n",
       "      <th>6</th>\n",
       "      <td>list_total_articles</td>\n",
       "      <td>[335, 471, 528, 244]</td>\n",
       "    </tr>\n",
       "    <tr>\n",
       "      <th>7</th>\n",
       "      <td>list_total_frequency</td>\n",
       "      <td>[13, 1, 2194, 73]</td>\n",
       "    </tr>\n",
       "  </tbody>\n",
       "</table>\n",
       "</div>"
      ],
      "text/plain": [
       "                      name                                              value\n",
       "0             list_pkNames                                 [AZ, BNT, 莫德納, 高端]\n",
       "1              list_colors  [rgba(0,128,255,0.2), rgba(0,255,255,0.2), rgb...\n",
       "2              list_photos  [https://doqvf81n9htmm.cloudfront.net/data/cha...\n",
       "3  list_freq_news_category  [[335, 196, 33, 47, 59], [471, 88, 193, 103, 8...\n",
       "4            list_category                             [全部, AZ, BNT, 莫德納, 高端]\n",
       "5           list_sentiInfo   [[4, 0, 95], [4, 0, 95], [4, 0, 95], [4, 0, 95]]\n",
       "6      list_total_articles                               [335, 471, 528, 244]\n",
       "7     list_total_frequency                                  [13, 1, 2194, 73]"
      ]
     },
     "execution_count": 40,
     "metadata": {},
     "output_type": "execute_result"
    }
   ],
   "source": [
    "df_data_pk"
   ]
  },
  {
   "cell_type": "code",
   "execution_count": 41,
   "metadata": {},
   "outputs": [],
   "source": [
    "## 存成csv格式檔案\n",
    "df_data_pk.to_csv('pk_vaccine_election2.csv',sep=',', index=None)"
   ]
  },
  {
   "cell_type": "code",
   "execution_count": null,
   "metadata": {},
   "outputs": [],
   "source": []
  },
  {
   "cell_type": "markdown",
   "metadata": {},
   "source": [
    "## Django function"
   ]
  },
  {
   "cell_type": "code",
   "execution_count": null,
   "metadata": {},
   "outputs": [],
   "source": [
    "from django.http import JsonResponse\n",
    "import pandas as pd\n",
    "from django.shortcuts import render\n",
    "from django.views.decorators.csrf import csrf_exempt\n",
    "\n",
    "def load_data_pk():\n",
    "    # Read data from csv file\n",
    "    df_data_pk = pd.read_csv('app_taipei_mayor/dataset/pk_taipei_mayor_election.csv')\n",
    "    \n",
    "    global data\n",
    "    data={}\n",
    "    for k,v in zip(df_data_pk.name, df_data_pk.value):\n",
    "        data[k]=eval(v)\n",
    "    \n",
    "    # 沒用到的變數刪除之\n",
    "    del df_data_pk\n",
    "\n",
    "# load pk data\n",
    "load_data_pk()\n",
    "\n",
    "def home(request):\n",
    "    return render(request,'app_taipei_mayor/home.html')\n",
    "\n",
    "# csrf_exempt is used for POST\n",
    "# 單獨指定這一支程式忽略csrf驗證\n",
    "@csrf_exempt\n",
    "def api_get_taipei_mayor_data(request):\n",
    "    return JsonResponse(data)\n",
    "\n",
    "print('app taipei mayor leaderboard was loaded!')\n"
   ]
  }
 ],
 "metadata": {
  "kernelspec": {
   "display_name": "Python 3.8.12 ('ai23')",
   "language": "python",
   "name": "python3"
  },
  "language_info": {
   "codemirror_mode": {
    "name": "ipython",
    "version": 3
   },
   "file_extension": ".py",
   "mimetype": "text/x-python",
   "name": "python",
   "nbconvert_exporter": "python",
   "pygments_lexer": "ipython3",
   "version": "3.8.12"
  },
  "orig_nbformat": 4,
  "vscode": {
   "interpreter": {
    "hash": "2524f329b5609d74e66f331aeb181c6a96d56433d7d7e2bf478ea5bf8e2b1439"
   }
  }
 },
 "nbformat": 4,
 "nbformat_minor": 2
}
